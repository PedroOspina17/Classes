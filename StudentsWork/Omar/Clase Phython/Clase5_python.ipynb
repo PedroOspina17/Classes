{
 "cells": [
  {
   "cell_type": "markdown",
   "metadata": {},
   "source": [
    "# Ejm_1 While"
   ]
  },
  {
   "cell_type": "code",
   "execution_count": null,
   "metadata": {},
   "outputs": [],
   "source": [
    "c_us=2\n",
    "psw=120\n",
    "while(c_us!=1 or psw!=1234):\n",
    "    c_us=int(input(\"Ingrese el codigo de usuario: \"))\n",
    "    psw=int(input(\"Ingrese la contraseña: \"))\n",
    "else:\n",
    "    print(\"Codigo y contraseña correcta!\")\n"
   ]
  },
  {
   "cell_type": "markdown",
   "metadata": {},
   "source": [
    "# Ejm_2 While"
   ]
  },
  {
   "cell_type": "code",
   "execution_count": null,
   "metadata": {},
   "outputs": [],
   "source": [
    "R=\"\"\n",
    "while(R!=\"NO\"):\n",
    "    R=input(\"Desea continuar? SI/NO: \")"
   ]
  },
  {
   "cell_type": "markdown",
   "metadata": {},
   "source": [
    "# Ejm_3 While"
   ]
  },
  {
   "cell_type": "code",
   "execution_count": null,
   "metadata": {},
   "outputs": [],
   "source": [
    "R=\"si\"\n",
    "prom=0\n",
    "acum_n=0\n",
    "cant_n=0\n",
    "while(R!=\"no\" and R==\"si\"):\n",
    "    nota=int(input(\"Ingrese la nota: \"))\n",
    "    acum_n+=nota\n",
    "    print(\"Total de notas: \",acum_n)\n",
    "    cant_n+=1\n",
    "    print(\"Cantidad de notas: \",cant_n)\n",
    "    prom=acum_n/cant_n\n",
    "    print(\"Promedio de notas: \",prom)\n",
    "    R=input(\"Desea ingresar mas notas?...\")"
   ]
  },
  {
   "cell_type": "markdown",
   "metadata": {},
   "source": [
    "# Ejm_4 While"
   ]
  },
  {
   "cell_type": "code",
   "execution_count": null,
   "metadata": {},
   "outputs": [],
   "source": [
    "num=1\n",
    "cont_n=0\n",
    "acum_n=0\n",
    "prom=0\n",
    "while (num>0):\n",
    "    num=int(input(\"Digite un numero natural: \"))\n",
    "    cont_n+=1\n",
    "    acum_n+=num\n",
    "prom=acum_n/cont_n\n",
    "print(\"Total de numeros ingresados: \",cont_n)\n",
    "print(\"Suma total de valores: \",acum_n)\n",
    "print(\"El promedio es: \",prom)"
   ]
  },
  {
   "cell_type": "markdown",
   "metadata": {},
   "source": [
    "# Ejm_5"
   ]
  },
  {
   "cell_type": "code",
   "execution_count": null,
   "metadata": {},
   "outputs": [],
   "source": [
    "i=0\n",
    "prom=0\n",
    "acum_n=0\n",
    "n_m=0\n",
    "n_men=5\n",
    "while(i<5):\n",
    "    i+=1\n",
    "    n=int(input(\"Ingrese la nota del estudiante: \"))\n",
    "    acum_n+=n\n",
    "    if(n>n_m):\n",
    "        n_m=n\n",
    "    if(n<n_men):\n",
    "        n_men=n\n",
    "        \n",
    "        \n",
    "print(\"Nota mayor= \",n_m)        \n",
    "print(\"Nota menor= \",n_men)   \n",
    "prom=acum_n/5\n",
    "print(\"El promedio del grupo es= \",prom)"
   ]
  },
  {
   "cell_type": "markdown",
   "metadata": {},
   "source": [
    "# Ejm_Ext While"
   ]
  },
  {
   "cell_type": "code",
   "execution_count": 2,
   "metadata": {},
   "outputs": [
    {
     "name": "stdout",
     "output_type": "stream",
     "text": [
      "Ingrese la nota: 5\n",
      "Desea ingresar mas notas?: si\n",
      "Ingrese la nota: 8\n",
      "Nota invalida!\n",
      "Desea ingresar mas notas?: si\n",
      "Ingrese la nota: 3\n",
      "Desea ingresar mas notas?: si2\n",
      "sumatoria de notas=  8\n",
      "Cantidad de notas=  3\n"
     ]
    }
   ],
   "source": [
    "r=\"si\"\n",
    "acum=0\n",
    "cont=0\n",
    "nota=0\n",
    "while(r==\"si\"):\n",
    "    nota=int(input(\"Ingrese la nota: \"))\n",
    "    if(nota>=0 and nota<=5):\n",
    "        r=input(\"Desea ingresar mas notas?: \")\n",
    "        cont+=1\n",
    "        acum+=nota\n",
    "    elif(nota<0 or nota>5):\n",
    "        print(\"Nota invalida!\")\n",
    "        r=input(\"Desea ingresar mas notas?: \")\n",
    "        cont+=1\n",
    "        nota=0\n",
    "print(\"sumatoria de notas= \",acum)\n",
    "print(\"Cantidad de notas= \",cont)"
   ]
  },
  {
   "cell_type": "markdown",
   "metadata": {},
   "source": [
    "# Ejm_6 While"
   ]
  },
  {
   "cell_type": "code",
   "execution_count": null,
   "metadata": {},
   "outputs": [],
   "source": [
    "i=0\n",
    "n=0\n",
    "suma=0\n",
    "n=int(input(\"Ingrese el numero deseado: \"))\n",
    "while(i<n):\n",
    "    i+=1\n",
    "    print(i)\n",
    "    suma+=i\n",
    "print(\"La suma de los numeros es: \",suma)"
   ]
  },
  {
   "cell_type": "markdown",
   "metadata": {},
   "source": [
    "# Ejm_7 While"
   ]
  },
  {
   "cell_type": "code",
   "execution_count": null,
   "metadata": {},
   "outputs": [],
   "source": [
    "dato=0\n",
    "suma_n=0\n",
    "i=0\n",
    "while(i<5):\n",
    "    i+=1\n",
    "    dato=int(input(\"Ingrese el dato deseado: \"))\n",
    "    if(dato<0):\n",
    "        suma_n+=dato\n",
    "print(\"La suma de datos negativos es: \", suma_n)\n",
    "        "
   ]
  },
  {
   "cell_type": "markdown",
   "metadata": {},
   "source": [
    "# Ejm_8 While"
   ]
  },
  {
   "cell_type": "code",
   "execution_count": null,
   "metadata": {},
   "outputs": [],
   "source": [
    "i=0\n",
    "n=0\n",
    "f=1\n",
    "n=int(input(\"Ingrese el numero que desea: \"))\n",
    "while(i<n):\n",
    "    i+=1\n",
    "    f*=i\n",
    "    print(i)\n",
    "print(\"El factor de los numeros es:\",f)"
   ]
  },
  {
   "cell_type": "markdown",
   "metadata": {},
   "source": [
    "# Ejm_9 While"
   ]
  },
  {
   "cell_type": "code",
   "execution_count": 3,
   "metadata": {},
   "outputs": [
    {
     "name": "stdout",
     "output_type": "stream",
     "text": [
      "Ingrese la cantidad del lote:5\n",
      "Ingrese el color de foco que desea:r\n",
      "Ingrese el color de foco que desea:v\n",
      "Ingrese el color de foco que desea:r\n",
      "Ingrese el color de foco que desea:b\n",
      "Ingrese el color de foco que desea:b\n",
      "Total de focos verdes:  1\n",
      "Total de focos blancos:  2\n",
      "Total de focos rojos:  2\n"
     ]
    }
   ],
   "source": [
    "afv=0\n",
    "afb=0\n",
    "afr=0\n",
    "i=0\n",
    "n=int(input(\"Ingrese la cantidad del lote:\"))\n",
    "while(i<n):\n",
    "    i+=1\n",
    "    cf=input(\"Ingrese el color de foco que desea:\")\n",
    "    if(cf==\"v\"):\n",
    "        afv+=1\n",
    "    if(cf==\"b\"):\n",
    "        afb+=1\n",
    "    if(cf==\"r\"):\n",
    "        afr+=1\n",
    "    if(cf!=\"v\" and cf!=\"b\" and cf!=\"r\"):\n",
    "        print(\"El color de foco se encuentra agotado.\")\n",
    "print(\"Total de focos verdes: \",afv)\n",
    "print(\"Total de focos blancos: \",afb)\n",
    "print(\"Total de focos rojos: \",afr)"
   ]
  },
  {
   "cell_type": "markdown",
   "metadata": {},
   "source": [
    "# Ejm_Ext While"
   ]
  },
  {
   "cell_type": "code",
   "execution_count": null,
   "metadata": {},
   "outputs": [],
   "source": []
  }
 ],
 "metadata": {
  "kernelspec": {
   "display_name": "Python 3",
   "language": "python",
   "name": "python3"
  },
  "language_info": {
   "codemirror_mode": {
    "name": "ipython",
    "version": 3
   },
   "file_extension": ".py",
   "mimetype": "text/x-python",
   "name": "python",
   "nbconvert_exporter": "python",
   "pygments_lexer": "ipython3",
   "version": "3.7.6"
  }
 },
 "nbformat": 4,
 "nbformat_minor": 4
}
