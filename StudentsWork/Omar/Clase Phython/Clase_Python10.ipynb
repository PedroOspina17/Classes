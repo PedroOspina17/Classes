{
 "cells": [
  {
   "cell_type": "markdown",
   "metadata": {},
   "source": [
    "# Ejm_0"
   ]
  },
  {
   "cell_type": "code",
   "execution_count": 1,
   "metadata": {},
   "outputs": [],
   "source": [
    "def suma(n1,n2):\n",
    "    total=n1+n2\n",
    "    return total"
   ]
  },
  {
   "cell_type": "code",
   "execution_count": 2,
   "metadata": {},
   "outputs": [
    {
     "name": "stdout",
     "output_type": "stream",
     "text": [
      "ingrese n1:8\n",
      "ingrese n2:5\n",
      "13\n"
     ]
    }
   ],
   "source": [
    "n1=int(input(\"ingrese n1:\"))\n",
    "n2=int(input(\"ingrese n2:\"))\n",
    "tSuma=suma(n1,n2)\n",
    "print(tSuma)"
   ]
  },
  {
   "cell_type": "markdown",
   "metadata": {},
   "source": [
    "# Ejm_1"
   ]
  },
  {
   "cell_type": "code",
   "execution_count": 3,
   "metadata": {},
   "outputs": [
    {
     "name": "stdout",
     "output_type": "stream",
     "text": [
      "Digite numero:8\n",
      "Digite numero:5\n",
      "Ingrese operacion:*\n"
     ]
    },
    {
     "data": {
      "text/plain": [
       "40"
      ]
     },
     "execution_count": 3,
     "metadata": {},
     "output_type": "execute_result"
    }
   ],
   "source": [
    "def oper():\n",
    "    num1=int(input(\"Digite numero:\"))\n",
    "    num2=int(input(\"Digite numero:\"))\n",
    "    ope=input(\"Ingrese operacion:\")\n",
    "    if (ope==\"+\"):\n",
    "        total=num1+num2\n",
    "    elif (ope==\"-\"):\n",
    "        total=num1-num2\n",
    "    elif (ope==\"*\"):\n",
    "        total=num1*num2\n",
    "    elif (ope==\"/\"):\n",
    "        total=num1/num2\n",
    "    return total\n",
    "oper()"
   ]
  },
  {
   "cell_type": "markdown",
   "metadata": {},
   "source": [
    "# Ejm_2"
   ]
  },
  {
   "cell_type": "code",
   "execution_count": 4,
   "metadata": {},
   "outputs": [
    {
     "name": "stdout",
     "output_type": "stream",
     "text": [
      "Ingrese precio:$1200\n",
      "Ingrese precio:$3500\n",
      "El Total de precio es:$4700.0\n"
     ]
    }
   ],
   "source": [
    "pre1=float(input(\"Ingrese precio:$\"))\n",
    "pre2=float(input(\"Ingrese precio:$\"))\n",
    "tPrecio=suma(pre1,pre2)\n",
    "print(\"El Total de precio es:${}\".format(tPrecio))"
   ]
  },
  {
   "cell_type": "markdown",
   "metadata": {},
   "source": [
    "# Ejm_3"
   ]
  },
  {
   "cell_type": "code",
   "execution_count": 16,
   "metadata": {},
   "outputs": [],
   "source": [
    "def lista():\n",
    "    l_nom=[]\n",
    "    c_nom=int(input(\"Ingrese la cantidad de nombres: \"))\n",
    "    for nom in range (c_nom):\n",
    "        nom=input(\"Digite el nombre: \")\n",
    "        l_nom.append(nom)\n",
    "        \n",
    "    return l_nom\n",
    "   "
   ]
  },
  {
   "cell_type": "code",
   "execution_count": 6,
   "metadata": {},
   "outputs": [
    {
     "name": "stdout",
     "output_type": "stream",
     "text": [
      "Ingrese la cantidad de nombres: 2\n",
      "Digite el nombre: andres\n",
      "Digite el nombre: felipe\n",
      "Nombres:['andres', 'felipe']\n"
     ]
    }
   ],
   "source": [
    "lista_noms=lista()\n",
    "print(\"Nombres:{}\".format(lista_noms))"
   ]
  },
  {
   "cell_type": "markdown",
   "metadata": {},
   "source": [
    "# Ejm_4"
   ]
  },
  {
   "cell_type": "code",
   "execution_count": 15,
   "metadata": {},
   "outputs": [],
   "source": [
    "def c_vocales(lista_noms):\n",
    "    for nombre in lista_noms:\n",
    "        cont_v=0\n",
    "        for vocales in nombre:\n",
    "            if(vocales==\"a\" or vocales==\"e\" or vocales==\"i\" or vocales==\"o\" or vocales==\"u\"):\n",
    "                cont_v+=1\n",
    "        print(\"Total de vocales en {}: {}\".format(nombre,cont_v))\n",
    "    return lista_noms"
   ]
  },
  {
   "cell_type": "code",
   "execution_count": 8,
   "metadata": {},
   "outputs": [
    {
     "name": "stdout",
     "output_type": "stream",
     "text": [
      "Total de vocales en omar: 2\n",
      "Total de vocales en andrea: 3\n",
      "Total de vocales en samuel: 3\n"
     ]
    },
    {
     "data": {
      "text/plain": [
       "['omar', 'andrea', 'samuel']"
      ]
     },
     "execution_count": 8,
     "metadata": {},
     "output_type": "execute_result"
    }
   ],
   "source": [
    "c_vocales([\"omar\", \"andrea\", \"samuel\"])"
   ]
  },
  {
   "cell_type": "markdown",
   "metadata": {},
   "source": [
    "# Ejm_4.1"
   ]
  },
  {
   "cell_type": "code",
   "execution_count": 9,
   "metadata": {},
   "outputs": [],
   "source": [
    "def c_vocal(l_nom):\n",
    "    for nombre in l_nom:\n",
    "        cont_a=0\n",
    "        cont_e=0\n",
    "        cont_i=0\n",
    "        cont_o=0\n",
    "        cont_u=0\n",
    "        print(nombre)\n",
    "        for vocal in nombre:\n",
    "            if(vocal==\"a\"):\n",
    "                cont_a+=1\n",
    "            elif(vocal==\"e\"):\n",
    "                cont_e+=1\n",
    "            elif(vocal==\"i\"):\n",
    "                cont_i+=1\n",
    "            elif(vocal==\"o\"):\n",
    "                cont_o+=1\n",
    "            elif(vocal==\"u\"):\n",
    "                cont_u+=1\n",
    "        print(\"Total vocal A: \",cont_a)\n",
    "        print(\"Total vocal E: \",cont_e)\n",
    "        print(\"Total vocal I: \",cont_i)\n",
    "        print(\"Total vocal O: \",cont_o)\n",
    "        print(\"Total vocal U: \",cont_u)\n",
    "    return l_nom"
   ]
  },
  {
   "cell_type": "code",
   "execution_count": 10,
   "metadata": {},
   "outputs": [
    {
     "name": "stdout",
     "output_type": "stream",
     "text": [
      "pedro\n",
      "Total vocal A:  0\n",
      "Total vocal E:  1\n",
      "Total vocal I:  0\n",
      "Total vocal O:  1\n",
      "Total vocal U:  0\n",
      "david\n",
      "Total vocal A:  1\n",
      "Total vocal E:  0\n",
      "Total vocal I:  1\n",
      "Total vocal O:  0\n",
      "Total vocal U:  0\n",
      "estefania\n",
      "Total vocal A:  2\n",
      "Total vocal E:  2\n",
      "Total vocal I:  1\n",
      "Total vocal O:  0\n",
      "Total vocal U:  0\n"
     ]
    },
    {
     "data": {
      "text/plain": [
       "['pedro', 'david', 'estefania']"
      ]
     },
     "execution_count": 10,
     "metadata": {},
     "output_type": "execute_result"
    }
   ],
   "source": [
    "c_vocal([\"pedro\",\"david\",\"estefania\"])"
   ]
  },
  {
   "cell_type": "markdown",
   "metadata": {},
   "source": [
    "# Ejm 5"
   ]
  },
  {
   "cell_type": "code",
   "execution_count": 25,
   "metadata": {},
   "outputs": [
    {
     "name": "stdout",
     "output_type": "stream",
     "text": [
      "Ingrese la cantidad de nombres: 3\n",
      "Digite el nombre: estefania\n",
      "Digite el nombre: ricardo\n",
      "Digite el nombre: jorge\n",
      "Total de vocales en estefania: 5\n",
      "Total de vocales en ricardo: 3\n",
      "Total de vocales en jorge: 2\n"
     ]
    },
    {
     "data": {
      "text/plain": [
       "['estefania', 'ricardo', 'jorge']"
      ]
     },
     "execution_count": 25,
     "metadata": {},
     "output_type": "execute_result"
    }
   ],
   "source": [
    "lista_N=lista()\n",
    "c_vocales(lista_N)"
   ]
  },
  {
   "cell_type": "markdown",
   "metadata": {},
   "source": [
    "# Ejm 6"
   ]
  },
  {
   "cell_type": "code",
   "execution_count": 16,
   "metadata": {},
   "outputs": [],
   "source": [
    "def datos_p():\n",
    "    lista_d=[]\n",
    "    tipo_dato=input(\"Escriba el tipo de dato que desea: \")\n",
    "    cant_p=int(input(\"Ingrese la cantdad de personas: \"))\n",
    "    for i in range (cant_p):\n",
    "        dato=input(\"Digite el dato de la persona {}: \".format(i+1))\n",
    "        lista_d.append(dato)\n",
    "    return lista_d"
   ]
  },
  {
   "cell_type": "code",
   "execution_count": 17,
   "metadata": {},
   "outputs": [
    {
     "name": "stdout",
     "output_type": "stream",
     "text": [
      "Escriba el tipo de dato que desea: Edad\n",
      "Ingrese la cantdad de personas: 5\n",
      "Digite el dato de la persona 1: 12\n",
      "Digite el dato de la persona 2: 36\n",
      "Digite el dato de la persona 3: 28\n",
      "Digite el dato de la persona 4: 49\n",
      "Digite el dato de la persona 5: 53\n",
      "Listado de datos:  ['12', '36', '28', '49', '53']\n"
     ]
    }
   ],
   "source": [
    "lista_datos= datos_p()\n",
    "print(\"Listado de datos: \",lista_datos)"
   ]
  },
  {
   "cell_type": "markdown",
   "metadata": {},
   "source": [
    "# Ejm 7"
   ]
  },
  {
   "cell_type": "code",
   "execution_count": 48,
   "metadata": {},
   "outputs": [],
   "source": [
    "def dato_per():\n",
    "    tipo_dato=input(\"Escriba el tipo de dato que desea: \")\n",
    "    cant_d=int(input(\"Ingrese la cantdad de {}: \".format(tipo_dato)))\n",
    "    lista_d=[]\n",
    "    for i in range (cant_d):\n",
    "        dato=input(\"Digite {}  {}: \".format(tipo_dato,i+1))\n",
    "        lista_d.append(dato)\n",
    "    print(\"listado de {}: {} \".format(tipo_dato,lista_d))\n",
    "    return lista_d"
   ]
  },
  {
   "cell_type": "code",
   "execution_count": 49,
   "metadata": {},
   "outputs": [
    {
     "name": "stdout",
     "output_type": "stream",
     "text": [
      "Ingrese la cantidad de tipo de datos q desea: 2\n",
      "Escriba el tipo de dato que desea: Edad\n",
      "Ingrese la cantdad de Edad: 3\n",
      "Digite Edad  1: 25\n",
      "Digite Edad  2: 36\n",
      "Digite Edad  3: 48\n",
      "listado de Edad: ['25', '36', '48'] \n",
      "Escriba el tipo de dato que desea: Nombre\n",
      "Ingrese la cantdad de Nombre: 2\n",
      "Digite Nombre  1: Andrea\n",
      "Digite Nombre  2: Samuel\n",
      "listado de Nombre: ['Andrea', 'Samuel'] \n"
     ]
    }
   ],
   "source": [
    "cant_td=int(input(\"Ingrese la cantidad de tipo de datos q desea: \"))\n",
    "for x in range (cant_td):\n",
    "    listado_datos=dato_per()  "
   ]
  },
  {
   "cell_type": "markdown",
   "metadata": {},
   "source": [
    "# Ejm 8"
   ]
  },
  {
   "cell_type": "code",
   "execution_count": 12,
   "metadata": {},
   "outputs": [],
   "source": [
    "def igual_cant_d():\n",
    "    cant_td=int(input(\"Ingrese la cantidad de tipos de datos que desea: \"))\n",
    "    cant_d=int(input(\"Ingrese la cantidad de datos: \"))\n",
    "    for i in range (cant_td):\n",
    "        tipo_dato=input(\"Escriba el tipo de dato que desea: \")\n",
    "        lista_d=()\n",
    "        for e in range (cant_d):\n",
    "            dato=input(\"Digite {}  {}: \".format(tipo_dato,e+1))\n",
    "            lista_d.append(dato)\n",
    "        print(\"{}: {} \".format(tipo_dato,lista_d))\n",
    "    return lista_d"
   ]
  },
  {
   "cell_type": "code",
   "execution_count": 14,
   "metadata": {},
   "outputs": [
    {
     "name": "stdout",
     "output_type": "stream",
     "text": [
      "Ingrese la cantidad de tipos de datos que desea: 2\n",
      "Ingrese la cantidad de datos: 2\n",
      "Escriba el tipo de dato que desea: edad\n",
      "Digite edad  1: 25\n"
     ]
    },
    {
     "ename": "AttributeError",
     "evalue": "'tuple' object has no attribute 'append'",
     "output_type": "error",
     "traceback": [
      "\u001b[1;31m---------------------------------------------------------------------------\u001b[0m",
      "\u001b[1;31mAttributeError\u001b[0m                            Traceback (most recent call last)",
      "\u001b[1;32m<ipython-input-14-9d1a7161de66>\u001b[0m in \u001b[0;36m<module>\u001b[1;34m\u001b[0m\n\u001b[1;32m----> 1\u001b[1;33m \u001b[0mlistado_datos\u001b[0m\u001b[1;33m=\u001b[0m \u001b[0migual_cant_d\u001b[0m\u001b[1;33m(\u001b[0m\u001b[1;33m)\u001b[0m\u001b[1;33m\u001b[0m\u001b[1;33m\u001b[0m\u001b[0m\n\u001b[0m",
      "\u001b[1;32m<ipython-input-12-bea796ae5e3b>\u001b[0m in \u001b[0;36migual_cant_d\u001b[1;34m()\u001b[0m\n\u001b[0;32m      7\u001b[0m         \u001b[1;32mfor\u001b[0m \u001b[0me\u001b[0m \u001b[1;32min\u001b[0m \u001b[0mrange\u001b[0m \u001b[1;33m(\u001b[0m\u001b[0mcant_d\u001b[0m\u001b[1;33m)\u001b[0m\u001b[1;33m:\u001b[0m\u001b[1;33m\u001b[0m\u001b[1;33m\u001b[0m\u001b[0m\n\u001b[0;32m      8\u001b[0m             \u001b[0mdato\u001b[0m\u001b[1;33m=\u001b[0m\u001b[0minput\u001b[0m\u001b[1;33m(\u001b[0m\u001b[1;34m\"Digite {}  {}: \"\u001b[0m\u001b[1;33m.\u001b[0m\u001b[0mformat\u001b[0m\u001b[1;33m(\u001b[0m\u001b[0mtipo_dato\u001b[0m\u001b[1;33m,\u001b[0m\u001b[0me\u001b[0m\u001b[1;33m+\u001b[0m\u001b[1;36m1\u001b[0m\u001b[1;33m)\u001b[0m\u001b[1;33m)\u001b[0m\u001b[1;33m\u001b[0m\u001b[1;33m\u001b[0m\u001b[0m\n\u001b[1;32m----> 9\u001b[1;33m             \u001b[0mlista_d\u001b[0m\u001b[1;33m.\u001b[0m\u001b[0mappend\u001b[0m\u001b[1;33m(\u001b[0m\u001b[0mdato\u001b[0m\u001b[1;33m)\u001b[0m\u001b[1;33m\u001b[0m\u001b[1;33m\u001b[0m\u001b[0m\n\u001b[0m\u001b[0;32m     10\u001b[0m         \u001b[0mprint\u001b[0m\u001b[1;33m(\u001b[0m\u001b[1;34m\"{}: {} \"\u001b[0m\u001b[1;33m.\u001b[0m\u001b[0mformat\u001b[0m\u001b[1;33m(\u001b[0m\u001b[0mtipo_dato\u001b[0m\u001b[1;33m,\u001b[0m\u001b[0mlista_d\u001b[0m\u001b[1;33m)\u001b[0m\u001b[1;33m)\u001b[0m\u001b[1;33m\u001b[0m\u001b[1;33m\u001b[0m\u001b[0m\n\u001b[0;32m     11\u001b[0m     \u001b[1;32mreturn\u001b[0m \u001b[0mlista_d\u001b[0m\u001b[1;33m\u001b[0m\u001b[1;33m\u001b[0m\u001b[0m\n",
      "\u001b[1;31mAttributeError\u001b[0m: 'tuple' object has no attribute 'append'"
     ]
    }
   ],
   "source": [
    "listado_datos= igual_cant_d()"
   ]
  }
 ],
 "metadata": {
  "kernelspec": {
   "display_name": "Python 3",
   "language": "python",
   "name": "python3"
  },
  "language_info": {
   "codemirror_mode": {
    "name": "ipython",
    "version": 3
   },
   "file_extension": ".py",
   "mimetype": "text/x-python",
   "name": "python",
   "nbconvert_exporter": "python",
   "pygments_lexer": "ipython3",
   "version": "3.7.6"
  }
 },
 "nbformat": 4,
 "nbformat_minor": 4
}
