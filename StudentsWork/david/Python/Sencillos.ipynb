{
 "cells": [
  {
   "cell_type": "markdown",
   "metadata": {},
   "source": [
    "### 1 ejercicio"
   ]
  },
  {
   "cell_type": "code",
   "execution_count": 2,
   "metadata": {},
   "outputs": [
    {
     "name": "stdout",
     "output_type": "stream",
     "text": [
      "36\n"
     ]
    }
   ],
   "source": [
    "num1=9\n",
    "num2=4\n",
    "solucion=num1*num2\n",
    "print(solucion)\n"
   ]
  },
  {
   "cell_type": "markdown",
   "metadata": {},
   "source": [
    "## 2 ejercicio"
   ]
  },
  {
   "cell_type": "code",
   "execution_count": 29,
   "metadata": {},
   "outputs": [
    {
     "name": "stdout",
     "output_type": "stream",
     "text": [
      "escriba su año de nacimiento1999\n",
      "ud tiene  21  años\n"
     ]
    }
   ],
   "source": [
    "años=int(input(\"escriba su año de nacimiento\"))\n",
    "añoac=2020\n",
    "edad=añoac-años\n",
    "print(\"ud tiene \" ,edad, \" años\")"
   ]
  },
  {
   "cell_type": "markdown",
   "metadata": {},
   "source": [
    "## 3 ejercicio"
   ]
  },
  {
   "cell_type": "code",
   "execution_count": 5,
   "metadata": {},
   "outputs": [
    {
     "name": "stdout",
     "output_type": "stream",
     "text": [
      "su nota es  3.533333333333333\n"
     ]
    }
   ],
   "source": [
    "nota1=4.3\n",
    "nota2=3.5\n",
    "nota3=2.8\n",
    "suma=nota1+nota2+nota3\n",
    "nota=suma/3\n",
    "print(\"su nota es \",nota)"
   ]
  },
  {
   "cell_type": "markdown",
   "metadata": {},
   "source": [
    "## 4 ejercicio"
   ]
  },
  {
   "cell_type": "code",
   "execution_count": 18,
   "metadata": {},
   "outputs": [
    {
     "name": "stdout",
     "output_type": "stream",
     "text": [
      "tenmos 86.0 grados\n"
     ]
    }
   ],
   "source": [
    "grados=30*1.8+32\n",
    "print(\"tenmos\",grados,\"grados\")"
   ]
  },
  {
   "cell_type": "markdown",
   "metadata": {},
   "source": [
    "## 5 ejercicio"
   ]
  },
  {
   "cell_type": "code",
   "execution_count": 32,
   "metadata": {},
   "outputs": [
    {
     "name": "stdout",
     "output_type": "stream",
     "text": [
      "escribe unnumero10\n",
      "20\n"
     ]
    }
   ],
   "source": [
    "num=int(input(\"escribe unnumero\"))\n",
    "num1=num+10\n",
    "print(num1)"
   ]
  },
  {
   "cell_type": "markdown",
   "metadata": {},
   "source": [
    "## 6 ejercicio"
   ]
  },
  {
   "cell_type": "code",
   "execution_count": 39,
   "metadata": {},
   "outputs": [
    {
     "name": "stdout",
     "output_type": "stream",
     "text": [
      "ingrese los grados40\n",
      "tenmos 104.0 grados\n"
     ]
    }
   ],
   "source": [
    "grados=int(input(\"ingrese los grados\"))\n",
    "grados1=grados*1.8+32\n",
    "print(\"tenmos\",grados1,\"grados\")"
   ]
  },
  {
   "cell_type": "markdown",
   "metadata": {},
   "source": [
    "## 7 ejercicio"
   ]
  },
  {
   "cell_type": "code",
   "execution_count": 41,
   "metadata": {},
   "outputs": [
    {
     "name": "stdout",
     "output_type": "stream",
     "text": [
      "escriba su nombredavid\n",
      "escriba sus horas trabajadas3\n",
      "escriba el balor de las horas50000\n",
      "MR david su pago seria de 150000\n"
     ]
    }
   ],
   "source": [
    "nombre=input(\"escriba su nombre\")\n",
    "horasT=int(input(\"escriba sus horas trabajadas\"))\n",
    "valorhora=int(input(\"escriba el balor de las horas\"))\n",
    "total=valorhora*horasT\n",
    "print(\"MR\",nombre,\"su pago seria de\",total)"
   ]
  }
 ],
 "metadata": {
  "kernelspec": {
   "display_name": "Python 3",
   "language": "python",
   "name": "python3"
  },
  "language_info": {
   "codemirror_mode": {
    "name": "ipython",
    "version": 3
   },
   "file_extension": ".py",
   "mimetype": "text/x-python",
   "name": "python",
   "nbconvert_exporter": "python",
   "pygments_lexer": "ipython3",
   "version": "3.7.6"
  }
 },
 "nbformat": 4,
 "nbformat_minor": 4
}
