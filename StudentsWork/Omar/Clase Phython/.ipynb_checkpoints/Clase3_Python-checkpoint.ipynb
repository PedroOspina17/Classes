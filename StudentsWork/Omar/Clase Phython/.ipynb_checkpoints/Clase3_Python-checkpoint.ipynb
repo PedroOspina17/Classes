{
 "cells": [
  {
   "cell_type": "markdown",
   "metadata": {},
   "source": [
    "# Ejm_5 Compañia"
   ]
  },
  {
   "cell_type": "code",
   "execution_count": null,
   "metadata": {},
   "outputs": [],
   "source": [
    "cant_km=int(input(\"Digite la cantidad de kms: \"))\n",
    "km_f=300\n",
    "monto_f=300000\n",
    "if(cant_km<=km_f):\n",
    "    valor_f=monto_f-(monto_f/1.20)\n",
    "    print(\"El valor a pagar es de: \",monto_f)\n",
    "    print(\"El descuento es de: \",valor_f)\n",
    "elif(cant_km>300 and cant_km<=1000):\n",
    "    kms_ad1=cant_km-km_f\n",
    "    monto_ad1=kms_ad1*15000\n",
    "    print(monto_ad1)\n",
    "    valor_ad1=monto_f+monto_ad1\n",
    "    print(valor_ad1)\n",
    "    valor_f1=valor_ad1-(valor_ad1/1.20)\n",
    "    print(\"El valor a pagar es de: \",valor_ad1)\n",
    "    print(\"El descuento es de: \",valor_f1)\n",
    "elif(cant_km>1000):\n",
    "    kms_ad2=cant_km-1000\n",
    "    print(kms_ad2)\n",
    "    monto_ad2=(kms_ad2*10000)\n",
    "    print(monto_ad2)\n",
    "    valor_ad2=valor_ad1+monto_ad2\n",
    "    print(valor_ad2)\n",
    "    valor_f2=valor_ad2-(valor_ad2/1.20)\n",
    "    print(\"El valor a pagar es de: \",valor_ad2)\n",
    "    print(\"El descuento es de: \",valor_f2)"
   ]
  },
  {
   "cell_type": "code",
   "execution_count": 54,
   "metadata": {},
   "outputs": [
    {
     "name": "stdout",
     "output_type": "stream",
     "text": [
      "Digite la hora: 23\n",
      "Digite los minutos: 59\n",
      "Digite los segundos: 59\n",
      "entro 2\n",
      "Horas:  0\n",
      "Minutos:  0\n",
      "Segundos:  0\n"
     ]
    }
   ],
   "source": [
    "horas=int(input(\"Digite la hora: \"))\n",
    "minutos=int(input(\"Digite los minutos: \"))\n",
    "segundos=int(input(\"Digite los segundos: \"))\n",
    "\n",
    "if(segundos>=0 and segundos<=58):\n",
    "    print(\"entro 1\")\n",
    "    segundos+=1\n",
    "if(segundos==59):\n",
    "    print(\"entro 2\")\n",
    "    segundos=0 \n",
    "    minutos+=1\n",
    "    if(minutos==60):\n",
    "        minutos=0\n",
    "        horas+=1\n",
    "        if(horas ==24):    \n",
    "            horas=0\n",
    "        \n",
    "print(\"Horas: \",horas)\n",
    "print(\"Minutos: \",minutos)\n",
    "print(\"Segundos: \",segundos)\n",
    "\n",
    "\n",
    "    \n"
   ]
  },
  {
   "cell_type": "code",
   "execution_count": null,
   "metadata": {},
   "outputs": [],
   "source": [
    "minutos_2=0\n",
    "    horas_2=horas+1\n",
    "    hotras_2=0"
   ]
  }
 ],
 "metadata": {
  "kernelspec": {
   "display_name": "Python 3",
   "language": "python",
   "name": "python3"
  },
  "language_info": {
   "codemirror_mode": {
    "name": "ipython",
    "version": 3
   },
   "file_extension": ".py",
   "mimetype": "text/x-python",
   "name": "python",
   "nbconvert_exporter": "python",
   "pygments_lexer": "ipython3",
   "version": "3.7.6"
  }
 },
 "nbformat": 4,
 "nbformat_minor": 4
}
