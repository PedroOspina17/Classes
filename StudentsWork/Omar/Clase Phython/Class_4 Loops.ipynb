{
 "cells": [
  {
   "cell_type": "markdown",
   "metadata": {},
   "source": [
    "# Ejm_1 For"
   ]
  },
  {
   "cell_type": "code",
   "execution_count": null,
   "metadata": {
    "scrolled": true
   },
   "outputs": [],
   "source": [
    "for i in range (1,101):\n",
    "    print(i)\n"
   ]
  },
  {
   "cell_type": "markdown",
   "metadata": {},
   "source": [
    "# Ejm_2 For"
   ]
  },
  {
   "cell_type": "code",
   "execution_count": null,
   "metadata": {
    "scrolled": true
   },
   "outputs": [],
   "source": [
    "acum=0\n",
    "for i in range (1,11):\n",
    "    print(i)\n",
    "    acum+=i       \n",
    "print(\"La suma de los numeros es: \",acum)\n",
    "    \n",
    "\n",
    "        "
   ]
  },
  {
   "cell_type": "markdown",
   "metadata": {},
   "source": [
    "# Ejm_3 For"
   ]
  },
  {
   "cell_type": "code",
   "execution_count": null,
   "metadata": {
    "scrolled": true
   },
   "outputs": [],
   "source": [
    "acum=0 \n",
    "for nota in range (1,8): \n",
    "    nota=float(input(\"Digite la nota:\"))  \n",
    "    acum+=nota\n",
    "print(acum)\n",
    "prom=acum/nota\n",
    "print(\"El promedio de nota es:\",prom)"
   ]
  },
  {
   "cell_type": "markdown",
   "metadata": {},
   "source": [
    "# Ejm_4 For"
   ]
  },
  {
   "cell_type": "code",
   "execution_count": null,
   "metadata": {
    "scrolled": true
   },
   "outputs": [],
   "source": [
    "for i in range(1,11):\n",
    "    i=int(input(\"Digite el numero: \"))\n",
    "    if (i<0):\n",
    "        continue\n",
    "    print(i)"
   ]
  },
  {
   "cell_type": "markdown",
   "metadata": {},
   "source": [
    "# Ejm_5 For"
   ]
  },
  {
   "cell_type": "code",
   "execution_count": null,
   "metadata": {
    "scrolled": true
   },
   "outputs": [],
   "source": [
    "cont_p=0\n",
    "cont_n=0\n",
    "cont_c=0\n",
    "for i in range (1,11):\n",
    "    i=int(input(\"Digite el numero: \"))\n",
    "    if(i>0):\n",
    "        cont_p+=1\n",
    "       \n",
    "    elif(i<0):\n",
    "        cont_n+=1\n",
    "        \n",
    "    elif(i==0):\n",
    "        cont_c+=1\n",
    "print(\"Cantidad de positivos: \",cont_p)\n",
    "print(\"Cantidad de negativos: \",cont_n)        \n",
    "print(\"Cantidad de ceros: \",cont_c)"
   ]
  },
  {
   "cell_type": "markdown",
   "metadata": {},
   "source": [
    "# Ejm_6 For"
   ]
  },
  {
   "cell_type": "code",
   "execution_count": null,
   "metadata": {
    "scrolled": true
   },
   "outputs": [],
   "source": [
    "num=int(input(\"Digite un numero:\"))\n",
    "for i in range (1,11):\n",
    "    if(num>0 and num<11):\n",
    "        print(\"{} x {} = {}\".format(i,num,i*num))\n",
    "else:\n",
    "    print(\"Numero invalido\")"
   ]
  },
  {
   "cell_type": "markdown",
   "metadata": {},
   "source": [
    "# Ejm_7 For"
   ]
  },
  {
   "cell_type": "code",
   "execution_count": null,
   "metadata": {
    "scrolled": false
   },
   "outputs": [],
   "source": [
    "for nom in range (3):\n",
    "    nom=input(\"Digite el nombre: \")\n",
    "    edad=int(input(\"Digite la edad: \"))\n",
    "    if(edad>0 and edad<=17):\n",
    "        print(\"Se encontró un menor de edad\")\n",
    "        print(\"Nombre: \",nom) \n",
    "        print(\"Edad: \",edad)\n",
    "        break\n",
    "        \n",
    "else:\n",
    "    print(\"No hay ningun menor de edad\")  \n"
   ]
  },
  {
   "cell_type": "markdown",
   "metadata": {},
   "source": [
    "# Ejm_8 For"
   ]
  },
  {
   "cell_type": "code",
   "execution_count": 11,
   "metadata": {},
   "outputs": [
    {
     "name": "stdout",
     "output_type": "stream",
     "text": [
      "Ingrese el producto: 5\n",
      "Digite la cantidad: 5\n",
      "Digite el precio: 5000\n",
      "Ingrese el producto: 1\n",
      "Digite la cantidad: 5\n",
      "Digite el precio: 5000\n",
      "Ingrese el producto: 2\n",
      "Digite la cantidad: 5\n",
      "Digite el precio: 5000\n",
      "Ingrese el producto: 3.\n",
      "Digite la cantidad: 5\n",
      "Digite el precio: 5000\n",
      "Ingrese el producto: 3\n",
      "Digite la cantidad: 5\n",
      "Digite el precio: 5000\n",
      "El descuento de la compra es de:  12500.0\n",
      "Valor total a pagar:  112500.0\n",
      "Cantidad total de productos:  25\n",
      "Valor total de la compra:  125000\n"
     ]
    }
   ],
   "source": [
    "total_c=0\n",
    "dto=0\n",
    "cant_t=0\n",
    "total=0\n",
    "for i in range (5):\n",
    "    pdto=input(\"Ingrese el producto: \")\n",
    "    cant=int(input(\"Digite la cantidad: \"))\n",
    "    precio=int(input(\"Digite el precio: \"))\n",
    "    cant_t+=cant\n",
    "    total_cp=cant*precio\n",
    "    total_c+=total_cp\n",
    "if (total_c>100000):\n",
    "    dto=total_c*0.1\n",
    "    total=total_c-dto\n",
    "    print(\"El descuento de la compra es de: \",dto)\n",
    "    print(\"Valor total a pagar: \",total)\n",
    "print(\"Cantidad total de productos: \",cant_t)\n",
    "print(\"Valor total de la compra: \",total_c)\n"
   ]
  },
  {
   "cell_type": "markdown",
   "metadata": {},
   "source": [
    "# Ejm_9 For"
   ]
  },
  {
   "cell_type": "code",
   "execution_count": 47,
   "metadata": {},
   "outputs": [
    {
     "name": "stdout",
     "output_type": "stream",
     "text": [
      "Ingrese la cantidad del lote de focos: 3\n",
      "Ingrese el color del foco: a\n",
      "Ingrese el color del foco: r\n",
      "Ingrese el color del foco: v\n",
      "Color de foco agotado!\n",
      "Cantidad de focos verdes:  1\n",
      "Cantidad de focos blancos:  0\n",
      "Cantidad de focos rojos:  1\n"
     ]
    }
   ],
   "source": [
    "acf_v=0\n",
    "acf_b=0\n",
    "acf_r=0\n",
    "N=int(input(\"Ingrese la cantidad del lote de focos: \"))\n",
    "for i in range (N):\n",
    "    color_f=input(\"Ingrese el color del foco: \")\n",
    "    if(color_f==\"v\"):\n",
    "        acf_v+=1\n",
    "    if(color_f==\"b\"):\n",
    "        acf_b+=1\n",
    "    if(color_f==\"r\"):\n",
    "        acf_r+=1\n",
    "    if(color_f!=\"v\" and color_f!=\"b\" and color_f!=\"r\"):\n",
    "        print(\"Color de foco agotado!\")\n",
    "print(\"Cantidad de focos verdes: \",acf_v)\n",
    "print(\"Cantidad de focos blancos: \",acf_b)  \n",
    "print(\"Cantidad de focos rojos: \",acf_r)\n"
   ]
  }
 ],
 "metadata": {
  "celltoolbar": "Raw Cell Format",
  "kernelspec": {
   "display_name": "Python 3",
   "language": "python",
   "name": "python3"
  },
  "language_info": {
   "codemirror_mode": {
    "name": "ipython",
    "version": 3
   },
   "file_extension": ".py",
   "mimetype": "text/x-python",
   "name": "python",
   "nbconvert_exporter": "python",
   "pygments_lexer": "ipython3",
   "version": "3.7.6"
  }
 },
 "nbformat": 4,
 "nbformat_minor": 4
}
