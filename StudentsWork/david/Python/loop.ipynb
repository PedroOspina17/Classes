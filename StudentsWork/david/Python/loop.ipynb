{
 "cells": [
  {
   "cell_type": "markdown",
   "metadata": {},
   "source": [
    "## de 1 a 100"
   ]
  },
  {
   "cell_type": "code",
   "execution_count": null,
   "metadata": {},
   "outputs": [],
   "source": [
    "for i in range (1,101,1):\n",
    "    print(i)\n"
   ]
  },
  {
   "cell_type": "markdown",
   "metadata": {},
   "source": [
    "## sume 5 numeros"
   ]
  },
  {
   "cell_type": "code",
   "execution_count": null,
   "metadata": {},
   "outputs": [],
   "source": [
    "suma=0\n",
    "for i in range (1,6):\n",
    "    \n",
    "    suma+=i\n",
    "    print(suma)"
   ]
  },
  {
   "cell_type": "markdown",
   "metadata": {},
   "source": [
    "## promedio de nota"
   ]
  },
  {
   "cell_type": "code",
   "execution_count": 3,
   "metadata": {},
   "outputs": [
    {
     "name": "stdout",
     "output_type": "stream",
     "text": [
      "escriba nota 1:1\n",
      "escriba nota 2:2\n",
      "escriba nota 3:3\n",
      "escriba nota 4:4\n",
      "escriba nota 5:5\n",
      "escriba nota 6:6\n",
      "escriba nota 7:7\n",
      "7\n",
      "4.0\n"
     ]
    }
   ],
   "source": [
    "suma=0\n",
    "for i in range (1,8):\n",
    "    nota=int(input(\"escriba nota {}:\".format(i)) )\n",
    "    suma+=nota\n",
    "    div=suma/7\n",
    "print(nota)\n",
    "print(div)"
   ]
  },
  {
   "cell_type": "markdown",
   "metadata": {},
   "source": [
    "## numeros positivos"
   ]
  },
  {
   "cell_type": "code",
   "execution_count": 2,
   "metadata": {},
   "outputs": [
    {
     "name": "stdout",
     "output_type": "stream",
     "text": [
      "escriba numero 1:1\n",
      "1\n",
      "escriba numero 2:2\n",
      "2\n",
      "escriba numero 3:3\n",
      "3\n",
      "escriba numero 4:4\n",
      "4\n",
      "escriba numero 5:5\n",
      "5\n",
      "escriba numero 6:-4\n",
      "escriba numero 7:-4\n",
      "escriba numero 8:-4\n",
      "escriba numero 9:-4\n",
      "escriba numero 10:-4\n"
     ]
    }
   ],
   "source": [
    "for i in range (1,11):\n",
    "    numero=int(input(\"escriba numero {}:\".format(i)) )\n",
    "    if (numero>=0):\n",
    "        print(numero)"
   ]
  },
  {
   "cell_type": "markdown",
   "metadata": {},
   "source": [
    "#### cunatos positivos,negativos,ceros"
   ]
  },
  {
   "cell_type": "code",
   "execution_count": 12,
   "metadata": {},
   "outputs": [
    {
     "name": "stdout",
     "output_type": "stream",
     "text": [
      "escriba numero 1:1\n",
      "escriba numero 2:2\n",
      "escriba numero 3:3\n",
      "escriba numero 4:4\n",
      "escriba numero 5:-1\n",
      "escriba numero 6:-2\n",
      "escriba numero 7:-3\n",
      "escriba numero 8:0\n",
      "escriba numero 9:0\n",
      "escriba numero 10:0\n",
      "son 4 positivos\n",
      "son 3 negativos\n",
      "son 3 ceros\n"
     ]
    }
   ],
   "source": [
    "positivo=0\n",
    "negativo=0\n",
    "cero=0\n",
    "for i in range (1,11):\n",
    "    numero=int(input(\"escriba numero {}:\".format(i)) )\n",
    "    if (numero>=1):\n",
    "        positivo+=1\n",
    "    elif (numero<0):\n",
    "        negativo+=1\n",
    "    else:\n",
    "        cero+=1\n",
    "        \n",
    "        \n",
    "print(\"son\",positivo,\"positivos\")        \n",
    "print(\"son\",negativo,\"negativos\")        \n",
    "print(\"son\",cero,\"ceros\")        "
   ]
  },
  {
   "cell_type": "markdown",
   "metadata": {},
   "source": [
    "## tablas de mutiplicar"
   ]
  },
  {
   "cell_type": "code",
   "execution_count": 35,
   "metadata": {
    "scrolled": true
   },
   "outputs": [
    {
     "name": "stdout",
     "output_type": "stream",
     "text": [
      "escriba un numero 2\n",
      "2 x 0 = 0\n",
      "2 x 1 = 2\n",
      "2 x 2 = 4\n",
      "2 x 3 = 6\n",
      "2 x 4 = 8\n",
      "2 x 5 = 10\n",
      "2 x 6 = 12\n",
      "2 x 7 = 14\n",
      "2 x 8 = 16\n",
      "2 x 9 = 18\n",
      "2 x 10 = 20\n"
     ]
    }
   ],
   "source": [
    "numero=int(input(\"escriba un numero \"))\n",
    "if (numero>0 and numero<11):    \n",
    "    for i in range (11):\n",
    "        mult=numero*i\n",
    "        print(\"{} x {} = {}\".format(numero,i,mult))\n",
    "else:\n",
    "    print(\"este numero no es valido\")"
   ]
  },
  {
   "cell_type": "markdown",
   "metadata": {},
   "source": [
    "## menores de edad"
   ]
  },
  {
   "cell_type": "code",
   "execution_count": 5,
   "metadata": {},
   "outputs": [
    {
     "name": "stdout",
     "output_type": "stream",
     "text": [
      "escriba su nombre david\n",
      "escriba su edad 14\n",
      "el menor de edad es david  porque tiene 14  años\n"
     ]
    }
   ],
   "source": [
    "for i in range (1,4):\n",
    "    nombre=input(\"escriba su nombre \")\n",
    "    edad=int(input(\"escriba su edad \"))\n",
    "    if(edad<18):\n",
    "        print(\"el menor de edad es {} porque tiene {} años\".format(nombre,edad))\n",
    "        break\n",
    "if (edad>18):\n",
    "    print(\"no hay ningún menor de edad\")"
   ]
  },
  {
   "cell_type": "markdown",
   "metadata": {},
   "source": [
    "## tiendita"
   ]
  },
  {
   "cell_type": "code",
   "execution_count": 12,
   "metadata": {
    "scrolled": true
   },
   "outputs": [
    {
     "name": "stdout",
     "output_type": "stream",
     "text": [
      "escriba el producto1: g\n",
      "escriba la cantidad1:5\n",
      "escriba el precio de producto1: 5000\n",
      "escriba el producto2: g\n",
      "escriba la cantidad2:5\n",
      "escriba el precio de producto2: 5000\n",
      "escriba el producto3: g\n",
      "escriba la cantidad3:5\n",
      "escriba el precio de producto3: 5000\n",
      "escriba el producto4: g\n",
      "escriba la cantidad4:5\n",
      "escriba el precio de producto4: 5000\n",
      "escriba el producto5: g\n",
      "escriba la cantidad5:5\n",
      "escriba el precio de producto5: 5000\n",
      "la cantidad es: 25\n",
      "su precio es de: 125000\n",
      "su descuento es de: 12500\n"
     ]
    }
   ],
   "source": [
    "suma=0\n",
    "cant=0\n",
    "paraDesc=100.000\n",
    "for i in range (1,6):\n",
    "    producto=input(\"escriba el producto{}: \".format(i))\n",
    "    cantidad=int(input(\"escriba la cantidad{}:\".format(i)))\n",
    "    precio=int(input(\"escriba el precio de producto{}: \".format(i)))\n",
    "    mult=precio*cantidad\n",
    "    suma+=mult\n",
    "    cant+=cantidad\n",
    "if (suma>paraDesc):\n",
    "    descuento=int(suma*0.10)\n",
    "    total=suma-descuento\n",
    "    print(\"la cantidad es: {}\".format(cant))\n",
    "    print(\"su precio es de: {}\".format(suma))\n",
    "    print(\"su descuento es de: {}\".format(descuento))\n",
    "else:\n",
    "    print:(\"su pecio es de: {}\".format(suma))"
   ]
  },
  {
   "cell_type": "markdown",
   "metadata": {},
   "source": []
  },
  {
   "cell_type": "markdown",
   "metadata": {},
   "source": [
    "## N focos"
   ]
  },
  {
   "cell_type": "code",
   "execution_count": 17,
   "metadata": {},
   "outputs": [
    {
     "name": "stdout",
     "output_type": "stream",
     "text": [
      "escriba cuantos focos tiene5\n",
      "escriba el color del focoverde\n",
      "escriba el color del focoblanco\n",
      "escriba el color del focorojo\n",
      "escriba el color del focoverde\n",
      "escriba el color del focoblanco\n",
      "el numero de focos son 5 \n",
      "son 2 focos verdes\n",
      "son 1 focos rojos\n",
      "son 2 focos blancos\n"
     ]
    }
   ],
   "source": [
    "focosV=0\n",
    "focosR=0\n",
    "focosB=0\n",
    "Nfocos=int(input(\"escriba cuantos focos tiene\"))\n",
    "for i in range (1,Nfocos+1):\n",
    "    focos=input(\"escriba el color del foco\")\n",
    "    if (focos==\"verde\"):\n",
    "        focosV+=1\n",
    "    elif (focos==\"rojo\"):\n",
    "        focosR+=1\n",
    "    elif (focos==\"blanco\"):\n",
    "        focosB+=1\n",
    "print(\"el numero de focos son {} \".format(Nfocos))\n",
    "print(\"son {} focos verdes\".format(focosV))\n",
    "print(\"son {} focos rojos\".format(focosR))\n",
    "print(\"son {} focos blancos\".format(focosB))\n",
    "\n"
   ]
  }
 ],
 "metadata": {
  "kernelspec": {
   "display_name": "Python 3",
   "language": "python",
   "name": "python3"
  },
  "language_info": {
   "codemirror_mode": {
    "name": "ipython",
    "version": 3
   },
   "file_extension": ".py",
   "mimetype": "text/x-python",
   "name": "python",
   "nbconvert_exporter": "python",
   "pygments_lexer": "ipython3",
   "version": "3.7.6"
  }
 },
 "nbformat": 4,
 "nbformat_minor": 4
}
