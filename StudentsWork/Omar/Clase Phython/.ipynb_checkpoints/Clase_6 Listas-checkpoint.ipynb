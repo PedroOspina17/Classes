{
 "cells": [
  {
   "cell_type": "markdown",
   "metadata": {},
   "source": [
    "# Listas o \"Arrays\""
   ]
  },
  {
   "cell_type": "code",
   "execution_count": 52,
   "metadata": {},
   "outputs": [
    {
     "name": "stdout",
     "output_type": "stream",
     "text": [
      "¿Hace cuantos años estas con andrea?: 12\n",
      "Escribe que aprendiste en el 1° año compartiendo con ella : conocer\n",
      "Escribe que aprendiste en el 2° año compartiendo con ella : admirar\n",
      "Escribe que aprendiste en el 3° año compartiendo con ella : querer\n",
      "Escribe que aprendiste en el 4° año compartiendo con ella : tolerar\n",
      "Escribe que aprendiste en el 5° año compartiendo con ella : escuchar\n",
      "Escribe que aprendiste en el 6° año compartiendo con ella : comprender\n",
      "Escribe que aprendiste en el 7° año compartiendo con ella : discutir\n",
      "Escribe que aprendiste en el 8° año compartiendo con ella : soportar\n",
      "Escribe que aprendiste en el 9° año compartiendo con ella : respetar\n",
      "Escribe que aprendiste en el 10° año compartiendo con ella : valorar\n",
      "Escribe que aprendiste en el 11° año compartiendo con ella : cuidar\n",
      "Escribe que aprendiste en el 12° año compartiendo con ella : amar\n",
      "['conocer', 'admirar', 'querer', 'tolerar', 'escuchar', 'comprender', 'discutir', 'soportar', 'respetar', 'valorar', 'cuidar', 'amar']\n",
      "Amor quieres casarte conmigo?...\n"
     ]
    }
   ],
   "source": [
    "l_apren=[]\n",
    "requisitos=0\n",
    "t_and=int(input(\"¿Hace cuantos años estas con andrea?: \"))\n",
    "for i in range (t_and):\n",
    "    apren=input(\"Escribe que aprendiste en el {}° año compartiendo con ella : \".format(i+1) )\n",
    "    l_apren.append(apren)\n",
    "print(l_apren)\n",
    "\n",
    "if (\"amar\" in l_apren and \"cuidar\" in l_apren and \"respetar\" in l_apren):\n",
    "    print(\"Amor quieres casarte conmigo?...\")\n",
    "else:\n",
    "    print(\"Entonces vivamos juntos... Ja Ja Ja!!!\")\n",
    " "
   ]
  },
  {
   "cell_type": "markdown",
   "metadata": {},
   "source": [
    "# Ejm_0"
   ]
  },
  {
   "cell_type": "code",
   "execution_count": 1,
   "metadata": {},
   "outputs": [
    {
     "name": "stdout",
     "output_type": "stream",
     "text": [
      "['Matematicas', 'Fisisca', 'Quimica', 'Historia', 'Lengua']\n"
     ]
    }
   ],
   "source": [
    "asign=[\"Matematicas\", \"Fisisca\", \"Quimica\", \"Historia\", \"Lengua\"]\n",
    "print(asign)"
   ]
  },
  {
   "cell_type": "markdown",
   "metadata": {},
   "source": [
    "# Ejm_1"
   ]
  },
  {
   "cell_type": "code",
   "execution_count": 13,
   "metadata": {},
   "outputs": [
    {
     "name": "stdout",
     "output_type": "stream",
     "text": [
      "Digite el numero: 1\n",
      "Digite el numero: 1\n",
      "Digite el numero: 1\n",
      "Digite el numero: 2\n",
      "Digite el numero: 3\n",
      "Digite el numero: 4\n",
      "Digite el numero: 3\n",
      "Digite el numero: 2\n",
      "Digite el numero: 5\n",
      "Digite el numero: 6\n",
      "[1, 2, 3, 4, 5, 6]\n"
     ]
    }
   ],
   "source": [
    "nums=[]\n",
    "for i in range(10):\n",
    "    num=int(input(\"Digite el numero: \"))\n",
    "    if(num not in nums):\n",
    "        nums.append(num)\n",
    "print(nums)\n",
    "        \n",
    "        \n"
   ]
  },
  {
   "cell_type": "markdown",
   "metadata": {},
   "source": [
    "# Ejm_2 "
   ]
  },
  {
   "cell_type": "code",
   "execution_count": 45,
   "metadata": {},
   "outputs": [
    {
     "name": "stdout",
     "output_type": "stream",
     "text": [
      "Ingrese el numero: 7\n",
      "Ingrese el numero: 2\n",
      "Ingrese el numero: 5\n",
      "Ingrese el numero: -5\n",
      "Ingrese el numero: -4\n",
      "Ingrese el numero: -3\n",
      "Ingrese el numero: 0\n",
      "Se encontraron 3 numeros positivos y fueron: [7, 2, 5] \n"
     ]
    }
   ],
   "source": [
    "nums=[]\n",
    "cont=0\n",
    "for i in range (7):\n",
    "    num=int(input(\"Ingrese el numero: \"))\n",
    "    if(num>0):\n",
    "        nums.append(num)\n",
    "        cont+=1\n",
    "print(\"Se encontraron {} numeros positivos y fueron: {} \".format(cont,nums))"
   ]
  },
  {
   "cell_type": "markdown",
   "metadata": {},
   "source": [
    "# Ejm_3"
   ]
  },
  {
   "cell_type": "code",
   "execution_count": 40,
   "metadata": {},
   "outputs": [
    {
     "name": "stdout",
     "output_type": "stream",
     "text": [
      "Ingrese la cantidad de numeros5\n",
      "Digite un numero: 2\n",
      "Digite un numero: 4\n",
      "Digite un numero: 6\n",
      "Digite un numero: 8\n",
      "Digite un numero: 10\n",
      "El promedio de la suma de los numeros es:  6.0\n"
     ]
    }
   ],
   "source": [
    "nums=[]\n",
    "prom=0\n",
    "n=int(input(\"Ingrese la cantidad de numeros: \"))\n",
    "for i in range (n):\n",
    "    num=int(input(\"Digite un numero: \"))\n",
    "    nums.append(num)\n",
    "    prom=sum(nums)/n  \n",
    "print(\"El promedio de la suma de los numeros es: \",prom)"
   ]
  },
  {
   "cell_type": "markdown",
   "metadata": {},
   "source": [
    "# Ejm_4"
   ]
  },
  {
   "cell_type": "code",
   "execution_count": 58,
   "metadata": {},
   "outputs": [
    {
     "name": "stdout",
     "output_type": "stream",
     "text": [
      "Ingrese la cantidad de numeros: 8\n",
      "Digite el numero: 12\n",
      "Digite el numero: 4\n",
      "Digite el numero: 9\n",
      "Digite el numero: 7\n",
      "Digite el numero: 0\n",
      "Digite el numero: 2\n",
      "Digite el numero: 10\n",
      "Digite el numero: 25\n",
      "El mayor fue: 25 \n",
      "El menor fue: 0 \n",
      "Lista en orden ascendente: [0, 2, 4, 7, 9, 10, 12, 25] \n",
      "Lista en orden descendente: [25, 12, 10, 9, 7, 4, 2, 0]  \n"
     ]
    }
   ],
   "source": [
    "nums=[]\n",
    "n=int(input(\"Ingrese la cantidad de numeros: \"))\n",
    "n_may=0\n",
    "n_men=5\n",
    "acum_n=0\n",
    "for i in range(n):\n",
    "    num=int(input(\"Digite el numero: \"))\n",
    "    nums.append(num)\n",
    "    acum_n+=num\n",
    "    if(num>n_may):\n",
    "        n_may=num\n",
    "    if(num<n_men):\n",
    "        n_men=num\n",
    "print(\"El mayor fue: {} \\nEl menor fue: {} \\nLista en orden ascendente: {} \\nLista en orden descendente: {}  \".format(n_may,n_men,sorted(nums),sorted(nums,reverse=True)))"
   ]
  },
  {
   "cell_type": "markdown",
   "metadata": {},
   "source": [
    "# Ejm_5"
   ]
  },
  {
   "cell_type": "code",
   "execution_count": 43,
   "metadata": {},
   "outputs": [
    {
     "name": "stdout",
     "output_type": "stream",
     "text": [
      "Ingrese el nombre: omar\n",
      "omar\n",
      "['o', 'm', 'a', 'r']\n",
      "la primera letra fue: o y la ultima letra fue: r \n"
     ]
    }
   ],
   "source": [
    "n=input(\"Ingrese el nombre: \")\n",
    "print(n)\n",
    "for n in nomb:\n",
    "    newListName=list(n)\n",
    "    print(newListName)\n",
    "print(\"la primera letra fue: {} y la ultima letra fue: {} \".format(n[0],n[-1]))"
   ]
  },
  {
   "cell_type": "markdown",
   "metadata": {},
   "source": [
    "# Ejm_6"
   ]
  },
  {
   "cell_type": "code",
   "execution_count": 35,
   "metadata": {},
   "outputs": [
    {
     "name": "stdout",
     "output_type": "stream",
     "text": [
      "Ingrese el nombre: omar\n",
      "['o', 'm', 'a', 'r']\n"
     ]
    },
    {
     "ename": "TypeError",
     "evalue": "list indices must be integers or slices, not str",
     "output_type": "error",
     "traceback": [
      "\u001b[1;31m---------------------------------------------------------------------------\u001b[0m",
      "\u001b[1;31mTypeError\u001b[0m                                 Traceback (most recent call last)",
      "\u001b[1;32m<ipython-input-35-3c3ca708800e>\u001b[0m in \u001b[0;36m<module>\u001b[1;34m\u001b[0m\n\u001b[0;32m      5\u001b[0m     \u001b[0mnewListName\u001b[0m\u001b[1;33m=\u001b[0m\u001b[0mlist\u001b[0m\u001b[1;33m(\u001b[0m\u001b[0mn\u001b[0m\u001b[1;33m)\u001b[0m\u001b[1;33m\u001b[0m\u001b[1;33m\u001b[0m\u001b[0m\n\u001b[0;32m      6\u001b[0m     \u001b[0mprint\u001b[0m\u001b[1;33m(\u001b[0m\u001b[0mnewListName\u001b[0m\u001b[1;33m)\u001b[0m\u001b[1;33m\u001b[0m\u001b[1;33m\u001b[0m\u001b[0m\n\u001b[1;32m----> 7\u001b[1;33m     \u001b[0mprint\u001b[0m\u001b[1;33m(\u001b[0m\u001b[1;34m\"letra en la posicion {} es {} \"\u001b[0m\u001b[1;33m.\u001b[0m\u001b[0mformat\u001b[0m\u001b[1;33m(\u001b[0m\u001b[0mi\u001b[0m\u001b[1;33m,\u001b[0m\u001b[0ml_let\u001b[0m\u001b[1;33m[\u001b[0m\u001b[0mi\u001b[0m\u001b[1;33m]\u001b[0m\u001b[1;33m)\u001b[0m\u001b[1;33m)\u001b[0m\u001b[1;33m\u001b[0m\u001b[1;33m\u001b[0m\u001b[0m\n\u001b[0m",
      "\u001b[1;31mTypeError\u001b[0m: list indices must be integers or slices, not str"
     ]
    }
   ],
   "source": [
    "n=input(\"Ingrese el nombre: \")\n",
    "for i in l_let:\n",
    "    newListName=list(n)\n",
    "    print(newListName)\n",
    "    print(\"letra en la posicion {} es {} \".format(i,l_let[i]))"
   ]
  },
  {
   "cell_type": "markdown",
   "metadata": {},
   "source": [
    "# Ejm_7"
   ]
  },
  {
   "cell_type": "code",
   "execution_count": 47,
   "metadata": {},
   "outputs": [
    {
     "name": "stdout",
     "output_type": "stream",
     "text": [
      "Digite la cant de palabras: 4\n",
      "Ingrese la palabra: omar\n",
      "Ingrese la palabra: andrea\n",
      "Ingrese la palabra: junior\n",
      "Ingrese la palabra: david\n",
      "['omar', 'andrea', 'junior', 'david']\n",
      "Ingrese el nombre a eliminar: david\n",
      "['omar', 'andrea', 'junior']\n"
     ]
    }
   ],
   "source": [
    "pals=[]\n",
    "ind=0\n",
    "n=int(input(\"Digite la cant de palabras: \"))\n",
    "for i in range (n):\n",
    "    p=input(\"Ingrese la palabra: \")\n",
    "    pals.append(p)\n",
    "print(pals)\n",
    "n_e=input(\"Ingrese el nombre a eliminar: \")\n",
    "if (n_e in pals):\n",
    "    pals.remove(n_e)\n",
    "print(pals)\n",
    "#ind=int(input(\"Ingrese la posicion que desea eliminar: \"))\n",
    "#if(ind>=0 and ind<=n):\n",
    "   # print(pals.pop(ind))\n",
    "    #print(pals)"
   ]
  },
  {
   "cell_type": "markdown",
   "metadata": {},
   "source": [
    "# Ejm_8"
   ]
  },
  {
   "cell_type": "code",
   "execution_count": 57,
   "metadata": {},
   "outputs": [
    {
     "name": "stdout",
     "output_type": "stream",
     "text": [
      "Digite la cantidad de palabras de la lista _1:5\n",
      "Digite la cantidad de palabras de la lista _2:4\n",
      "Ingrese las palabras de la lista 1: hola\n",
      "Ingrese las palabras de la lista 1: buenas\n",
      "Ingrese las palabras de la lista 1: noches\n",
      "Ingrese las palabras de la lista 1: como\n",
      "Ingrese las palabras de la lista 1: estas\n",
      "['hola', 'buenas', 'noches', 'como', 'estas']\n",
      "Ingrese las palabras de la lista 2: hola\n",
      "Ingrese las palabras de la lista 2: como\n",
      "Ingrese las palabras de la lista 2: estas\n",
      "Ingrese las palabras de la lista 2: tu\n",
      "['hola', 'como', 'estas', 'tu']\n",
      "Lista 1 sin palabras de la lista 2:  ['buenas', 'noches']\n"
     ]
    }
   ],
   "source": [
    "pals_1=[]\n",
    "pals_2=[]\n",
    "n_1=int(input(\"Digite la cantidad de palabras de la lista _1:\"))\n",
    "n_2=int(input(\"Digite la cantidad de palabras de la lista _2:\"))\n",
    "for i in range (n_1):\n",
    "    p=input(\"Ingrese las palabras de la lista 1: \")\n",
    "    pals_1.append(p)\n",
    "print(pals_1)\n",
    "for i in range (n_2):\n",
    "    p=input(\"Ingrese las palabras de la lista 2: \")\n",
    "    pals_2.append(p)\n",
    "    if(p in pals_1 and p in pals_2):\n",
    "        pals_1.remove(p)\n",
    "\n",
    "print(pals_2)\n",
    "print(\"Lista 1 sin palabras de la lista 2: \",pals_1)"
   ]
  },
  {
   "cell_type": "markdown",
   "metadata": {},
   "source": [
    "# Ejm_9"
   ]
  },
  {
   "cell_type": "code",
   "execution_count": 63,
   "metadata": {},
   "outputs": [
    {
     "name": "stdout",
     "output_type": "stream",
     "text": [
      "Ingrese la cantidad de numeros q desea: 5\n",
      "Digite el numero:8\n",
      "Digite el numero:3\n",
      "Digite el numero:7\n",
      "Digite el numero:6\n",
      "Digite el numero:1\n",
      "[8, 3, 7, 6, 1]\n",
      "Numeros desde el ultimo ingresado:  [1, 6, 7, 3, 8]\n"
     ]
    }
   ],
   "source": [
    "l_num=[]\n",
    "c_n=int(input(\"Ingrese la cantidad de numeros q desea: \"))\n",
    "\n",
    "for i in range (c_n):\n",
    "    n=int(input(\"Digite el numero:\"))\n",
    "    l_num.append(n)\n",
    "print(l_num)\n",
    "print(\"Numeros desde el ultimo ingresado: \",l_num[::-1])\n",
    "    "
   ]
  },
  {
   "cell_type": "markdown",
   "metadata": {},
   "source": [
    "# Ejm_10"
   ]
  },
  {
   "cell_type": "code",
   "execution_count": 86,
   "metadata": {},
   "outputs": [
    {
     "name": "stdout",
     "output_type": "stream",
     "text": [
      "Ingrese la cantidad de asignaturas: 3\n",
      "Escriba la asignatura: mat\n",
      "Digite la nota final: 5\n",
      "mat\n",
      "5.0\n",
      "Escriba la asignatura: quim\n",
      "Digite la nota final: 2\n",
      "quim\n",
      "2.0\n",
      "Escriba la asignatura: fis\n",
      "Digite la nota final: 3\n",
      "fis\n",
      "3.0\n",
      "Estimado estudiante lamentamos informarle q ud reprobó 2 asignaturas: ['quim', 'fis']\n"
     ]
    }
   ],
   "source": [
    "l_asign=[]\n",
    "nota=0\n",
    "c_a=int(input(\"Ingrese la cantidad de asignaturas: \"))\n",
    "for i in range (c_a):\n",
    "    asign=input(\"Escriba la asignatura: \")\n",
    "    nota=float(input(\"Digite la nota final: \"))\n",
    "    l_asign.append(asign)\n",
    "    print(asign)\n",
    "    print(nota)\n",
    "    if(nota>=3.5 and nota<=5):\n",
    "        l_asign.remove(asign)\n",
    "print(\"Estimado estudiante lamentamos informarle q ud reprobó {} asignaturas: {}\".format(i,l_asign))\n"
   ]
  },
  {
   "cell_type": "markdown",
   "metadata": {},
   "source": [
    "# Ejm_11"
   ]
  },
  {
   "cell_type": "code",
   "execution_count": null,
   "metadata": {},
   "outputs": [],
   "source": [
    "l_pal=[]\n",
    "l_pal2=[]\n",
    "c_e=int(input(\"Digite la cantidad de elementos que desea: \"))\n",
    "for i in range (c_e):\n",
    "    elem=input(\"Ingrese el elemento: \")\n",
    "    l_pal.append(elem)\n",
    "print(l_pal)\n",
    "for elem in l_pal:\n",
    "    if(elem not in l_pal2):\n",
    "        l_pal2.append(elem)\n",
    "print(l_pal2)\n",
    "    "
   ]
  },
  {
   "cell_type": "markdown",
   "metadata": {},
   "source": [
    "# Ejm_12"
   ]
  },
  {
   "cell_type": "code",
   "execution_count": 8,
   "metadata": {},
   "outputs": [
    {
     "name": "stdout",
     "output_type": "stream",
     "text": [
      "Ingrese cantidad deseada: 6\n",
      "Digite la palabra: and\n",
      "Digite la palabra: ale\n",
      "Digite la palabra: dav\n",
      "Digite la palabra: eli\n",
      "Digite la palabra: and\n",
      "Digite la palabra: and\n",
      "['and', 'ale', 'dav', 'eli', 'and', 'and']\n",
      "Elija la palabra: and\n",
      "Cant PE:  3\n"
     ]
    }
   ],
   "source": [
    "l_pal=[]\n",
    "cont_pe=0\n",
    "c_p=int(input(\"Ingrese cantidad deseada: \"))\n",
    "for i in range (c_p):\n",
    "    p=input(\"Digite la palabra: \")\n",
    "    l_pal.append(p)\n",
    "print(l_pal)\n",
    "pe=input(\"Elija la palabra: \")\n",
    "\n",
    "for p in l_pal:\n",
    "    if(pe==p):\n",
    "        cont_pe+=1\n",
    "print(\"Cant PE: \",cont_pe)"
   ]
  },
  {
   "cell_type": "markdown",
   "metadata": {},
   "source": [
    "# Ejm_13"
   ]
  },
  {
   "cell_type": "code",
   "execution_count": 9,
   "metadata": {},
   "outputs": [
    {
     "name": "stdout",
     "output_type": "stream",
     "text": [
      "Digite la cantidad de palabras que desea: s\n"
     ]
    },
    {
     "ename": "ValueError",
     "evalue": "invalid literal for int() with base 10: 's'",
     "output_type": "error",
     "traceback": [
      "\u001b[1;31m---------------------------------------------------------------------------\u001b[0m",
      "\u001b[1;31mValueError\u001b[0m                                Traceback (most recent call last)",
      "\u001b[1;32m<ipython-input-9-9922babacd39>\u001b[0m in \u001b[0;36m<module>\u001b[1;34m\u001b[0m\n\u001b[0;32m      1\u001b[0m \u001b[0mlist_p\u001b[0m\u001b[1;33m=\u001b[0m\u001b[1;33m[\u001b[0m\u001b[1;33m]\u001b[0m\u001b[1;33m\u001b[0m\u001b[1;33m\u001b[0m\u001b[0m\n\u001b[1;32m----> 2\u001b[1;33m \u001b[0mcant\u001b[0m\u001b[1;33m=\u001b[0m\u001b[0mint\u001b[0m\u001b[1;33m(\u001b[0m\u001b[0minput\u001b[0m\u001b[1;33m(\u001b[0m\u001b[1;34m\"Digite la cantidad de palabras que desea: \"\u001b[0m\u001b[1;33m)\u001b[0m\u001b[1;33m)\u001b[0m\u001b[1;33m\u001b[0m\u001b[1;33m\u001b[0m\u001b[0m\n\u001b[0m\u001b[0;32m      3\u001b[0m \u001b[1;32mfor\u001b[0m \u001b[0mi\u001b[0m \u001b[1;32min\u001b[0m \u001b[0mrange\u001b[0m \u001b[1;33m(\u001b[0m\u001b[0mcant\u001b[0m\u001b[1;33m)\u001b[0m\u001b[1;33m:\u001b[0m\u001b[1;33m\u001b[0m\u001b[1;33m\u001b[0m\u001b[0m\n\u001b[0;32m      4\u001b[0m     \u001b[0mpal\u001b[0m\u001b[1;33m=\u001b[0m\u001b[0minput\u001b[0m\u001b[1;33m(\u001b[0m\u001b[1;34m\"Digite palabra: \"\u001b[0m\u001b[1;33m)\u001b[0m\u001b[1;33m\u001b[0m\u001b[1;33m\u001b[0m\u001b[0m\n\u001b[0;32m      5\u001b[0m     \u001b[0mlist_p\u001b[0m\u001b[1;33m.\u001b[0m\u001b[0mappend\u001b[0m\u001b[1;33m(\u001b[0m\u001b[0mpal\u001b[0m\u001b[1;33m)\u001b[0m\u001b[1;33m\u001b[0m\u001b[1;33m\u001b[0m\u001b[0m\n",
      "\u001b[1;31mValueError\u001b[0m: invalid literal for int() with base 10: 's'"
     ]
    }
   ],
   "source": [
    "list_p=[]\n",
    "cant=int(input(\"Digite la cantidad de palabras que desea: \"))\n",
    "for i in range (cant):\n",
    "    pal=input(\"Digite palabra: \")\n",
    "    list_p.append(pal)\n",
    "print(list_p)\n",
    "if (pal in list_p):\n",
    "    pos=int(input(\"Elija la posición de la plabra: \"))\n",
    "    list_p.pop(pos)\n",
    "    print(list_p)\n",
    "    pal=input(\"Escriba nueva plabra: \")\n",
    "if(pal not in list_p):\n",
    "    list_p.insert(pos,pal)\n",
    "print(list_p)        "
   ]
  },
  {
   "cell_type": "code",
   "execution_count": 4,
   "metadata": {},
   "outputs": [
    {
     "name": "stdout",
     "output_type": "stream",
     "text": [
      "Digite la cantidad de palabras que desea: 4\n",
      "Digite palabra: a\n",
      "Digite palabra: b\n",
      "Digite palabra: c\n",
      "Digite palabra: d\n",
      "['a', 'b', 'c', 'd']\n",
      "Ingrese la palabra a eliminar: c\n",
      "['a', 'b', 'd']\n",
      "Escriba la posición que se elimino: 2\n",
      "Ingrese nueva palabra: f\n",
      "['a', 'b', 'f', 'd']\n"
     ]
    }
   ],
   "source": [
    "list_p=[]\n",
    "cant=int(input(\"Digite la cantidad de palabras que desea: \"))\n",
    "for i in range (cant):\n",
    "    pal=input(\"Digite palabra: \")\n",
    "    list_p.append(pal)\n",
    "print(list_p)\n",
    "if (pal in list_p):\n",
    "    pal=input(\"Ingrese la palabra a eliminar: \")\n",
    "    list_p.remove(pal)\n",
    "print(list_p)\n",
    "if (pal not in list_p):\n",
    "    pos=int(input(\"Escriba la posición que se elimino: \"))\n",
    "    pal=input(\"Ingrese nueva palabra: \")\n",
    "    list_p.insert(pos,pal)\n",
    "print(list_p)"
   ]
  },
  {
   "cell_type": "markdown",
   "metadata": {},
   "source": [
    "# Ejm_14"
   ]
  },
  {
   "cell_type": "code",
   "execution_count": 60,
   "metadata": {},
   "outputs": [
    {
     "name": "stdout",
     "output_type": "stream",
     "text": [
      "Digite la cantidad total de estudiantes: 3\n",
      "Ingrese la cantidad de materias cursadas: 3\n",
      "Escriba el nombre del estudiante: andrea\n",
      "Digite el nombre de la materia: m\n",
      "Ingrese la nota final: 5\n",
      "Digite el nombre de la materia: f\n",
      "Ingrese la nota final: 2\n",
      "f\n",
      "Digite el nombre de la materia: q\n",
      "Ingrese la nota final: 2\n",
      "q\n",
      "El estudiante: andrea reprobó\n",
      "Escriba el nombre del estudiante: omar\n",
      "Digite el nombre de la materia: m\n",
      "Ingrese la nota final: 1\n",
      "m\n",
      "Digite el nombre de la materia: f\n",
      "Ingrese la nota final: 2\n",
      "f\n",
      "Digite el nombre de la materia: q\n",
      "Ingrese la nota final: 5\n",
      "El estudiante: omar reprobó\n",
      "Escriba el nombre del estudiante: da\n",
      "Digite el nombre de la materia: m\n",
      "Ingrese la nota final: 3\n",
      "Digite el nombre de la materia: f\n",
      "Ingrese la nota final: 4\n",
      "Digite el nombre de la materia: q\n",
      "Ingrese la nota final: 4\n",
      "El estudiante: da reprobó\n",
      "Estudiantes que reprobaron mas de 2 materias:  3\n"
     ]
    }
   ],
   "source": [
    "cont_m=0\n",
    "cont_e=0\n",
    "cant_est=int(input(\"Digite la cantidad total de estudiantes: \"))\n",
    "cant_mat=int(input(\"Ingrese la cantidad de materias cursadas: \"))\n",
    "for i in range (cant_est):\n",
    "    est=input(\"Escriba el nombre del estudiante: \")\n",
    "    for j in range (cant_mat):\n",
    "        mat=input(\"Digite el nombre de la materia: \")\n",
    "        nota=int(input(\"Ingrese la nota final: \"))\n",
    "        if(nota<3):\n",
    "            cont_m+=1\n",
    "            print(mat)\n",
    "    if(cont_m>=2):\n",
    "        cont_e+=1\n",
    "        print(\"El estudiante: {} reprobó\".format(est))\n",
    "print(\"Estudiantes que reprobaron mas de 2 materias: \",cont_e)"
   ]
  },
  {
   "cell_type": "markdown",
   "metadata": {},
   "source": [
    "# Ejm_15"
   ]
  },
  {
   "cell_type": "code",
   "execution_count": 14,
   "metadata": {},
   "outputs": [
    {
     "name": "stdout",
     "output_type": "stream",
     "text": [
      "Cantidad de palabras: 1\n",
      "Escriba palabra 1: amimemima\n",
      "amimemima\n",
      "Es palindroma\n"
     ]
    }
   ],
   "source": [
    "cant_p=int(input(\"Cantidad de palabras: \"))\n",
    "for i in range (cant_p):\n",
    "    pal=input(\"Escriba palabra {}: \".format(i+1))\n",
    "    print(pal[::-1])\n",
    "    if(pal==pal[::-1]):\n",
    "        print(\"Es palindroma\")\n",
    "    else:\n",
    "        print(\"No es palindroma\")"
   ]
  },
  {
   "cell_type": "code",
   "execution_count": 5,
   "metadata": {},
   "outputs": [
    {
     "name": "stdout",
     "output_type": "stream",
     "text": [
      "Escriba palabra: a mi me mima\n"
     ]
    },
    {
     "ename": "ValueError",
     "evalue": "list.remove(x): x not in list",
     "output_type": "error",
     "traceback": [
      "\u001b[1;31m---------------------------------------------------------------------------\u001b[0m",
      "\u001b[1;31mValueError\u001b[0m                                Traceback (most recent call last)",
      "\u001b[1;32m<ipython-input-5-564a36f4df13>\u001b[0m in \u001b[0;36m<module>\u001b[1;34m\u001b[0m\n\u001b[0;32m      2\u001b[0m \u001b[0mpal2\u001b[0m\u001b[1;33m=\u001b[0m \u001b[0mlist\u001b[0m\u001b[1;33m(\u001b[0m\u001b[0mpal\u001b[0m\u001b[1;33m)\u001b[0m\u001b[1;33m\u001b[0m\u001b[1;33m\u001b[0m\u001b[0m\n\u001b[0;32m      3\u001b[0m \u001b[1;32mfor\u001b[0m \u001b[0mpal\u001b[0m \u001b[1;32min\u001b[0m \u001b[0mpal2\u001b[0m\u001b[1;33m:\u001b[0m\u001b[1;33m\u001b[0m\u001b[1;33m\u001b[0m\u001b[0m\n\u001b[1;32m----> 4\u001b[1;33m     \u001b[0mpal2\u001b[0m\u001b[1;33m.\u001b[0m\u001b[0mremove\u001b[0m\u001b[1;33m(\u001b[0m\u001b[1;34m\" \"\u001b[0m\u001b[1;33m)\u001b[0m\u001b[1;33m\u001b[0m\u001b[1;33m\u001b[0m\u001b[0m\n\u001b[0m\u001b[0;32m      5\u001b[0m \u001b[1;34m\"\"\u001b[0m\u001b[1;33m.\u001b[0m\u001b[0mjoin\u001b[0m\u001b[1;33m(\u001b[0m\u001b[0mpal\u001b[0m\u001b[1;33m)\u001b[0m\u001b[1;33m\u001b[0m\u001b[1;33m\u001b[0m\u001b[0m\n\u001b[0;32m      6\u001b[0m \u001b[0mprint\u001b[0m\u001b[1;33m(\u001b[0m\u001b[0mpal2\u001b[0m\u001b[1;33m)\u001b[0m\u001b[1;33m\u001b[0m\u001b[1;33m\u001b[0m\u001b[0m\n",
      "\u001b[1;31mValueError\u001b[0m: list.remove(x): x not in list"
     ]
    }
   ],
   "source": [
    "pal=input(\"Escriba palabra: \")\n",
    "pal2= list(pal)\n",
    "for pal in pal2:\n",
    "    pal2.remove(\" \")\n",
    "\n",
    "   \n"
   ]
  },
  {
   "cell_type": "code",
   "execution_count": 39,
   "metadata": {},
   "outputs": [
    {
     "ename": "TypeError",
     "evalue": "'bool' object is not callable",
     "output_type": "error",
     "traceback": [
      "\u001b[1;31m---------------------------------------------------------------------------\u001b[0m",
      "\u001b[1;31mTypeError\u001b[0m                                 Traceback (most recent call last)",
      "\u001b[1;32m<ipython-input-39-2b21481b445d>\u001b[0m in \u001b[0;36m<module>\u001b[1;34m\u001b[0m\n\u001b[0;32m      1\u001b[0m \u001b[0mname\u001b[0m \u001b[1;33m=\u001b[0m \u001b[1;34m\"hola mundo\"\u001b[0m\u001b[1;33m\u001b[0m\u001b[1;33m\u001b[0m\u001b[0m\n\u001b[1;32m----> 2\u001b[1;33m \u001b[0mprint\u001b[0m\u001b[1;33m(\u001b[0m\u001b[1;34m\"hola\"\u001b[0m \u001b[1;32min\u001b[0m \u001b[0mname\u001b[0m\u001b[1;33m)\u001b[0m\u001b[1;33m\u001b[0m\u001b[1;33m\u001b[0m\u001b[0m\n\u001b[0m",
      "\u001b[1;31mTypeError\u001b[0m: 'bool' object is not callable"
     ]
    }
   ],
   "source": [
    "name = \"hola mundo\"\n",
    "print(\"hola\" in name)"
   ]
  },
  {
   "cell_type": "code",
   "execution_count": 21,
   "metadata": {},
   "outputs": [
    {
     "data": {
      "text/plain": [
       "'omarandreadavidjunior'"
      ]
     },
     "execution_count": 21,
     "metadata": {},
     "output_type": "execute_result"
    }
   ],
   "source": [
    "pal=[\"omar\", \"andrea\", \"david\", \"junior\"]\n",
    "\"\".join(pal)\n"
   ]
  }
 ],
 "metadata": {
  "kernelspec": {
   "display_name": "Python 3",
   "language": "python",
   "name": "python3"
  },
  "language_info": {
   "codemirror_mode": {
    "name": "ipython",
    "version": 3
   },
   "file_extension": ".py",
   "mimetype": "text/x-python",
   "name": "python",
   "nbconvert_exporter": "python",
   "pygments_lexer": "ipython3",
   "version": "3.7.6"
  }
 },
 "nbformat": 4,
 "nbformat_minor": 4
}
