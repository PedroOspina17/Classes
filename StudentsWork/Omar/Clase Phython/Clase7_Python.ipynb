{
 "cells": [
  {
   "cell_type": "markdown",
   "metadata": {},
   "source": [
    "# Ejm_1 Dict"
   ]
  },
  {
   "cell_type": "code",
   "execution_count": 1,
   "metadata": {},
   "outputs": [
    {
     "data": {
      "text/plain": [
       "{'Australia': [0.6, 0.33, 0.11, 0.14],\n",
       " 'France': [0.66, 0.78, 0.98, 0.2],\n",
       " 'Italy': [0.6],\n",
       " 'Brazil': [0.22, 0.22, 0.43],\n",
       " 'USA': [0.2, 0.5, 0.3],\n",
       " 'England': [0.45],\n",
       " 'Canada': [0.25, 0.3],\n",
       " 'Argentina': [0.22],\n",
       " 'Greece': [0.45, 0.66, 0.75, 0.99, 0.15, 0.66],\n",
       " 'Morocco': [0.29],\n",
       " 'Tunisia': [0.68, 0.56],\n",
       " 'Egypt': [0.99],\n",
       " 'Jamaica': [0.61, 0.65, 0.71],\n",
       " 'Switzerland': [0.73, 0.86, 0.84, 0.51, 0.99],\n",
       " 'Germany': [0.45, 0.49, 0.36]}"
      ]
     },
     "execution_count": 1,
     "metadata": {},
     "output_type": "execute_result"
    }
   ],
   "source": [
    "success_estimates = {\n",
    "        'Australia': [0.6, 0.33, 0.11, 0.14],\n",
    "        'France': [0.66, 0.78, 0.98, 0.2],\n",
    "        'Italy': [0.6],\n",
    "        'Brazil': [0.22, 0.22, 0.43],\n",
    "        'USA': [0.2, 0.5, 0.3],\n",
    "        'England': [0.45],\n",
    "        'Canada': [0.25, 0.3],\n",
    "        'Argentina': [0.22],\n",
    "        'Greece': [0.45, 0.66, 0.75, 0.99, 0.15, 0.66],\n",
    "        'Morocco': [0.29],\n",
    "        'Tunisia': [0.68, 0.56],\n",
    "        'Egypt': [0.99],\n",
    "        'Jamaica': [0.61, 0.65, 0.71],\n",
    "        'Switzerland': [0.73, 0.86, 0.84, 0.51, 0.99],\n",
    "        'Germany': [0.45, 0.49, 0.36]\n",
    "    } \n",
    "success_estimates\n"
   ]
  },
  {
   "cell_type": "code",
   "execution_count": 2,
   "metadata": {},
   "outputs": [
    {
     "data": {
      "text/plain": [
       "[0.66, 0.78, 0.98, 0.2]"
      ]
     },
     "execution_count": 2,
     "metadata": {},
     "output_type": "execute_result"
    }
   ],
   "source": [
    "success_estimates['France']"
   ]
  },
  {
   "cell_type": "markdown",
   "metadata": {},
   "source": [
    "# Ejm_2"
   ]
  },
  {
   "cell_type": "code",
   "execution_count": 3,
   "metadata": {},
   "outputs": [
    {
     "name": "stdout",
     "output_type": "stream",
     "text": [
      "[0.45, 0.66, 0.75, 0.99, 0.15, 0.66]\n",
      "[0.45, 0.66, 0.99, 0.75, 0.15]\n"
     ]
    }
   ],
   "source": [
    "Greece_list=success_estimates['Greece']\n",
    "print(Greece_list)\n",
    "Greece_list2=set(Greece_list)\n",
    "print(list(Greece_list2))"
   ]
  },
  {
   "cell_type": "markdown",
   "metadata": {},
   "source": [
    "# Ejm_3"
   ]
  },
  {
   "cell_type": "code",
   "execution_count": 4,
   "metadata": {},
   "outputs": [
    {
     "name": "stdout",
     "output_type": "stream",
     "text": [
      "[0.66, 0.78, 0.98, 0.2]\n",
      "[0.45, 0.66, 0.75, 0.99, 0.15, 0.66]\n",
      "{0.66}\n"
     ]
    }
   ],
   "source": [
    "France_list=success_estimates['France']\n",
    "Greece_list=success_estimates['Greece']\n",
    "print(France_list)\n",
    "setFranceList=set(France_list)\n",
    "print(Greece_list)\n",
    "setGreeceList=set(Greece_list)\n",
    "print(setFranceList.intersection(setGreeceList))"
   ]
  },
  {
   "cell_type": "markdown",
   "metadata": {},
   "source": [
    "# Ejm_4"
   ]
  },
  {
   "cell_type": "code",
   "execution_count": 5,
   "metadata": {},
   "outputs": [
    {
     "name": "stdout",
     "output_type": "stream",
     "text": [
      "Australia [0.6, 0.33, 0.11, 0.14]\n",
      "France [0.66, 0.78, 0.98, 0.2]\n",
      "Argentina [0.22]\n",
      "Jamaica [0.61, 0.65, 0.71]\n"
     ]
    }
   ],
   "source": [
    "#print(success_estimates)\n",
    "#success_estimates[12]\n",
    "#success_estimates['12']\n",
    "\n",
    "for key, value in success_estimates.items():\n",
    "    if(key=='Australia' or key=='France' or key=='Argentina' or key=='Jamaica'):\n",
    "        print(key,value)"
   ]
  },
  {
   "cell_type": "code",
   "execution_count": 6,
   "metadata": {},
   "outputs": [
    {
     "name": "stdout",
     "output_type": "stream",
     "text": [
      "Australia [0.6, 0.33, 0.11, 0.14]\n",
      "France [0.66, 0.78, 0.98, 0.2]\n",
      "Argentina [0.22]\n",
      "Jamaica [0.61, 0.65, 0.71]\n"
     ]
    }
   ],
   "source": [
    "list_p=['Australia','France','Argentina','Jamaica']\n",
    "for key in list_p:\n",
    "    print(key,success_estimates[key])"
   ]
  },
  {
   "cell_type": "markdown",
   "metadata": {},
   "source": [
    "# Ejm_5"
   ]
  },
  {
   "cell_type": "code",
   "execution_count": 7,
   "metadata": {},
   "outputs": [
    {
     "name": "stdout",
     "output_type": "stream",
     "text": [
      "Australia [0.6, 0.33, 0.11, 0.14]\n",
      "France [0.66, 0.78, 0.98, 0.2]\n",
      "Italy [0.6]\n",
      "Brazil [0.22, 0.22, 0.43]\n",
      "USA [0.2, 0.5, 0.3]\n",
      "England [0.45]\n",
      "Canada [0.25, 0.3]\n",
      "Greece [0.45, 0.66, 0.75, 0.99, 0.15, 0.66]\n",
      "Morocco [0.29]\n",
      "Tunisia [0.68, 0.56]\n",
      "Egypt [0.99]\n",
      "Switzerland [0.73, 0.86, 0.84, 0.51, 0.99]\n",
      "Germany [0.45, 0.49, 0.36]\n"
     ]
    }
   ],
   "source": [
    "for key, value in success_estimates.items():\n",
    "    if(key!='Argentina' and key!='Jamaica'):\n",
    "        print(key,value)        "
   ]
  },
  {
   "cell_type": "markdown",
   "metadata": {},
   "source": [
    "# Ejm_6"
   ]
  },
  {
   "cell_type": "code",
   "execution_count": 23,
   "metadata": {},
   "outputs": [
    {
     "name": "stdout",
     "output_type": "stream",
     "text": [
      "Australia [0.6, 0.33, 0.11, 0.14]\n",
      "4\n",
      "France [0.66, 0.78, 0.98, 0.2]\n",
      "4\n",
      "Italy [0.6]\n",
      "1\n",
      "Brazil [0.22, 0.22, 0.43]\n",
      "3\n",
      "USA [0.2, 0.5, 0.3]\n",
      "3\n",
      "England [0.45]\n",
      "1\n",
      "Canada [0.25, 0.3]\n",
      "2\n",
      "Argentina [0.22]\n",
      "1\n",
      "Greece [0.45, 0.66, 0.75, 0.99, 0.15, 0.66]\n",
      "6\n",
      "Morocco [0.29]\n",
      "1\n",
      "Tunisia [0.68, 0.56]\n",
      "2\n",
      "Egypt [0.99]\n",
      "1\n",
      "Jamaica [0.61, 0.65, 0.71]\n",
      "3\n",
      "Switzerland [0.73, 0.86, 0.84, 0.51, 0.99]\n",
      "5\n",
      "Germany [0.45, 0.49, 0.36]\n",
      "3\n",
      "Total: 40\n"
     ]
    }
   ],
   "source": [
    "acum=0\n",
    "for key,value in success_estimates.items():\n",
    "    print(key,value)\n",
    "    print(len(value))\n",
    "    len(value)==valor\n",
    "    acum+=len(value)\n",
    "print(\"Total:\",acum)"
   ]
  },
  {
   "cell_type": "markdown",
   "metadata": {},
   "source": [
    "# Ejm_7"
   ]
  },
  {
   "cell_type": "code",
   "execution_count": 5,
   "metadata": {},
   "outputs": [
    {
     "name": "stdout",
     "output_type": "stream",
     "text": [
      "Ingrese cedula: 23\n",
      "Digite nombre: omar\n",
      "Digite apellido: rendon\n",
      "Ingrese edad: 32\n",
      "{'Cedula': 23, 'Nombre': 'omar', 'Apellido': 'rendon', 'Edad': 32}\n"
     ]
    }
   ],
   "source": [
    "dicc={}\n",
    "ced=int(input(\"Ingrese cedula: \"))\n",
    "dicc[\"Cedula\"]=ced\n",
    "nom=input(\"Digite nombre: \")\n",
    "dicc[\"Nombre\"]=nom\n",
    "apell=input(\"Digite apellido: \")\n",
    "dicc[\"Apellido\"]=apell\n",
    "edad=int(input(\"Ingrese edad: \"))\n",
    "dicc[\"Edad\"]=edad\n",
    "print(dicc)"
   ]
  },
  {
   "cell_type": "markdown",
   "metadata": {},
   "source": [
    "# Ejm_8"
   ]
  },
  {
   "cell_type": "code",
   "execution_count": 48,
   "metadata": {},
   "outputs": [
    {
     "name": "stdout",
     "output_type": "stream",
     "text": [
      "Digite llave:nombre\n",
      "Digite valor:omar\n",
      "Digite llave:apellido\n",
      "Digite valor:rendon\n",
      "Digite llave:edad\n",
      "Digite valor:32\n",
      "{'nombre': 'omar', 'apellido': 'rendon', 'edad': '32'}\n",
      "Hola omar\n"
     ]
    }
   ],
   "source": [
    "dic={}\n",
    "\n",
    "for i in range (3):\n",
    "    key=input(\"Digite llave:\")\n",
    "    val=input(\"Digite valor:\")\n",
    "    dic[key]=val\n",
    "print(dic)\n",
    "if('nombre' in dic):\n",
    "    print('Hola',dic['nombre'])\n",
    "        #print('Hola',val)"
   ]
  },
  {
   "cell_type": "markdown",
   "metadata": {},
   "source": [
    "# Ejm_9"
   ]
  },
  {
   "cell_type": "code",
   "execution_count": 59,
   "metadata": {},
   "outputs": [
    {
     "name": "stdout",
     "output_type": "stream",
     "text": [
      "Ingrese cantidad:2\n",
      "Digite nombre:omar\n",
      "Digite apellido:rendon\n",
      "Digite nombre:andrea\n",
      "Digite apellido:ospina\n",
      "['omar', 'andrea']\n",
      "['rendon', 'ospina']\n",
      "{'Nombre': ['omar', 'andrea'], 'Apellido': ['rendon', 'ospina']}\n"
     ]
    }
   ],
   "source": [
    "diccio={}\n",
    "nom=[]\n",
    "apel=[]\n",
    "n=int(input(\"Ingrese cantidad:\"))\n",
    "for i in range (n):\n",
    "    nomb=input(\"Digite nombre:\")\n",
    "    nom.append(nomb)\n",
    "    apell=input(\"Digite apellido:\")\n",
    "    apel.append(apell)\n",
    "print(nom)\n",
    "print(apel)\n",
    "if(nomb in nom and apell in apel):\n",
    "    diccio['Nombre']=nom\n",
    "    diccio['Apellido']=apel\n",
    "print(diccio)"
   ]
  },
  {
   "cell_type": "markdown",
   "metadata": {},
   "source": [
    "# Ejm_10"
   ]
  },
  {
   "cell_type": "code",
   "execution_count": 23,
   "metadata": {},
   "outputs": [
    {
     "name": "stdout",
     "output_type": "stream",
     "text": [
      "Ingrese cantidad:2\n",
      "Ingrese documento:123\n",
      "Digite nombre:Andrea\n",
      "Digite apellido:Ospina\n",
      "Ingrese sexo:F\n",
      "Escriba estado civil:Soltera\n",
      "(123, 'Andrea', 'Ospina', 'F', 'Soltera')\n",
      "Ingrese documento:234\n",
      "Digite nombre:Omar\n",
      "Digite apellido:Rendón\n",
      "Ingrese sexo:M\n",
      "Escriba estado civil:Soltero\n",
      "(234, 'Omar', 'Rendón', 'M', 'Soltero')\n",
      "[(123, 'Andrea', 'Ospina', 'F', 'Soltera'), (234, 'Omar', 'Rendón', 'M', 'Soltero')]\n",
      "La Sra.Andrea Ospina, Identificado con cédula de ciudadania número123, se encuentra Soltera \n",
      "El Sr.Omar Rendón, Identificado con cédula de ciudadania número234, se encuentra Soltero \n"
     ]
    }
   ],
   "source": [
    "dictio={}\n",
    "info=[]\n",
    "\n",
    "n=int(input(\"Ingrese cantidad:\"))\n",
    "for i in range (n):\n",
    "    cedu=int(input(\"Ingrese documento:\"))\n",
    "    nomb=input(\"Digite nombre:\")\n",
    "    apell=input(\"Digite apellido:\")\n",
    "    sexo=input(\"Ingrese sexo:\")\n",
    "    est_civil=input(\"Escriba estado civil:\")\n",
    "    tupla=(cedu,nomb,apell,sexo,est_civil)\n",
    "    print(tupla)\n",
    "    info.append(tupla)\n",
    "print(info)\n",
    "for tupla in info:\n",
    "    if(tupla[3]==\"M\"):\n",
    "        print(\"El Sr.{} {}, Identificado con cédula de ciudadania número {}, se encuentra {} \".format(tupla[1],tupla[2],tupla[0],tupla[4]))\n",
    "    else:\n",
    "        print(\"La Sra.{} {}, Identificado con cédula de ciudadania número {}, se encuentra {} \".format(tupla[1],tupla[2],tupla[0],tupla[4]))\n",
    "        "
   ]
  },
  {
   "cell_type": "markdown",
   "metadata": {},
   "source": [
    "# Ejm_11"
   ]
  },
  {
   "cell_type": "code",
   "execution_count": 26,
   "metadata": {},
   "outputs": [
    {
     "name": "stdout",
     "output_type": "stream",
     "text": [
      "Ingrese edad:25\n",
      "Ingrese estrato:3\n",
      "Ingrese salario:1000\n",
      "(25, 3, 1000)\n",
      "¿Desea ingresar más datos?si\n",
      "Ingrese edad:32\n",
      "Ingrese estrato:3\n",
      "Ingrese salario:900\n",
      "(32, 3, 900)\n",
      "¿Desea ingresar más datos?si\n",
      "Ingrese edad:22\n",
      "Ingrese estrato:2\n",
      "Ingrese salario:1200\n",
      "(22, 2, 1200)\n",
      "¿Desea ingresar más datos?si\n",
      "Ingrese edad:45\n",
      "Ingrese estrato:1\n",
      "Ingrese salario:250\n",
      "(45, 1, 250)\n",
      "¿Desea ingresar más datos?no\n",
      "[(25, 3, 1000), (32, 3, 900), (22, 2, 1200), (45, 1, 250)]\n"
     ]
    },
    {
     "ename": "TypeError",
     "evalue": "unsupported operand type(s) for +=: 'int' and 'tuple'",
     "output_type": "error",
     "traceback": [
      "\u001b[1;31m---------------------------------------------------------------------------\u001b[0m",
      "\u001b[1;31mTypeError\u001b[0m                                 Traceback (most recent call last)",
      "\u001b[1;32m<ipython-input-26-31e31007fb56>\u001b[0m in \u001b[0;36m<module>\u001b[1;34m\u001b[0m\n\u001b[0;32m     14\u001b[0m \u001b[1;32mfor\u001b[0m \u001b[0mtupla\u001b[0m \u001b[1;32min\u001b[0m \u001b[0mdatos\u001b[0m\u001b[1;33m:\u001b[0m\u001b[1;33m\u001b[0m\u001b[1;33m\u001b[0m\u001b[0m\n\u001b[0;32m     15\u001b[0m     \u001b[1;32mif\u001b[0m\u001b[1;33m(\u001b[0m\u001b[0mtupla\u001b[0m\u001b[1;33m[\u001b[0m\u001b[1;36m1\u001b[0m\u001b[1;33m]\u001b[0m\u001b[1;33m==\u001b[0m\u001b[1;36m3\u001b[0m\u001b[1;33m)\u001b[0m\u001b[1;33m:\u001b[0m\u001b[1;33m\u001b[0m\u001b[1;33m\u001b[0m\u001b[0m\n\u001b[1;32m---> 16\u001b[1;33m         \u001b[0macum_t\u001b[0m\u001b[1;33m+=\u001b[0m\u001b[0mtupla\u001b[0m\u001b[1;33m\u001b[0m\u001b[1;33m\u001b[0m\u001b[0m\n\u001b[0m\u001b[0;32m     17\u001b[0m         \u001b[0mest3\u001b[0m\u001b[1;33m=\u001b[0m\u001b[0macum_t\u001b[0m\u001b[1;33m\u001b[0m\u001b[1;33m\u001b[0m\u001b[0m\n\u001b[0;32m     18\u001b[0m         \u001b[0mprint\u001b[0m\u001b[1;33m(\u001b[0m\u001b[0mest3\u001b[0m\u001b[1;33m)\u001b[0m\u001b[1;33m\u001b[0m\u001b[1;33m\u001b[0m\u001b[0m\n",
      "\u001b[1;31mTypeError\u001b[0m: unsupported operand type(s) for +=: 'int' and 'tuple'"
     ]
    }
   ],
   "source": [
    "dicc={}\n",
    "datos=[]\n",
    "acum_t=0\n",
    "resp=\"si\"\n",
    "while(resp==\"si\"):\n",
    "    edad=int(input(\"Ingrese edad:\"))\n",
    "    est=int(input(\"Ingrese estrato:\"))\n",
    "    sal=int(input(\"Ingrese salario:\"))\n",
    "    tupla=(edad,est,sal)\n",
    "    print(tupla)\n",
    "    datos.append(tupla)\n",
    "    resp=input(\"¿Desea ingresar más datos?\")\n",
    "print(datos)\n",
    "for tupla in datos:\n",
    "    if(tupla[1]==3):\n",
    "        acum_t+=tupla\n",
    "        est3=acum_t\n",
    "        print(est3)\n",
    "    elif(tupla[1]==2):\n",
    "        acum_t+=tupla\n",
    "        est2=acum_t\n",
    "        print(est2)\n",
    "    elif(tupla[1]==1):\n",
    "        acum_t+=tupla\n",
    "        est1=acum_t\n",
    "        print(est1)"
   ]
  }
 ],
 "metadata": {
  "kernelspec": {
   "display_name": "Python 3",
   "language": "python",
   "name": "python3"
  },
  "language_info": {
   "codemirror_mode": {
    "name": "ipython",
    "version": 3
   },
   "file_extension": ".py",
   "mimetype": "text/x-python",
   "name": "python",
   "nbconvert_exporter": "python",
   "pygments_lexer": "ipython3",
   "version": "3.7.6"
  }
 },
 "nbformat": 4,
 "nbformat_minor": 4
}
