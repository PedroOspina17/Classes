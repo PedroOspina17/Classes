{
 "cells": [
  {
   "cell_type": "markdown",
   "metadata": {},
   "source": [
    "## usuario y contraseña"
   ]
  },
  {
   "cell_type": "code",
   "execution_count": 44,
   "metadata": {},
   "outputs": [
    {
     "name": "stdout",
     "output_type": "stream",
     "text": [
      "escriba el codigo de usuario: 1\n",
      "escriba la contraseña: 1234\n",
      "el codigo y la contraseña son correctos\n"
     ]
    }
   ],
   "source": [
    "contraseña=\"1234\"\n",
    "Co_usuario=\"1\"\n",
    "\n",
    "Co_usuario=(input(\"escriba el codigo de usuario: \"))\n",
    "contraseña=(input(\"escriba la contraseña: \"))\n",
    "if (Co_usuario==\"1\" and contraseña==\"1234\"):\n",
    "    print(\"el codigo y la contraseña son correctos\")\n",
    "else:\n",
    "    print(\"incorrecto\")\n",
    "    while (Co_usuario!=\"1\" ):\n",
    "        Co_usuario=input(\"escriba el codigo de usuario otra vez: \")\n",
    "    else:\n",
    "        print(\"el codigo es correcto\")     \n",
    "            \n",
    "    while (contraseña!=\"1234\" ):\n",
    "         contraseña=input(\"escriba la contraseña otra vez: \")\n",
    "        \n",
    "    else:\n",
    "        print(\"el codigo y la contraseña son correctos \")\n",
    "\n",
    "\n"
   ]
  },
  {
   "cell_type": "markdown",
   "metadata": {},
   "source": [
    "## desea continuar"
   ]
  },
  {
   "cell_type": "code",
   "execution_count": 6,
   "metadata": {},
   "outputs": [
    {
     "name": "stdout",
     "output_type": "stream",
     "text": [
      "ud desea continuar: si\n",
      "ud desea continuar: si\n",
      "ud desea continuar: si\n",
      "ud desea continuar: si\n",
      "ud desea continuar: no\n",
      "ud escribio 4 si \n"
     ]
    }
   ],
   "source": [
    "si=-1\n",
    "continuar=\"si\"\n",
    "while(continuar==\"si\"):\n",
    "        continuar=input(\"ud desea continuar: \")\n",
    "        si+=1\n",
    "print(\"ud escribio {} si \".format(si))\n"
   ]
  },
  {
   "cell_type": "markdown",
   "metadata": {},
   "source": [
    "## notas"
   ]
  },
  {
   "cell_type": "code",
   "execution_count": 12,
   "metadata": {},
   "outputs": [
    {
     "name": "stdout",
     "output_type": "stream",
     "text": [
      "escriba la nota: 1\n",
      "desea pedir otra nota: si\n",
      "escriba la nota: 2\n",
      "desea pedir otra nota: si\n",
      "escriba la nota: 3\n",
      "desea pedir otra nota: si\n",
      "escriba la nota: 4\n",
      "desea pedir otra nota: si\n",
      "escriba la nota: 5\n",
      "desea pedir otra nota: si\n",
      "escriba la nota: 6\n",
      "desea pedir otra nota: si\n",
      "escriba la nota: 7\n",
      "desea pedir otra nota: no\n",
      "el promedio de sus notas es: 4.00 \n"
     ]
    }
   ],
   "source": [
    "suma=0\n",
    "suma2=0\n",
    "pedirN=\"si\"\n",
    "while(pedirN==\"si\"):\n",
    "    nota=int(input(\"escriba la nota: \"))\n",
    "    suma+=nota\n",
    "    suma2+=1\n",
    "    div=suma/suma2\n",
    "    pedirN=input(\"desea pedir otra nota: \")\n",
    "\n",
    "print(\"el promedio de sus notas es: {:.2f} \".format(div))\n",
    "\n",
    "\n"
   ]
  },
  {
   "cell_type": "markdown",
   "metadata": {},
   "source": [
    "## numeros naturales"
   ]
  },
  {
   "cell_type": "code",
   "execution_count": 41,
   "metadata": {
    "scrolled": true
   },
   "outputs": [
    {
     "name": "stdout",
     "output_type": "stream",
     "text": [
      "escriba un numero 4\n",
      "escriba un numero 5\n",
      "escriba un numero 4\n",
      "escriba un numero 5\n",
      "escriba un numero 3\n",
      "escriba un numero 2\n",
      "escriba un numero 4\n",
      "escriba un numero -1\n",
      "\n",
      "la cantidad es: 8 \n",
      "la suma de los numeros son: 26 \n",
      "el promedio es de: 3.2 \n"
     ]
    }
   ],
   "source": [
    "cantidad=0\n",
    "suma=0\n",
    "numero=1\n",
    "while(numero>=1):\n",
    "    numero=int(input(\"escriba un numero \"))\n",
    "    cantidad+=1\n",
    "    suma+=numero\n",
    "    promedio=suma/cantidad\n",
    "print()\n",
    "print(\"la cantidad es: {} \".format(cantidad))\n",
    "print(\"la suma de los numeros son: {} \".format(suma))\n",
    "print(\"el promedio es de: {:.1f} \".format(promedio))\n",
    "\n"
   ]
  },
  {
   "cell_type": "markdown",
   "metadata": {},
   "source": [
    "## grupo de estudiantes"
   ]
  },
  {
   "cell_type": "code",
   "execution_count": 24,
   "metadata": {},
   "outputs": [
    {
     "name": "stdout",
     "output_type": "stream",
     "text": [
      "ingrese la nota del estudiante 4\n",
      "ingrese la nota del estudiante 4\n",
      "ingrese la nota del estudiante 4\n",
      "ingrese la nota del estudiante 4\n",
      "ingrese la nota del estudiante 4\n",
      "ingrese la nota del estudiante 2\n",
      "ingrese la nota del estudiante 3\n",
      "ingrese la nota del estudiante 3\n",
      "ingrese la nota del estudiante 3\n",
      "ingrese la nota del estudiante 3\n",
      "ingrese la nota del estudiante 3\n",
      "ingrese la nota del estudiante 3\n",
      "ingrese la nota del estudiante 3\n",
      "ingrese la nota del estudiante 3\n",
      "ingrese la nota del estudiante 3\n",
      "ingrese la nota del estudiante 3\n",
      "ingrese la nota del estudiante 3\n",
      "ingrese la nota del estudiante 3\n",
      "ingrese la nota del estudiante 3\n",
      "ingrese la nota del estudiante 3\n",
      "la nota mayor es: 4 \n",
      "la nota menor es: 2 \n",
      "el promedio es de: 3.20 \n"
     ]
    }
   ],
   "source": [
    "notaM=0\n",
    "notaME=5\n",
    "estudiantes=20\n",
    "N_estu=0\n",
    "suma=0\n",
    "while (N_estu<20):\n",
    "    N_estu+=1\n",
    "    nota=int(input(\"ingrese la nota del estudiante \"))    \n",
    "    if (nota>5):\n",
    "        print(\"ingresaste una nota no valida\")\n",
    "        break\n",
    "    if (nota>notaM):\n",
    "        notaM=nota\n",
    "    if (nota<notaME ):\n",
    "        notaME=nota\n",
    "    suma+=nota\n",
    "    promedio=suma/20\n",
    "print(\"la nota mayor es: {} \".format(notaM))\n",
    "print(\"la nota menor es: {} \".format(notaME))\n",
    "print(\"el promedio es de: {:.2f} \".format(promedio))"
   ]
  },
  {
   "cell_type": "markdown",
   "metadata": {},
   "source": [
    "## numeros sumados"
   ]
  },
  {
   "cell_type": "code",
   "execution_count": 20,
   "metadata": {
    "scrolled": true
   },
   "outputs": [
    {
     "name": "stdout",
     "output_type": "stream",
     "text": [
      "escriba un numero: 5\n",
      "la suma de los numeros es de: 15 \n"
     ]
    }
   ],
   "source": [
    "i=0\n",
    "suma=0\n",
    "numero=int(input(\"escriba un numero: \"))\n",
    "while (i<numero):\n",
    "    i+=1\n",
    "    suma+=i\n",
    "print(\"la suma de los numeros es de: {} \".format(suma))"
   ]
  },
  {
   "cell_type": "markdown",
   "metadata": {},
   "source": [
    "## suma de negativos"
   ]
  },
  {
   "cell_type": "code",
   "execution_count": null,
   "metadata": {},
   "outputs": [],
   "source": []
  }
 ],
 "metadata": {
  "kernelspec": {
   "display_name": "Python 3",
   "language": "python",
   "name": "python3"
  },
  "language_info": {
   "codemirror_mode": {
    "name": "ipython",
    "version": 3
   },
   "file_extension": ".py",
   "mimetype": "text/x-python",
   "name": "python",
   "nbconvert_exporter": "python",
   "pygments_lexer": "ipython3",
   "version": "3.7.6"
  }
 },
 "nbformat": 4,
 "nbformat_minor": 4
}
