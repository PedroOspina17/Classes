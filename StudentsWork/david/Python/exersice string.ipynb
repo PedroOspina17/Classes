{
 "cells": [
  {
   "cell_type": "markdown",
   "metadata": {},
   "source": [
    "### Strings\n",
    "\n",
    "### Useful functions\n",
    "\n",
    "- **str**: To convert any type to strings. ``str(valueToConvert)``\n",
    "- **format:** to apply formating to an specific string. ``stringToFormat.format()``\n",
    "- **upper:** to convert a string to upper case. ``stringToUpper.upper()``\n",
    "- **lower:** to convert a string to upper case. ``stringToLower.lower()``\n",
    "- **strip:** to eliminate white spaces from beggining and at the end. ``stringToClean.strip()``\n",
    "- **split:** to separate elements by an specific character. ``stringToDivide.split(characterToFind)``\n",
    "- **replace:** to replace an string with another. ``stringToModify.replace(stringToFind,stringToReplace)``\n",
    "- **join:** to concatenate a list with an specific string. ``stringToConcatenate.join(listToConcatenate)``\n",
    "- **start with:** to verify if a string starts with an specific string. ``stringToVerify.startsWith(stringToCompare)``\n",
    "- **ends with:** to verify if a string starts with an specific string. ``stringToVerify.endsWith(stringToCompare)``\n",
    "- **islower:** to verify if a string starts with an specific string. ``stringToVerify.isLower()``\n",
    "- **isupper:** to verify if a string ends with an specific string. ``stringToVerify.isUpper()``\n",
    "- **istitle:** to verify if a string starts with an upper case string. ``stringToVerify.isTitle()``\n",
    "- **isdigit:** to verify if a string is numeric. ``stringToVerify.isDigit()``\n",
    "- **isalpha:** to verify if a string is alphanumeric. ``stringToVerify.isalpha()``\n",
    "- **count**: To count how many times is a word in a string. ``stringToVerigy.count(stringToCount)``\n",
    "\n",
    "\n",
    "for more info about strings [Click here !!](https://www.w3schools.com/python/python_strings.asp)"
   ]
  },
  {
   "cell_type": "markdown",
   "metadata": {},
   "source": [
    "## primeros y ultimos caracteres "
   ]
  },
  {
   "cell_type": "code",
   "execution_count": null,
   "metadata": {},
   "outputs": [],
   "source": [
    "word=list(input(\"writre 1 word: \" ))\n",
    "listt=list(word)\n",
    "print(\"the first two letter are {} and the ultimate letter are {} :\".format(listt[:2],listt[-2:]))"
   ]
  },
  {
   "cell_type": "markdown",
   "metadata": {},
   "source": [
    "## caracteres"
   ]
  },
  {
   "cell_type": "code",
   "execution_count": 40,
   "metadata": {},
   "outputs": [
    {
     "name": "stdout",
     "output_type": "stream",
     "text": [
      "writre 1 word: hello\n",
      "which character do you want to ride: $\n",
      "\n",
      "h$e$l$l$o\n"
     ]
    }
   ],
   "source": [
    "word=input(\"writre 1 word: \" )\n",
    "character=input(\"which character do you want to ride: \")\n",
    "listt=list(word)\n",
    "print()\n",
    "letterlist=character.join(word)\n",
    "print(letterlist)"
   ]
  },
  {
   "cell_type": "markdown",
   "metadata": {},
   "source": [
    "## frases"
   ]
  },
  {
   "cell_type": "code",
   "execution_count": 1,
   "metadata": {},
   "outputs": [
    {
     "name": "stdout",
     "output_type": "stream",
     "text": [
      "write 1 phrases: HOLa mundo\n",
      "write 1 word: hola\n",
      "the word 'hola' is part of 'hola mundo'\n"
     ]
    }
   ],
   "source": [
    "phrases=input(\"write 1 phrases: \")\n",
    "phraseslower=phrases.lower()\n",
    "word=input(\"write 1 word: \")\n",
    "wordlower=word.lower()\n",
    "if (wordlower in phraseslower):\n",
    "    print(\"the word '{}' is part of '{}'\".format(wordlower,phraseslower))"
   ]
  },
  {
   "cell_type": "markdown",
   "metadata": {},
   "source": [
    "### remplase los espacios"
   ]
  },
  {
   "cell_type": "code",
   "execution_count": 4,
   "metadata": {},
   "outputs": [
    {
     "name": "stdout",
     "output_type": "stream",
     "text": [
      "write 1 phrases: hola mundo\n",
      "hola_mundo\n"
     ]
    }
   ],
   "source": [
    "phrases=input(\"write 1 phrases: \")\n",
    "phraseslist=list(phrases)\n",
    "character=phrases.replace(\" \",\"_\")\n",
    "print(character)"
   ]
  },
  {
   "cell_type": "markdown",
   "metadata": {},
   "source": [
    "## ocultar contraseña"
   ]
  },
  {
   "cell_type": "code",
   "execution_count": 18,
   "metadata": {},
   "outputs": [
    {
     "name": "stdout",
     "output_type": "stream",
     "text": [
      "write your password: drcftvgybhunjimk\n",
      "your pssword is drcftvgybhunjimk and your hidden password xxxxxxxxxxxxxxxx\n"
     ]
    }
   ],
   "source": [
    "lisst=[]\n",
    "password=input(\"write your password: \")\n",
    "passwordlist=list(password)\n",
    "for listt in passwordlist:\n",
    "    lisst.append(\"x\")\n",
    "    letter=\"\".join(lisst)\n",
    "print(\"your pssword is {} and your hidden password {}\".format(password,letter))"
   ]
  },
  {
   "cell_type": "markdown",
   "metadata": {},
   "source": [
    "## poner punto cada tres dijitos"
   ]
  },
  {
   "cell_type": "code",
   "execution_count": 85,
   "metadata": {},
   "outputs": [
    {
     "name": "stdout",
     "output_type": "stream",
     "text": [
      "write numbers: 2552552550\n",
      "255.255.255.0\n"
     ]
    }
   ],
   "source": [
    "cont=0\n",
    "list2=[]\n",
    "numbers=input(\"write numbers: \")\n",
    "listt=list(numbers)\n",
    "for e in listt:\n",
    "    list2.append(e)\n",
    "    cont+=1\n",
    "    if (cont==3):\n",
    "        list2.append(\".\")\n",
    "        cont=0\n",
    "letterlist=\"\".join(list2)\n",
    "print(letterlist)"
   ]
  },
  {
   "cell_type": "markdown",
   "metadata": {},
   "source": [
    "## escribir solo consonantes"
   ]
  },
  {
   "cell_type": "code",
   "execution_count": null,
   "metadata": {},
   "outputs": [],
   "source": [
    "dicc=[\"a\",\"e\",\"i\",\"o\",\"u\"]\n",
    "consonat=[]\n",
    "word=input(\"write word: \")\n",
    "wolder=word.lower()\n",
    "print()\n",
    "print(wolder)\n",
    "print()\n",
    "for e in wolder:\n",
    "    if (e not in dicc):\n",
    "        consonat.append(e)\n",
    "print(\"the all consonant are {}\".format(consonat))"
   ]
  },
  {
   "cell_type": "markdown",
   "metadata": {},
   "source": [
    "## nombre,apellido y edad"
   ]
  },
  {
   "cell_type": "code",
   "execution_count": 1,
   "metadata": {},
   "outputs": [
    {
     "name": "stdout",
     "output_type": "stream",
     "text": [
      "write your name, lastnameand and your age separate for ',': david,alejandro,ossa\n",
      "\n",
      "hello david alejandro, are you ossa years old? \n"
     ]
    }
   ],
   "source": [
    "NLA=input(\"write your name, lastnameand and your age separate for ',': \")\n",
    "split=NLA.split(\",\")\n",
    "print()\n",
    "print(\"hello {} {}, are you {} years old? \".format(split[0],split[1],split[2]))\n"
   ]
  },
  {
   "cell_type": "markdown",
   "metadata": {},
   "source": [
    "### remplazar la vocal por la vocal sigiente"
   ]
  },
  {
   "cell_type": "code",
   "execution_count": 39,
   "metadata": {},
   "outputs": [
    {
     "name": "stdout",
     "output_type": "stream",
     "text": [
      "write 1 word: david\n",
      "devod\n"
     ]
    }
   ],
   "source": [
    "word=input(\"write 1 word: \")\n",
    "list1=list(word.lower())\n",
    "for i,e in enumerate(list1):\n",
    "    if (e==\"a\"):\n",
    "        list1[i]=\"e\"\n",
    "    elif (e==\"e\"):\n",
    "        list1[i]=\"i\"\n",
    "    elif (e==\"i\"):\n",
    "        list1[i]=\"o\"\n",
    "    elif (e==\"o\"):\n",
    "        list1[i]=\"u\"\n",
    "    elif (e==\"u\"):\n",
    "        list1[i]=\"a\"\n",
    "list1=\"\".join(list1)\n",
    "print(list1)    "
   ]
  },
  {
   "cell_type": "markdown",
   "metadata": {},
   "source": [
    "## palabra palindroma"
   ]
  },
  {
   "cell_type": "code",
   "execution_count": 45,
   "metadata": {
    "scrolled": true
   },
   "outputs": [
    {
     "name": "stdout",
     "output_type": "stream",
     "text": [
      "write word or phrase: aba\n",
      "palindroma\n"
     ]
    }
   ],
   "source": [
    "listt=[]\n",
    "list2=[]\n",
    "word=input(\"write word or phrase: \")\n",
    "lower=word.lower()\n",
    "replace=lower.replace(\" \",\"\")\n",
    "listt=list(replace)\n",
    "list2=list(replace)\n",
    "list2=list2[::-1]\n",
    "if (listt==list2):\n",
    "    print(\"palindroma\")\n",
    "else:\n",
    "    print(\"no palindrma\")"
   ]
  },
  {
   "cell_type": "markdown",
   "metadata": {},
   "source": [
    "##  remplazar el pin"
   ]
  },
  {
   "cell_type": "code",
   "execution_count": 99,
   "metadata": {},
   "outputs": [
    {
     "name": "stdout",
     "output_type": "stream",
     "text": [
      "write your pin: mi:123\n",
      "x\n",
      "123\n",
      "x\n",
      "123\n",
      "x\n",
      "123\n",
      "mi:123\n"
     ]
    }
   ],
   "source": [
    "pin=input(\"write your pin: \")\n",
    "string=pin.find(\":\")\n",
    "part1=(pin[0:string+1])\n",
    "password=(pin[string+1:]) \n",
    "password=password.replace(\" \",\"\")\n",
    "for e in password:\n",
    "    e=e.replace(e,\"x\")\n",
    "    \n",
    "    print(e)\n",
    "    print(password)\n",
    "print(part1+password)\n",
    "    "
   ]
  },
  {
   "cell_type": "markdown",
   "metadata": {},
   "source": [
    "## contraseña con requisitos"
   ]
  },
  {
   "cell_type": "code",
   "execution_count": 12,
   "metadata": {},
   "outputs": [
    {
     "name": "stdout",
     "output_type": "stream",
     "text": [
      "write your password in capital letters, lowercase letters, and numbers: DAvid123\n",
      "['D', 'A', 'v', 'i', 'd', '1', '2', '3']\n",
      "3\n",
      "2\n",
      "3\n",
      "password created\n"
     ]
    }
   ],
   "source": [
    "listt=[]        \n",
    "lower=0\n",
    "uper=0\n",
    "numeric=0\n",
    "password=input(\"write your password in capital letters, lowercase letters, and numbers: \")\n",
    "listt=list(password)\n",
    "print(listt)\n",
    "for e in listt:\n",
    "    if (e.isupper()):\n",
    "        uper+=1\n",
    "    elif (e.islower()):\n",
    "        lower+=1\n",
    "    elif (e.isnumeric()):\n",
    "        numeric+=1\n",
    "print(lower)\n",
    "print(uper)\n",
    "print(numeric)\n",
    "if (lower>0 and uper>0 and numeric>0):\n",
    "    print(\"password created\")\n",
    "else:\n",
    "    print(\"password no created\")\n",
    "    "
   ]
  },
  {
   "cell_type": "markdown",
   "metadata": {},
   "source": [
    "### que criterio de la contraseña no cumple"
   ]
  },
  {
   "cell_type": "code",
   "execution_count": null,
   "metadata": {},
   "outputs": [],
   "source": []
  }
 ],
 "metadata": {
  "kernelspec": {
   "display_name": "Python 3",
   "language": "python",
   "name": "python3"
  },
  "language_info": {
   "codemirror_mode": {
    "name": "ipython",
    "version": 3
   },
   "file_extension": ".py",
   "mimetype": "text/x-python",
   "name": "python",
   "nbconvert_exporter": "python",
   "pygments_lexer": "ipython3",
   "version": "3.7.6"
  }
 },
 "nbformat": 4,
 "nbformat_minor": 4
}
