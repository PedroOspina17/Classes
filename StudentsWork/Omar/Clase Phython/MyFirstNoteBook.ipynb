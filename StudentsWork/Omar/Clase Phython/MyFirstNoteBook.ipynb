{
 "cells": [
  {
   "cell_type": "markdown",
   "metadata": {},
   "source": [
    "# Ejm_2"
   ]
  },
  {
   "cell_type": "code",
   "execution_count": null,
   "metadata": {},
   "outputs": [],
   "source": [
    "a=5\n",
    "print(a)\n",
    "\n",
    "b=8\n",
    "print(b)\n",
    "a*b\n",
    "print(\"El producto de la multi´plicacion es:\", a*b)"
   ]
  },
  {
   "cell_type": "markdown",
   "metadata": {},
   "source": [
    "# Ejm_5"
   ]
  },
  {
   "cell_type": "code",
   "execution_count": null,
   "metadata": {},
   "outputs": [],
   "source": [
    "n1=4.3\n",
    "n2=3.5\n",
    "n3=2.8\n",
    "print(\"El promedio de notas es: \",(n1+n2+n3)/3)"
   ]
  },
  {
   "cell_type": "markdown",
   "metadata": {},
   "source": [
    "# Ejm_6"
   ]
  },
  {
   "cell_type": "code",
   "execution_count": null,
   "metadata": {},
   "outputs": [],
   "source": [
    "C=30\n",
    "\n",
    "print(\"Grados °F: \",(C*1.8)+32)"
   ]
  },
  {
   "cell_type": "markdown",
   "metadata": {},
   "source": [
    "# Ejm_7"
   ]
  },
  {
   "cell_type": "code",
   "execution_count": null,
   "metadata": {},
   "outputs": [],
   "source": [
    "num= int(input(\"ingrese el numero:\"))\n",
    "total=num+10\n",
    "print(total)"
   ]
  },
  {
   "cell_type": "markdown",
   "metadata": {},
   "source": [
    "# Ejm_8"
   ]
  },
  {
   "cell_type": "code",
   "execution_count": null,
   "metadata": {},
   "outputs": [],
   "source": [
    "C= int(input(\"Ingrese el valor de °C:\"))\n",
    "print(C)\n",
    "F=(C*1.8)+32\n",
    "print(\"El valor en °F es:\",F)"
   ]
  },
  {
   "cell_type": "markdown",
   "metadata": {},
   "source": [
    "# Ejm_9"
   ]
  },
  {
   "cell_type": "code",
   "execution_count": null,
   "metadata": {},
   "outputs": [],
   "source": [
    "nombre=input(\"Nombre del empleado:\")\n",
    "print(nombre)\n",
    "horas_t=int(input(\"Total de horas trabajadas:\"))\n",
    "print(horas_t)\n",
    "valor_h=int(input(\"Valor de la hora:\"))\n",
    "print(valor_h)\n",
    "sueldo=(input(\"El sueldo del empleado es:\",horas_t*valor_h))\n",
    "print(sueldo)"
   ]
  }
 ],
 "metadata": {
  "kernelspec": {
   "display_name": "Python 3",
   "language": "python",
   "name": "python3"
  },
  "language_info": {
   "codemirror_mode": {
    "name": "ipython",
    "version": 3
   },
   "file_extension": ".py",
   "mimetype": "text/x-python",
   "name": "python",
   "nbconvert_exporter": "python",
   "pygments_lexer": "ipython3",
   "version": "3.7.6"
  }
 },
 "nbformat": 4,
 "nbformat_minor": 4
}
