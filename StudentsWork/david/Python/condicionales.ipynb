{
 "cells": [
  {
   "cell_type": "markdown",
   "metadata": {},
   "source": [
    "## cedula"
   ]
  },
  {
   "cell_type": "code",
   "execution_count": 45,
   "metadata": {},
   "outputs": [
    {
     "name": "stdout",
     "output_type": "stream",
     "text": [
      "escriba su año de nacimiento2005\n",
      "ud no puede sacar la cedula todavia\n"
     ]
    }
   ],
   "source": [
    "años=int(input(\"escriba su año de nacimiento\"))\n",
    "añoac=2020\n",
    "edad=añoac-años\n",
    "if (edad>=18):\n",
    "    print(\"ud si puede sacar la cedula\")\n",
    "else:\n",
    "    print(\"ud no puede sacar la cedula todavia\")\n",
    "\n"
   ]
  },
  {
   "cell_type": "markdown",
   "metadata": {},
   "source": [
    "## positivos o negativos"
   ]
  },
  {
   "cell_type": "code",
   "execution_count": null,
   "metadata": {},
   "outputs": [],
   "source": [
    "num=int(input(\"escribe un numero\"))\n",
    "if (num<0):\n",
    "    print(\"este numero es negativo\")\n",
    "else:\n",
    "    print(\"este numero es positivo\")\n",
    "    "
   ]
  },
  {
   "cell_type": "markdown",
   "metadata": {},
   "source": [
    "## > que 100"
   ]
  },
  {
   "cell_type": "code",
   "execution_count": null,
   "metadata": {},
   "outputs": [],
   "source": [
    " num=int(input(\"escribe un numero \"))\n",
    "if (num>100):\n",
    "    print(\"este numero es mayor a 100\")\n",
    "else:\n",
    "    print(\"este numero es menor a 100\")"
   ]
  },
  {
   "cell_type": "markdown",
   "metadata": {},
   "source": [
    "## salario"
   ]
  },
  {
   "cell_type": "code",
   "execution_count": 15,
   "metadata": {},
   "outputs": [
    {
     "name": "stdout",
     "output_type": "stream",
     "text": [
      "escriba sus horas trabajadas30\n",
      "el valor de sus horas trabajadas es de 9000\n"
     ]
    }
   ],
   "source": [
    "horasT=int(input(\"escriba sus horas trabajadas \"))\n",
    "if (horasT<=40):\n",
    "    valor=300*horasT\n",
    "else:\n",
    "    horasEx=horasT-40\n",
    "    hora40=12000\n",
    "    valor=500*horasEx+hora40\n",
    "print(\"el valor de sus horas trabajadas es de\",valor)\n",
    "    \n",
    "    \n",
    "\n"
   ]
  },
  {
   "cell_type": "markdown",
   "metadata": {},
   "source": [
    " ## producto + iva"
   ]
  },
  {
   "cell_type": "code",
   "execution_count": 10,
   "metadata": {},
   "outputs": [
    {
     "name": "stdout",
     "output_type": "stream",
     "text": [
      "escriba que producto desea llevar javon\n",
      "escriba el valor del producto 10000\n",
      "el javon cuesta 11900 pesos\n"
     ]
    }
   ],
   "source": [
    "iva=0.19\n",
    "producto=input(\"escriba que producto desea llevar \")\n",
    "valor=int(input(\"escriba el valor del producto \"))\n",
    "precio=int(valor*iva+valor)\n",
    "print(\"el\",producto,\"cuesta\",precio,\"pesos\")"
   ]
  },
  {
   "cell_type": "markdown",
   "metadata": {},
   "source": [
    "## numero = dia"
   ]
  },
  {
   "cell_type": "code",
   "execution_count": 1,
   "metadata": {},
   "outputs": [
    {
     "name": "stdout",
     "output_type": "stream",
     "text": [
      "escriba un numero como dia de la semana 3\n",
      "miercoles\n"
     ]
    }
   ],
   "source": [
    "NdiaSemana=input(\"escriba un numero como dia de la semana \")\n",
    "if (NdiaSemana==\"1\"):\n",
    "    print(\"lunes\")\n",
    "elif (NdiaSemana==\"2\"):\n",
    "    print(\"martes\")\n",
    "elif (NdiaSemana==\"3\"):\n",
    "    print(\"miercoles\")\n",
    "elif (NdiaSemana==\"4\"):\n",
    "    print(\"jueves\")\n",
    "elif (NdiaSemana==\"5\"):\n",
    "    print(\"viernes\")\n",
    "elif (NdiaSemana==\"6\"):\n",
    "    print(\"sabado\")\n",
    "elif (NdiaSemana==\"7\"):\n",
    "    print(\"domingo\")"
   ]
  },
  {
   "cell_type": "markdown",
   "metadata": {},
   "source": [
    "## usuario y contraseña"
   ]
  },
  {
   "cell_type": "code",
   "execution_count": 8,
   "metadata": {},
   "outputs": [
    {
     "name": "stdout",
     "output_type": "stream",
     "text": [
      "ingrese su usuario david\n",
      "ingrese su contraseña 123\n",
      "incorrecto\n"
     ]
    }
   ],
   "source": [
    "usuario=\"pedro\"\n",
    "contraseña=\"1234\"\n",
    "usuario=input(\"ingrese su usuario \")\n",
    "contraseña=input(\"ingrese su contraseña \")\n",
    "if (usuario==\"pedro\" and contraseña==\"1234\"):\n",
    "    print(\"correcto\")\n",
    "else:\n",
    "    print(\"incorrecto\")"
   ]
  },
  {
   "cell_type": "markdown",
   "metadata": {},
   "source": [
    "## pico y placa"
   ]
  },
  {
   "cell_type": "code",
   "execution_count": null,
   "metadata": {
    "scrolled": true
   },
   "outputs": [],
   "source": [
    "dia=input(\"escriba un dia de la semana \")\n",
    "if (dia==\"lunes\"):\n",
    "    picoyplaca=[1,2]\n",
    "    numeroPlaca=int(input(\"escriba su ultimo dijito de su placa \"))\n",
    "    if (numeroPlaca in  picoyplaca):\n",
    "        print(\"OJO USTED HOY TIENE PICO Y PLACA \")\n",
    "    else:\n",
    "        print(\"USTED HOY NO TIENE PICO Y PLACA\")\n",
    "    print(\"el dia\",dia,\"tenemos los numeros\",picoyplaca,\"de pico y placa\")"
   ]
  },
  {
   "cell_type": "markdown",
   "metadata": {},
   "source": [
    "## vocal o consonante"
   ]
  },
  {
   "cell_type": "code",
   "execution_count": 2,
   "metadata": {
    "scrolled": true
   },
   "outputs": [
    {
     "name": "stdout",
     "output_type": "stream",
     "text": [
      "escriba una letra s\n",
      "ud escribio una consonate\n"
     ]
    }
   ],
   "source": [
    "vocales=[\"a\",\"e\",\"i\",\"o\",\"u\"]\n",
    "letra=input(\"escriba una letra \")\n",
    "if (letra in vocales):\n",
    "    print(\"ud escribio una vocal\")\n",
    "else:\n",
    "    print(\"ud escribio una consonate\")"
   ]
  },
  {
   "cell_type": "markdown",
   "metadata": {},
   "source": [
    "## menu"
   ]
  },
  {
   "cell_type": "code",
   "execution_count": 5,
   "metadata": {},
   "outputs": [
    {
     "name": "stdout",
     "output_type": "stream",
     "text": [
      "Escriba S para salir, Escriba A para archivos, Escriba B para busca B\n",
      "ud puso buscar\n"
     ]
    }
   ],
   "source": [
    "letra=input(\"Escriba S para salir, Escriba A para archivos, Escriba B para busca \")\n",
    "if (letra==\"S\"):\n",
    "    print(\"ud puso salir\")\n",
    "elif (letra==\"A\"):\n",
    "    print(\"ud puso archivos \")\n",
    "elif (letra==\"B\"):\n",
    "    print(\"ud puso buscar\")"
   ]
  },
  {
   "cell_type": "markdown",
   "metadata": {},
   "source": [
    "## triangulo"
   ]
  },
  {
   "cell_type": "code",
   "execution_count": 46,
   "metadata": {},
   "outputs": [
    {
     "name": "stdout",
     "output_type": "stream",
     "text": [
      "escriba la lado1 1\n",
      "escriba la lado2 1\n",
      "escriba la lado3 1\n",
      "si es un triangulo\n",
      "y es un equilatero\n"
     ]
    }
   ],
   "source": [
    "l1=int(input(\"escriba la lado1 \"))\n",
    "l2=int(input(\"escriba la lado2 \"))\n",
    "l3=int(input(\"escriba la lado3 \"))\n",
    "long1=l2+l3\n",
    "long2=l1+l2\n",
    "long3=l1+l3\n",
    "if (long1>=l1 and long3>=l2 and long2>=l3):\n",
    "    print(\"si es un triangulo\")    \n",
    "    if (l1==l2 and l2==l3):\n",
    "        print (\"y es un equilatero\")\n",
    "    elif (l1==l2 or l2==l3 or l3==l1 ):\n",
    "        print (\"y es un triangulo isoceles\")\n",
    "    else:\n",
    "        print (\"y es un escaleno\")\n",
    "else:\n",
    "    print(\"no es un triangulo\")"
   ]
  },
  {
   "cell_type": "markdown",
   "metadata": {},
   "source": [
    "## horas"
   ]
  },
  {
   "cell_type": "code",
   "execution_count": 1,
   "metadata": {
    "scrolled": true
   },
   "outputs": [
    {
     "name": "stdout",
     "output_type": "stream",
     "text": [
      "escribame una hora 23\n",
      "unos minutos 59\n",
      "y los segundos 59\n",
      "\n",
      "0 horas\n",
      "0 minutos\n",
      "0 segundos\n"
     ]
    }
   ],
   "source": [
    "horas=int(input(\"escribame una hora \"))\n",
    "minutos=int(input(\"unos minutos \"))\n",
    "segundos=int(input(\"y los segundos \"))\n",
    "\n",
    "\n",
    "\n",
    "if (segundos>0 and segundos<60 and minutos>0 and minutos<60 and horas>0 and horas<24):\n",
    "    if (segundos<=59):\n",
    "        segundos+=1\n",
    "        if (segundos==60):\n",
    "            segundos=0\n",
    "            minutos+=1\n",
    "    if (minutos==60):\n",
    "        minutos=0\n",
    "        horas+=1\n",
    "    if (horas>=23 and horas<=24):\n",
    "        horas=0    \n",
    "    print()\n",
    "    print(horas,\"horas\")\n",
    "    print(minutos,\"minutos\")\n",
    "    print(segundos,\"segundos\")\n",
    "else:\n",
    "    print()\n",
    "    print(\"no se pudo realizar la operacion\")\n",
    "\n",
    "    \n",
    "\n"
   ]
  },
  {
   "cell_type": "markdown",
   "metadata": {},
   "source": []
  },
  {
   "cell_type": "code",
   "execution_count": 7,
   "metadata": {},
   "outputs": [
    {
     "name": "stdout",
     "output_type": "stream",
     "text": [
      "escriba el primer numero 123\n",
      "escriba el segundo numero 12\n",
      "escriba el tercer numero 321\n",
      "321\n",
      "123\n",
      "12\n"
     ]
    }
   ],
   "source": [
    "n1=int(input(\"escriba el primer numero \"))\n",
    "n2=int(input(\"escriba el segundo numero \"))\n",
    "n3=int(input(\"escriba el tercer numero \"))\n",
    "if(n1>2 and n1>n3 and n2>n3):\n",
    "    print(n1)\n",
    "    print(n2)\n",
    "    print(n3)\n",
    "elif (n1>2 and n1>n3 and n3>n2):\n",
    "    print(n1)\n",
    "    print(n3)\n",
    "    print(n2)\n",
    "elif (n2>1 and n2>n3 and n1>n3):\n",
    "    print(n2)\n",
    "    print(n3)\n",
    "    print(n2)\n",
    "elif (n2>1 and n2>n3 and n3>n1):\n",
    "    print(n2)\n",
    "    print(n3)\n",
    "    print(n1)\n",
    "elif (n3>1 and n3>n2 and n2>n1):\n",
    "    print(n3)\n",
    "    print(n2)\n",
    "    print(n1)\n",
    "elif (n3>1 and n3>n2 and n1>n2):\n",
    "    print(n3)\n",
    "    print(n1)\n",
    "    print(n2)"
   ]
  },
  {
   "cell_type": "code",
   "execution_count": null,
   "metadata": {},
   "outputs": [],
   "source": [
    ":"
   ]
  }
 ],
 "metadata": {
  "kernelspec": {
   "display_name": "Python 3",
   "language": "python",
   "name": "python3"
  },
  "language_info": {
   "codemirror_mode": {
    "name": "ipython",
    "version": 3
   },
   "file_extension": ".py",
   "mimetype": "text/x-python",
   "name": "python",
   "nbconvert_exporter": "python",
   "pygments_lexer": "ipython3",
   "version": "3.7.6"
  }
 },
 "nbformat": 4,
 "nbformat_minor": 4
}
