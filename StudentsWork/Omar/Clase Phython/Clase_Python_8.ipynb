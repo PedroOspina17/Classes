{
 "cells": [
  {
   "cell_type": "markdown",
   "metadata": {},
   "source": [
    "# Ejm_0"
   ]
  },
  {
   "cell_type": "code",
   "execution_count": 15,
   "metadata": {},
   "outputs": [
    {
     "name": "stdout",
     "output_type": "stream",
     "text": [
      "Las 2 primeras letras de la palabra 'separar' son: 's' y 'e'\n"
     ]
    }
   ],
   "source": [
    "p=\"separar\"\n",
    "l=p[0] \n",
    "l1=p[1]\n",
    "print(\"Las 2 primeras letras de la palabra 'separar' son: '{}' y '{}'\".format(l,l1))"
   ]
  },
  {
   "cell_type": "markdown",
   "metadata": {},
   "source": [
    "# Ejm_1"
   ]
  },
  {
   "cell_type": "code",
   "execution_count": 16,
   "metadata": {},
   "outputs": [
    {
     "name": "stdout",
     "output_type": "stream",
     "text": [
      "Las ultimas 3 letras de la plabra 'separar'son: 'r','a' y 'r'\n"
     ]
    }
   ],
   "source": [
    "p=\"separar\"\n",
    "l4=p[4]\n",
    "l5=p[5]\n",
    "l6=p[6]\n",
    "print(\"Las ultimas 3 letras de la plabra 'separar'son: '{}','{}' y '{}'\".format(l4,l5,l6))"
   ]
  },
  {
   "cell_type": "markdown",
   "metadata": {},
   "source": [
    "# Ejm_2"
   ]
  },
  {
   "cell_type": "code",
   "execution_count": 12,
   "metadata": {},
   "outputs": [
    {
     "name": "stdout",
     "output_type": "stream",
     "text": [
      "Digite una palabra:omar\n",
      "Escriba el caracter que desea ingresar entre letras:#\n",
      "La palabra 'omar' estará dividida por '#' \n",
      "Palabra separada: o#m#a#r\n"
     ]
    }
   ],
   "source": [
    "p=input(\"Digite una palabra:\")\n",
    "c=input(\"Escriba el caracter que desea ingresar entre letras:\")\n",
    "print(\"La palabra '{}' estará dividida por '{}' \".format(p,c))\n",
    "print(\"Palabra separada:\",p.replace(\"\",c)[1:-1])"
   ]
  },
  {
   "cell_type": "markdown",
   "metadata": {},
   "source": [
    "# Ejm_3"
   ]
  },
  {
   "cell_type": "code",
   "execution_count": 44,
   "metadata": {},
   "outputs": [
    {
     "name": "stdout",
     "output_type": "stream",
     "text": [
      "Ingrese cadena:omar rendon\n",
      "Escriba palabra:ren\n",
      "ren hace parte de omar rendon\n"
     ]
    }
   ],
   "source": [
    "cad=input(\"Ingrese cadena:\")\n",
    "sub_c=input(\"Escriba palabra:\")\n",
    "if (sub_c in cad):\n",
    "    print(\"{} hace parte de {}\".format(sub_c, cad))"
   ]
  },
  {
   "cell_type": "markdown",
   "metadata": {},
   "source": [
    "# Ejm_4"
   ]
  },
  {
   "cell_type": "code",
   "execution_count": 2,
   "metadata": {},
   "outputs": [
    {
     "name": "stdout",
     "output_type": "stream",
     "text": [
      "Digite la cadena:Apenas empece a hacer el taller\n",
      "Apenas_empece_a_hacer_el_taller\n"
     ]
    }
   ],
   "source": [
    "cad=input(\"Digite la cadena:\")\n",
    "print(cad.replace(\" \",\"_\"))\n"
   ]
  },
  {
   "cell_type": "markdown",
   "metadata": {},
   "source": [
    "# Ejm_5"
   ]
  },
  {
   "cell_type": "code",
   "execution_count": 94,
   "metadata": {
    "scrolled": true
   },
   "outputs": [
    {
     "name": "stdout",
     "output_type": "stream",
     "text": [
      "Digite la cadena:2254\n",
      "['2', '2', '5', '4']\n",
      "x\n"
     ]
    }
   ],
   "source": [
    "cad=input(\"Digite la cadena:\")\n",
    "cad1=list(cad)\n",
    "print(cad1)\n",
    "for cad in cad1:\n",
    "    cad2=cad.replace(cad,'x')\n",
    "print(cad2)  "
   ]
  }
 ],
 "metadata": {
  "kernelspec": {
   "display_name": "Python 3",
   "language": "python",
   "name": "python3"
  },
  "language_info": {
   "codemirror_mode": {
    "name": "ipython",
    "version": 3
   },
   "file_extension": ".py",
   "mimetype": "text/x-python",
   "name": "python",
   "nbconvert_exporter": "python",
   "pygments_lexer": "ipython3",
   "version": "3.7.6"
  }
 },
 "nbformat": 4,
 "nbformat_minor": 4
}
