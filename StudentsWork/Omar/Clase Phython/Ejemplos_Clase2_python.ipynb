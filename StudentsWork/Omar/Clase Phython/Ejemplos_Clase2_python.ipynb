{
 "cells": [
  {
   "cell_type": "markdown",
   "metadata": {},
   "source": [
    "# Ejm_5"
   ]
  },
  {
   "cell_type": "code",
   "execution_count": null,
   "metadata": {},
   "outputs": [],
   "source": [
    "num=int(input(\"Digite el numero:\"))\n",
    "if(num==1):\n",
    "    print(\"Lunes\")\n",
    "elif(num==2):\n",
    "    print(\"Martes\")\n",
    "elif(num==3):\n",
    "    print(\"Miercoles\")\n",
    "elif(num==4):\n",
    "    print(\"Jueves\")\n",
    "elif(num==5):\n",
    "    print(\"Viernes\")\n",
    "elif(num==6):\n",
    "    print(\"Sabado\")\n",
    "elif(num==7):\n",
    "    print(\"Domingo\")\n",
    "else:\n",
    "    print(\"numero invalido\")\n",
    "    \n",
    "                    \n",
    "                    "
   ]
  },
  {
   "cell_type": "markdown",
   "metadata": {},
   "source": [
    "# Ejm_6"
   ]
  },
  {
   "cell_type": "code",
   "execution_count": null,
   "metadata": {},
   "outputs": [],
   "source": [
    "nombre=input(\"Ingrese su nombre:\")\n",
    "print(\"Nombre:\",nombre)\n",
    "contraseña=int(input(\"Ingrese la contraseña:\")\n",
    "print(\"Contraseña:\",contraseña)\n",
    "if(nombre==\"omar\" and contraseña==123):\n",
    "    print(\"Nombre y contraseña son correctas!\")\n",
    "else:\n",
    "    print(\"Nombre y contraseña son incorrectas!\")"
   ]
  },
  {
   "cell_type": "markdown",
   "metadata": {},
   "source": [
    "# Ejm_7"
   ]
  },
  {
   "cell_type": "code",
   "execution_count": null,
   "metadata": {},
   "outputs": [],
   "source": [
    "num=int(input(\"Digite el ultimo numero de su placa:\"))\n",
    "if(num==0 or num==1):\n",
    "    print(\"Su dia de pico y placa es Lunes\")\n",
    "elif(num==2 or num==3):\n",
    "    print(\"Su dia de pico y placa es Martes\")\n",
    "elif(num==4 or num==5):\n",
    "    print(\"Su dia de pico y placa es Miercoles\")\n",
    "elif(num==6 or num==7):\n",
    "    print(\"Su dia de pico y placa es Jueves\")\n",
    "elif(num==8 or num==9):\n",
    "    print(\"Su dia de pico y placa es Viernes\")"
   ]
  },
  {
   "cell_type": "markdown",
   "metadata": {},
   "source": [
    "# Ejm_8"
   ]
  },
  {
   "cell_type": "code",
   "execution_count": null,
   "metadata": {},
   "outputs": [],
   "source": [
    "letra=input(\"Digite letra:\") \n",
    "if(letra==\"a\" or letra==\"e\" or letra==\"i\" or letra==\"o\" or letra==\"u\"):\n",
    "    print(\"La letra es una vocal\")\n",
    "else:\n",
    "    print(\"Es letra\")"
   ]
  },
  {
   "cell_type": "markdown",
   "metadata": {},
   "source": [
    "# Ejm_9"
   ]
  },
  {
   "cell_type": "code",
   "execution_count": null,
   "metadata": {},
   "outputs": [],
   "source": [
    "opcion=input(\"Ingrese la opción:\")\n",
    "opciones= [\"archivo\",\"buscar\",\"salir\"]\n",
    "if(opcion in opciones):\n",
    "    print(\"Continue...\")\n",
    "else:\n",
    "    print(\"Opción invalida!!!\")"
   ]
  },
  {
   "cell_type": "markdown",
   "metadata": {},
   "source": [
    "# Ejm_triangulo"
   ]
  },
  {
   "cell_type": "code",
   "execution_count": 24,
   "metadata": {},
   "outputs": [
    {
     "name": "stdout",
     "output_type": "stream",
     "text": [
      "Ingrese la longitud 1: 5\n",
      "Ingrese la longitud 2: 3\n",
      "Ingrese la longitud 3: 5\n",
      "Las longitudes forman un triangulo\n",
      "Es isosceles\n"
     ]
    }
   ],
   "source": [
    "longitud_1= float(input(\"Ingrese la longitud 1: \"))\n",
    "longitud_2= float(input(\"Ingrese la longitud 2: \"))\n",
    "longitud_3= float(input(\"Ingrese la longitud 3: \"))\n",
    "if(longitud_1+longitud_2>=longitud_3 and longitud_1+longitud_3>=longitud_2 and longitud_2+longitud_3>=longitud_1):\n",
    "    print(\"Las longitudes forman un triangulo\")\n",
    "    if(longitud_1==longitud_2==longitud_3):\n",
    "         print(\"Es equiltero\")\n",
    "    elif(longitud_1==longitud_2 or longitud_2==longitud_3 or longitud_1==longitud_3):\n",
    "         print(\"Es isosceles\")\n",
    "    elif(longitud_1!=longitud_2!=longitud_3):\n",
    "        print(\"Es escaleno\")\n",
    "else:\n",
    "    print(\"Las longitudes no forman un triangulo\")"
   ]
  }
 ],
 "metadata": {
  "kernelspec": {
   "display_name": "Python 3",
   "language": "python",
   "name": "python3"
  },
  "language_info": {
   "codemirror_mode": {
    "name": "ipython",
    "version": 3
   },
   "file_extension": ".py",
   "mimetype": "text/x-python",
   "name": "python",
   "nbconvert_exporter": "python",
   "pygments_lexer": "ipython3",
   "version": "3.7.6"
  }
 },
 "nbformat": 4,
 "nbformat_minor": 4
}
