{
 "cells": [
  {
   "cell_type": "markdown",
   "metadata": {},
   "source": [
    "# Ejm_1"
   ]
  },
  {
   "cell_type": "code",
   "execution_count": null,
   "metadata": {},
   "outputs": [],
   "source": [
    "fecha=int(input(\"Digite la fecha de nacimiento:\"))\n",
    "print(fecha)\n",
    "if(fecha<=2002):\n",
    "    print(\"Es mayor de edad\")\n",
    "else:\n",
    "    print(\"No es mayor de edad\")"
   ]
  },
  {
   "cell_type": "code",
   "execution_count": null,
   "metadata": {},
   "outputs": [],
   "source": []
  },
  {
   "cell_type": "code",
   "execution_count": null,
   "metadata": {},
   "outputs": [],
   "source": [
    "num=int(input(\"Digite el numero:\"))\n",
    "if(num>0):\n",
    "    print(\"El numero es positivo\")\n",
    "else:\n",
    "    print(\"El numero es negativo\")"
   ]
  },
  {
   "cell_type": "code",
   "execution_count": null,
   "metadata": {},
   "outputs": [],
   "source": [
    "num=int(input(\"Digite el numero:\"))\n",
    "if(num>100):\n",
    "    print(\"El numero es mayor\")\n",
    "else:\n",
    "    print(\"El numero no es mayor\")\n"
   ]
  },
  {
   "cell_type": "code",
   "execution_count": 16,
   "metadata": {},
   "outputs": [
    {
     "name": "stdout",
     "output_type": "stream",
     "text": [
      "Digite cantidad de horas:42\n",
      "El salario semanal es: 13000\n"
     ]
    }
   ],
   "source": [
    "horas_t=int(input(\"Digite cantidad de horas:\"))\n",
    "\n",
    "if(horas_t<=40):\n",
    "    valor_h=300\n",
    "    salario=horas_t*valor_h\n",
    "    print(\"El salario semanal es:\",salario)\n",
    "else:\n",
    "    valor_ex=500\n",
    "    horas_ex=horas_t-40\n",
    "    salario_ex=horas_ex*valor_ex\n",
    "    salario_t=salario_ex+12000\n",
    "    print(\"El salario semanal es:\",salario_t)\n",
    "\n",
    "    \n",
    "   "
   ]
  }
 ],
 "metadata": {
  "kernelspec": {
   "display_name": "Python 3",
   "language": "python",
   "name": "python3"
  },
  "language_info": {
   "codemirror_mode": {
    "name": "ipython",
    "version": 3
   },
   "file_extension": ".py",
   "mimetype": "text/x-python",
   "name": "python",
   "nbconvert_exporter": "python",
   "pygments_lexer": "ipython3",
   "version": "3.7.6"
  }
 },
 "nbformat": 4,
 "nbformat_minor": 4
}
