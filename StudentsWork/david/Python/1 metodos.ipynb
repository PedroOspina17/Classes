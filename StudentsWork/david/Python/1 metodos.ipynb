{
 "cells": [
  {
   "cell_type": "markdown",
   "metadata": {},
   "source": [
    "# Ejercicios\n",
    "\n",
    "0. Crear un método que reciba 2 números y los sume. Mostrar su resultado \n",
    "\n",
    "1. Crear un método que reciba 2 números (enteros) y el simbolo de una operación ('+','-','*','/'), que realice la opración indicada y devuelva su resultado, imprimir el calculo realizado en el siguiente formato: \n",
    "\n",
    "    \"El resultado de la `Operación ` es: `Resultado`\"\n",
    "    \n",
    "    Ejemplo: Entrada: 4\n",
    "                      2\n",
    "                      \"+\"\n",
    "             Salida: \"El resultado de la suma es: 6\"\n",
    "             \n",
    "             Entrada: 4\n",
    "                      2\n",
    "                      \"/\"\n",
    "             Salida: \"El resultado de la division es: 2\"\n",
    "    \n",
    "\n",
    "2. Crear un algoritmo que pida dos precios y luego los sume (reuse la función creada en el punto 0). Considere que los precios pueden traer caracteres especiales.\n",
    "\n",
    "        Ejemplo: Entrada: $ 1.700\n",
    "                   $ 2.500                          \n",
    "                 Salida:  $ 4.200\n",
    "3. Crear un método que solicite x cantidad de nombres al usuario y muestre esa lista. la cantidad de nombres a pedir debe ser pedida al usuario tambien.\n",
    "\n",
    "        \n",
    "        Ejemplo: Entrada: 3\n",
    "                 (Pide 3 nombres)\n",
    "                 Salida: [\"Nombre 1\",\"Nombre 2\",\"Nombre 3\"]\n",
    "        \n",
    "        \n",
    "4. Crear un método que reciba una lista de nombres y muestre cuantas vocales tiene cada elemento.\n",
    "\n",
    "        Ejemplo: Entrada: [\"Pedro\", \"Omar\",\"Alexandra\"]\n",
    "                 Salida: \"Pedro\": 2 vocales\n",
    "                         \"Omar\": 2 vocales\n",
    "                         \"Alexandra\": 4 vocales\n",
    "                         \n",
    "4.1. intente muestrar cuantas veces está cada vocal en esos nombres.\n",
    "\n",
    "        Ejemplo: Entrada: [\"Pedro\", \"Omar\",\"Alexandra\"]\n",
    "                 Salida: \"Pedro\": \n",
    "                             \"a\": 0\n",
    "                             \"e\": 1\n",
    "                             \"i\": 0\n",
    "                             \"o\": 1\n",
    "                             \"u\": 0\n",
    "                             \n",
    "                         \"Omar\": \n",
    "                             \"a\": 1\n",
    "                             \"e\": 0\n",
    "                             \"i\": 0\n",
    "                             \"o\": 1\n",
    "                             \"u\": 0\n",
    "                         \n",
    "                         \"Alexandra\": \n",
    "                             \"a\": 3\n",
    "                             \"e\": 1\n",
    "                             \"i\": 0\n",
    "                             \"o\": 0\n",
    "                             \"u\": 0\n",
    "                \n",
    "5. Crear un algoritmo que unifique los puntos 3 y 4\n",
    "\n",
    "6. Crear una función que solicite cualquier dato de x cantidad de personas. úselo para pedir 5 `edades`. el número de personas se le debe solicitar al usuario.\n",
    "\n",
    "        Ejemplo: Entrada: 5\n",
    "                    (Se ingresan las 5 edades)\n",
    "                 Salida: \"Listado de edades: [24,14,30,35,40]\"\n",
    "                 \n",
    "7. Reutilice e método creardo en el puto anterior para permitirle al usuario solicitar el dato que quiera, así como tambien la cantidad de datos quiere pedir.\n",
    "\n",
    "        Ejemplo: Entrada: \"Edad\"\n",
    "                           5\n",
    "                           (Se ingresan las 5 edades)\n",
    "                 Salida: \"Listado de edades [24,14,30,35,40]\"\n",
    "                 \n",
    "                 Entrada: \"Nombre\"\n",
    "                           3\n",
    "                           (Se ingresan los 3 nombres)\n",
    "                 Salida:   \"Listado de nombres: [\"Andrea\",\"Pedro\",\"Omar\"]\"\n",
    "\n",
    "8. Crear un algoritmo que pida 5 edades, 5 nombres, 5 apellidos y 5 generos y luego mostrarlos uno por uno, así:\n",
    "        Edades:\n",
    "        -- Edad 1\n",
    "        -- Edad 2\n",
    "        -- Edad 3\n",
    "        ...\n",
    "        Nombres:\n",
    "        -- Nombre 1\n",
    "        -- Nombre 2\n",
    "        ...\n",
    "        Apellidos:\n",
    "        -- Apellido 1\n",
    "        ...\n",
    "        ...\n",
    "        \n",
    "9. Crear un algoritmo que solicite x nombres, los cuales pueden contener caracteres especiales como tildes y signos de puntuacón. Mostrar todos los nombres ingresados sin estos caracteres especiales. (Recuerde que los nombres propios se escriben con la inicial en mayuscula).\n",
    "\n",
    "    Ejemplo: Entrada: \"María Isabel Gómez\"\n",
    "             Salida: \"Maria Isabel Gomez\"\n",
    "             \n",
    "             Entrada: \"Francisco Agüero.\"\n",
    "             Salida: \"Francisco Aaguero\"\n",
    "             \n",
    "             Entrada: \"Francisca, Ortís\"\n",
    "             Salida: \"Francisca Ortis\"\n",
    "\n",
    "10. Crear una función que obtenga las iniciales de un nombre ingresado por pantalla.\n",
    "\n",
    "        Ejemplo: Entrada: \"Pedro nel Ospina Graciano\"\n",
    "                 Salida: \"P.N.O.G\"\n",
    "\n",
    "11. Crear un algoritmo que pida un nombre completo y nombre completo de su madre y de su padre (asuma que todos los nombre tendrán un primer nombre, segundo nombre, primer apellido y segundo appelido), identificar sí el hijo, el padre o la madre hacen parte de la familia Ospina.\n",
    "\n",
    "\n",
    "12. Crear un algoritmo que pida al usuario 5 campos a llenar y la cantidad de valores que desea ingresarle a dicho campo, solicitarlos y finalmente mostrarlos en dos formatos diferentes: \n",
    "    \n",
    "    Formato 1: (El nombre de los campos con la primera en mayuscula y los valores enumerados en minuscula)\n",
    "            -- Campo 1 --\n",
    "            1. valor 1\n",
    "            2. valor 2\n",
    "            ...\n",
    "            -- Campo 2 --\n",
    "            1. valor 1\n",
    "            2. valor 2\n",
    "            ...\n",
    "    Formato 2: (El nombre de los campos en mayuscula y los valores con un simbolo al inicio y en minuscula)\n",
    "            ----- CAMPO 1\n",
    "            -- valor 1\n",
    "            -- valor 2\n",
    "            ...\n",
    "            ---- CAMPO 2\n",
    "            -- valor 1\n",
    "            -- valor 2\n",
    "            ...\n",
    "            \n",
    "13. Crea una aplicación que nos cuente el número de cifras de un número entero positivo (hay que controlar que así sea) pedido por teclado. Crea un método que realice esta acción, pasando el número por parámetro, devolverá el número de cifras.\n",
    "\n",
    "\n",
    "14. Crear un aplicación que nos convierta una cantidad de euros introducida por teclado a otra moneda, estas pueden ser a dolares, yenes o libras. El método tendrá como parámetros, la cantidad de euros y la moneda a pasar que sera una cadena, devolver el valor convertido y mostrarlo por pantalla. \n",
    "    \n",
    "    El cambio de divisas son:\n",
    "\n",
    "    * 0.86 libras es un 1 €\n",
    "    * 1.28611 dolares es un 1 €\n",
    "    * 129.852 yenes es un 1 €\n",
    "    * 3.500 pesos es un 1 €\n",
    "    \n"
   ]
  },
  {
   "cell_type": "markdown",
   "metadata": {},
   "source": [
    "## sumar numeros"
   ]
  },
  {
   "cell_type": "code",
   "execution_count": null,
   "metadata": {},
   "outputs": [],
   "source": [
    "def sumar ():\n",
    "    num1=input(\"write the frist number: \")\n",
    "    num2=input(\"write the second number: \")\n",
    "    num1=num1.replace(\"$\",\"\")\n",
    "    num2=num2.replace(\"$\",\"\")\n",
    "    numero=int(num1)\n",
    "    numero2=int(num2)\n",
    "    result=numero+numero2\n",
    "    print(result)\n",
    "\n",
    "sumar()"
   ]
  },
  {
   "cell_type": "markdown",
   "metadata": {},
   "source": [
    "### escribir dos numeros y el simbolode operacion"
   ]
  },
  {
   "cell_type": "code",
   "execution_count": null,
   "metadata": {},
   "outputs": [],
   "source": [
    "def operacion ():\n",
    "    num1=int(input(\"write the frist number: \"))\n",
    "    num2=int(input(\"write the second number: \"))\n",
    "    symbol=input(\"write the symbol that do you want to use: \")\n",
    "    if (symbol==\"+\"): \n",
    "        print(num1 + num2)\n",
    "    \n",
    "    elif (symbol==\"-\"):\n",
    "        print(num1 - num2)\n",
    "    \n",
    "    elif (symbol==\"*\"):\n",
    "        print(num1 * num2)\n",
    "    \n",
    "    elif (symbol==\"/\"):\n",
    "        print(num1 / num2)\n",
    "operacion()"
   ]
  },
  {
   "cell_type": "markdown",
   "metadata": {},
   "source": [
    "## sume dos precios"
   ]
  },
  {
   "cell_type": "code",
   "execution_count": null,
   "metadata": {},
   "outputs": [],
   "source": [
    "sumar()"
   ]
  },
  {
   "cell_type": "markdown",
   "metadata": {},
   "source": [
    "## escriba una lista de nombres"
   ]
  },
  {
   "cell_type": "code",
   "execution_count": 2,
   "metadata": {},
   "outputs": [
    {
     "name": "stdout",
     "output_type": "stream",
     "text": [
      "how many names do you want to wirte: 1\n",
      "wrthe name #1: d\n"
     ]
    },
    {
     "data": {
      "text/plain": [
       "['d']"
      ]
     },
     "execution_count": 2,
     "metadata": {},
     "output_type": "execute_result"
    }
   ],
   "source": [
    "def NameList():\n",
    "    ListNames=[]\n",
    "    NumberNames=int(input(\"how many names do you want to wirte: \"))\n",
    "    for i in range (1,NumberNames+1):\n",
    "        Names=input(\"wrthe name #{}: \".format(i))\n",
    "        ListNames.append(Names)\n",
    "    return ListNames\n",
    "    \n",
    "NameList()"
   ]
  },
  {
   "cell_type": "markdown",
   "metadata": {},
   "source": [
    "## cuantas vocales tiene cada nombre"
   ]
  },
  {
   "cell_type": "code",
   "execution_count": null,
   "metadata": {},
   "outputs": [],
   "source": [
    "def countVowel(ListName):\n",
    "    vocal=[\"a\",\"e\",\"i\",\"o\",\"u\"]\n",
    "    a=0\n",
    "    e=0\n",
    "    i=0\n",
    "    o=0\n",
    "    u=0\n",
    "    cont=0\n",
    "    for name in ListName:\n",
    "        for letter in name:\n",
    "            if (letter == \"a\"):\n",
    "                a+=1\n",
    "            elif (letter == \"e\"):\n",
    "                e+=1\n",
    "            elif (letter == \"i\"):\n",
    "                i+=1\n",
    "            elif (letter == \"o\"):\n",
    "                o+=1\n",
    "            elif (letter == \"u\"):\n",
    "                u+=1\n",
    "        print(\"the name {} have:\".format(name))\n",
    "        print(\"'a':{}\".format(a))\n",
    "        print(\"'e':{}\".format(e))\n",
    "        print(\"'i':{}\".format(i))\n",
    "        print(\"'o':{}\".format(o))\n",
    "        print(\"'u':{}\".format(u))\n",
    "        a=0\n",
    "        e=0\n",
    "        i=0\n",
    "        o=0\n",
    "        u=0\n",
    "    "
   ]
  },
  {
   "cell_type": "code",
   "execution_count": null,
   "metadata": {},
   "outputs": [],
   "source": [
    "# lista=[\"pedro\",\"david\",\"andrea\"]\n",
    "\n",
    "lista=NameList()\n",
    "countVowel(lista)"
   ]
  },
  {
   "cell_type": "markdown",
   "metadata": {},
   "source": [
    "## edad o nombre"
   ]
  },
  {
   "cell_type": "code",
   "execution_count": null,
   "metadata": {},
   "outputs": [],
   "source": [
    "def NamesOrAge():\n",
    "    dicc={}\n",
    "    listt=[]\n",
    "    AgeName=input(\"what do you want to write, ages or names: \")\n",
    "    quantity=int(input(\"how many {} do you want to write: \".format(AgeName)))\n",
    "    for i in range (1,quantity+1):\n",
    "        NameAge=input(\"write the {} #{}: \".format(AgeName,i))\n",
    "        listt.append(NameAge)\n",
    "    dicc[AgeName]=listt\n",
    "    print(dicc)\n",
    "NamesOrAge()"
   ]
  },
  {
   "cell_type": "markdown",
   "metadata": {},
   "source": [
    "## edad,nombre,apellido,genero *5"
   ]
  },
  {
   "cell_type": "code",
   "execution_count": null,
   "metadata": {},
   "outputs": [],
   "source": [
    "def info5():\n",
    "    dicc={}\n",
    "    ages=[]\n",
    "    names=[]\n",
    "    LastNames=[]\n",
    "    genders=[]\n",
    "    for i in range (1,6):\n",
    "        age=input(\"write the age #{}: \".format(i))\n",
    "        ages.append(age)\n",
    "    dicc[\"AGES\"]=ages\n",
    "    for i in range (1,6):\n",
    "        name=input(\"write the name #{}:\".format(i))\n",
    "        names.append(name)\n",
    "    dicc[\"NAMES\"]=names\n",
    "    for i in range (1,6):\n",
    "        LastName=input(\"write the lastname #{}: \".format(i))\n",
    "        LastNames.append(LastName)\n",
    "    dicc[\"LASTNAMES\"]=LastNames\n",
    "    for i in range (1,6):\n",
    "        gender=input(\"write the gender #{}\".format(i))\n",
    "        genders.append(gender)\n",
    "    dicc[\"GENDERS\"]=genders\n",
    "    print(dicc)\n",
    "info5()"
   ]
  },
  {
   "cell_type": "markdown",
   "metadata": {},
   "source": [
    "## nombres con mayusculas y caracteres especiales"
   ]
  },
  {
   "cell_type": "code",
   "execution_count": 24,
   "metadata": {},
   "outputs": [
    {
     "name": "stdout",
     "output_type": "stream",
     "text": [
      "how many names do you want to wirte: 1\n",
      "wrthe name #1: david\n",
      "David\n"
     ]
    }
   ],
   "source": [
    "def names():\n",
    "    listt=NameList()\n",
    "    for name in listt:\n",
    "        name2=name.title()\n",
    "    for letter,i in enumerate (name2):\n",
    "        if (letter==\"á\"):\n",
    "            letter[i]=\"a\"\n",
    "        elif (letter==\"é\"):\n",
    "            letter[i]=\"e\"                \n",
    "        elif (letter==\"í\"):\n",
    "            letter[i]=\"i\"\n",
    "        elif (letter==\"ó\"):\n",
    "            letter[i]=\"o\"\n",
    "        elif (letter==\"ú\"):\n",
    "            letter[i]=\"u\"\n",
    "           \n",
    "    print(name2)\n",
    "names()"
   ]
  },
  {
   "cell_type": "markdown",
   "metadata": {},
   "source": []
  },
  {
   "cell_type": "markdown",
   "metadata": {},
   "source": [
    "## iniciales del nombre"
   ]
  },
  {
   "cell_type": "code",
   "execution_count": 1,
   "metadata": {},
   "outputs": [
    {
     "name": "stdout",
     "output_type": "stream",
     "text": [
      "write your name: da os\n",
      "['da os']\n",
      "Da Os\n",
      "D\n"
     ]
    },
    {
     "ename": "TypeError",
     "evalue": "'builtin_function_or_method' object is not subscriptable",
     "output_type": "error",
     "traceback": [
      "\u001b[1;31m---------------------------------------------------------------------------\u001b[0m",
      "\u001b[1;31mTypeError\u001b[0m                                 Traceback (most recent call last)",
      "\u001b[1;32m<ipython-input-1-20ce6c0f26d5>\u001b[0m in \u001b[0;36m<module>\u001b[1;34m\u001b[0m\n\u001b[0;32m     15\u001b[0m                 \u001b[0mlist2\u001b[0m\u001b[1;33m.\u001b[0m\u001b[0mappend\u001b[0m\u001b[1;33m(\u001b[0m\u001b[1;34m\".\"\u001b[0m\u001b[1;33m)\u001b[0m\u001b[1;33m\u001b[0m\u001b[1;33m\u001b[0m\u001b[0m\n\u001b[0;32m     16\u001b[0m \u001b[1;33m\u001b[0m\u001b[0m\n\u001b[1;32m---> 17\u001b[1;33m         \u001b[0mlist2\u001b[0m\u001b[1;33m.\u001b[0m\u001b[0mremove\u001b[0m\u001b[1;33m[\u001b[0m\u001b[1;33m-\u001b[0m\u001b[1;36m1\u001b[0m\u001b[1;33m]\u001b[0m\u001b[1;33m(\u001b[0m\u001b[1;34m\",\"\u001b[0m\u001b[1;33m)\u001b[0m\u001b[1;33m\u001b[0m\u001b[1;33m\u001b[0m\u001b[0m\n\u001b[0m\u001b[0;32m     18\u001b[0m \u001b[0mprint\u001b[0m\u001b[1;33m(\u001b[0m\u001b[0mlist2\u001b[0m\u001b[1;33m)\u001b[0m\u001b[1;33m\u001b[0m\u001b[1;33m\u001b[0m\u001b[0m\n",
      "\u001b[1;31mTypeError\u001b[0m: 'builtin_function_or_method' object is not subscriptable"
     ]
    }
   ],
   "source": [
    "listt=[]\n",
    "list2=[]\n",
    "name2=[]\n",
    "\n",
    "name=input(\"write your name: \")\n",
    "listt.append(name)\n",
    "print(listt)\n",
    "for name in listt:\n",
    "    name2=name.title()\n",
    "    print(name2)\n",
    "    for word in name2:\n",
    "        print(word)\n",
    "        if (word.istitle()):\n",
    "                list2.append(word)\n",
    "                list2.append(\".\")\n",
    "        \n",
    "        list2.remove[-1](\",\")\n",
    "print(list2)\n"
   ]
  },
  {
   "cell_type": "code",
   "execution_count": null,
   "metadata": {},
   "outputs": [],
   "source": [
    "string=str(list2)\n",
    "for e in string:\n",
    "    if (e==\",\"):\n",
    "        string=string.replace(\",\",\"\")\n",
    "        string=string.replace(\"'\",\"\")       \n",
    "print(string)"
   ]
  },
  {
   "cell_type": "markdown",
   "metadata": {},
   "source": [
    "## family\n"
   ]
  },
  {
   "cell_type": "code",
   "execution_count": 12,
   "metadata": {},
   "outputs": [
    {
     "name": "stdout",
     "output_type": "stream",
     "text": [
      "write the full name of the children: david alejandro ossa ospina\n",
      "write the full name of the mother: alexandra ospina\n",
      "write the full name of the father: wbeimar ossa\n",
      "\n",
      "david is from ospina family\n",
      "\n",
      "alexandra is from ospina family\n",
      "\n"
     ]
    }
   ],
   "source": [
    "    son=input(\"write the full name of the children: \")\n",
    "    NameSon=son.split(\" \")\n",
    "    mother=input(\"write the full name of the mother: \")\n",
    "    NameMother=mother.split(\" \")\n",
    "    father=input(\"write the full name of the father: \")\n",
    "    NameFather=father.split(\" \")\n",
    "    print()\n",
    "    for e in NameSon:\n",
    "        if (\"ospina\" == e):\n",
    "            print(\"{} is from ospina family\".format(NameSon[0]))\n",
    "    print()\n",
    "    for e in NameMother:\n",
    "        if (\"ospina\" == e):\n",
    "            print(\"{} is from ospina family\".format(NameMother[0]))\n",
    "    print()    \n",
    "    for e in NameFather:\n",
    "        if (\"ospina\" == e):\n",
    "            print(\"{} is from ospina family\".format(NameFather[0]))"
   ]
  },
  {
   "cell_type": "markdown",
   "metadata": {},
   "source": [
    "## pedir"
   ]
  },
  {
   "cell_type": "code",
   "execution_count": null,
   "metadata": {},
   "outputs": [],
   "source": []
  },
  {
   "cell_type": "markdown",
   "metadata": {},
   "source": [
    "## numero de numeros "
   ]
  },
  {
   "cell_type": "code",
   "execution_count": 15,
   "metadata": {
    "scrolled": true
   },
   "outputs": [
    {
     "name": "stdout",
     "output_type": "stream",
     "text": [
      "write a figure: jafwdfvs\n"
     ]
    },
    {
     "ename": "AttributeError",
     "evalue": "'int' object has no attribute 'count'",
     "output_type": "error",
     "traceback": [
      "\u001b[1;31m---------------------------------------------------------------------------\u001b[0m",
      "\u001b[1;31mAttributeError\u001b[0m                            Traceback (most recent call last)",
      "\u001b[1;32m<ipython-input-15-ecb0e7ca82c0>\u001b[0m in \u001b[0;36m<module>\u001b[1;34m\u001b[0m\n\u001b[0;32m      1\u001b[0m \u001b[0mnum\u001b[0m\u001b[1;33m=\u001b[0m\u001b[0minput\u001b[0m\u001b[1;33m(\u001b[0m\u001b[1;34m\"write a figure: \"\u001b[0m\u001b[1;33m)\u001b[0m\u001b[1;33m\u001b[0m\u001b[1;33m\u001b[0m\u001b[0m\n\u001b[1;32m----> 2\u001b[1;33m \u001b[0mnumero\u001b[0m\u001b[1;33m=\u001b[0m\u001b[0mnumero\u001b[0m\u001b[1;33m.\u001b[0m\u001b[0mcount\u001b[0m\u001b[1;33m(\u001b[0m\u001b[0mnum\u001b[0m\u001b[1;33m)\u001b[0m\u001b[1;33m\u001b[0m\u001b[1;33m\u001b[0m\u001b[0m\n\u001b[0m\u001b[0;32m      3\u001b[0m \u001b[0mprint\u001b[0m\u001b[1;33m(\u001b[0m\u001b[0mnumero\u001b[0m\u001b[1;33m)\u001b[0m\u001b[1;33m\u001b[0m\u001b[1;33m\u001b[0m\u001b[0m\n",
      "\u001b[1;31mAttributeError\u001b[0m: 'int' object has no attribute 'count'"
     ]
    }
   ],
   "source": [
    "\n",
    "num=input(\"write a figure: \")\n"
   ]
  },
  {
   "cell_type": "markdown",
   "metadata": {},
   "source": [
    "## "
   ]
  },
  {
   "cell_type": "code",
   "execution_count": null,
   "metadata": {},
   "outputs": [],
   "source": []
  }
 ],
 "metadata": {
  "kernelspec": {
   "display_name": "Python 3",
   "language": "python",
   "name": "python3"
  },
  "language_info": {
   "codemirror_mode": {
    "name": "ipython",
    "version": 3
   },
   "file_extension": ".py",
   "mimetype": "text/x-python",
   "name": "python",
   "nbconvert_exporter": "python",
   "pygments_lexer": "ipython3",
   "version": "3.7.6"
  }
 },
 "nbformat": 4,
 "nbformat_minor": 4
}
