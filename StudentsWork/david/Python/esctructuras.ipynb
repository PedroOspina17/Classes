{
 "cells": [
  {
   "cell_type": "markdown",
   "metadata": {},
   "source": [
    "## primera lista\n"
   ]
  },
  {
   "cell_type": "code",
   "execution_count": null,
   "metadata": {},
   "outputs": [],
   "source": [
    "listaDM=[]\n",
    "for i in range (5):\n",
    "    \n",
    "    materia=input(\"escriba la matesria: \")\n",
    "    listaDM.append(materia)\n",
    "    \n",
    "\n",
    "print(listaDM)"
   ]
  },
  {
   "cell_type": "markdown",
   "metadata": {},
   "source": [
    "## escribir 10 numeros"
   ]
  },
  {
   "cell_type": "code",
   "execution_count": 1,
   "metadata": {},
   "outputs": [
    {
     "name": "stdout",
     "output_type": "stream",
     "text": [
      "escriba otro numero: 1\n",
      "escriba otro numero: 2\n",
      "escriba otro numero: 3\n",
      "escriba otro numero: 4\n",
      "escriba otro numero: 5\n",
      "['1', '2', '3', '4', '5']\n"
     ]
    }
   ],
   "source": [
    "listaN=[]\n",
    "for i in range (5):\n",
    "    numero=input(\"escriba otro numero: \")\n",
    "    if (numero in listaN):\n",
    "        continue\n",
    "    else:\n",
    "        listaN.append(numero)\n",
    "print(listaN)"
   ]
  },
  {
   "cell_type": "markdown",
   "metadata": {},
   "source": [
    "## solo numeros poitivos"
   ]
  },
  {
   "cell_type": "code",
   "execution_count": null,
   "metadata": {},
   "outputs": [],
   "source": [
    "positivos=0\n",
    "Lnumero=[]\n",
    "for i in range(7):\n",
    "    numero=input(\"escriba el numero: \")\n",
    "    if (numero>\"0\"):\n",
    "        positivos+=1\n",
    "        Lnumero.append(numero)\n",
    "print(\"se encontraron {} positivos y son {} \".format(positivos,Lnumero))"
   ]
  },
  {
   "cell_type": "markdown",
   "metadata": {},
   "source": [
    "### promedio sin contador ni acumulador"
   ]
  },
  {
   "cell_type": "code",
   "execution_count": null,
   "metadata": {},
   "outputs": [],
   "source": [
    "Lnumber=[]\n",
    "for i in range (5):\n",
    "    number=int(input(\"write the numbers: \"))\n",
    "    Lnumber.append(number)\n",
    "print(Lnumber)\n",
    "sumNumber=sum(Lnumber)\n",
    "avg=sumNumber/5\n",
    "print(\"the average is: {} \".format(avg))"
   ]
  },
  {
   "cell_type": "markdown",
   "metadata": {},
   "source": [
    "#### menor a mayor y mayor a menor"
   ]
  },
  {
   "cell_type": "code",
   "execution_count": null,
   "metadata": {
    "scrolled": false
   },
   "outputs": [],
   "source": [
    "listN=[]\n",
    "for i in range (5):\n",
    "        number=int(input(\"write the numbers: \"))\n",
    "        listN.append(number)\n",
    "print(\"the max number is: \",max(listN))\n",
    "print(\"the min number is: \",min(listN))\n",
    "print(\"the list sorted is: \",sorted(listN))\n",
    "print(\"the list sorted desc is: \",sorted(listN,reverse=True))"
   ]
  },
  {
   "cell_type": "markdown",
   "metadata": {},
   "source": [
    "## letras del nombre"
   ]
  },
  {
   "cell_type": "code",
   "execution_count": null,
   "metadata": {},
   "outputs": [],
   "source": [
    "name=input(\"write your name: \")\n",
    "listName=(name)\n",
    "print(\"the first letter is: {}\\nand the ultimate letter is: {} \".format(listName[0],listName[-1]))"
   ]
  },
  {
   "cell_type": "markdown",
   "metadata": {},
   "source": [
    "## vocales y consonantes"
   ]
  },
  {
   "cell_type": "code",
   "execution_count": null,
   "metadata": {},
   "outputs": [],
   "source": [
    "listV=[]\n",
    "cont=0\n",
    "vowelList=[\"a\",\"e\",\"i\",\"o\",\"u\"]\n",
    "name=input(\"write your name: \")\n",
    "nameList=list(name)\n",
    "for letter in nameList:  \n",
    "    if letter in vowelList: \n",
    "        cont+=1 \n",
    "        listV.append(letter)\n",
    "print(\"El nombre: {} tuvo: {} vocales y fueron: {} \".format(name,cont,listV))"
   ]
  },
  {
   "cell_type": "markdown",
   "metadata": {},
   "source": [
    "## decea eliminar?"
   ]
  },
  {
   "cell_type": "code",
   "execution_count": null,
   "metadata": {
    "scrolled": true
   },
   "outputs": [],
   "source": [
    "words=[]\n",
    "for i in range (4):\n",
    "    word=input(\"please write 4 elements or words: \")\n",
    "    words.append(word)\n",
    "print(words)\n",
    "answer=input(\" do you want to eliminate 1 word: \")\n",
    "if (answer==\"yes\"):\n",
    "    which=input(\"which word do you want to eliminate: \") \n",
    "    if which in words:\n",
    "        words.remove(which)\n",
    "print(words)"
   ]
  },
  {
   "cell_type": "markdown",
   "metadata": {},
   "source": [
    "## elimine una lista"
   ]
  },
  {
   "cell_type": "code",
   "execution_count": null,
   "metadata": {},
   "outputs": [],
   "source": [
    "list1=[]\n",
    "list2=[]\n",
    "list3=[]\n",
    "for i in range (3):\n",
    "    words=input(\"write the first list of words: \")\n",
    "    list1.append(words)\n",
    "print(list1)\n",
    "for i in range (3):\n",
    "    words=input(\"write the second list of words\")\n",
    "    list2.append(words)\n",
    "print(list2)\n",
    "for list3 in list2:\n",
    "     if (list3 in list1):\n",
    "            list1.remove(list3)\n",
    "print(\"your list is: {} \".format(list1))"
   ]
  },
  {
   "cell_type": "markdown",
   "metadata": {},
   "source": [
    "### numeros ingresados alreves\n"
   ]
  },
  {
   "cell_type": "code",
   "execution_count": null,
   "metadata": {},
   "outputs": [],
   "source": [
    "list1=[]\n",
    "for i in range (10):\n",
    "    numbers=int(input(\"write 10 numbers: \"))\n",
    "    list1.append(numbers)\n",
    "print(\"the number reversed are: \",sorted(list1,reverse=True))"
   ]
  },
  {
   "cell_type": "markdown",
   "metadata": {},
   "source": [
    "# materias"
   ]
  },
  {
   "cell_type": "code",
   "execution_count": null,
   "metadata": {
    "scrolled": true
   },
   "outputs": [],
   "source": [
    "classList=[\"Matemáticas\",\"Física\",\"Química\",\"Historia\",\"Lengua\"]\n",
    "noteClass=[]\n",
    "loser=[] \n",
    "    for classs in classList:\n",
    "        note=int(input(\"write the note {}:\".format(i)))\n",
    "        noteClass.append(note)\n",
    "        if ( note < 3.5 ):\n",
    "            loser.append(classs)\n",
    "print(\"Señor usuario,\\nLamentamos informarle que usted ha reprovado {} asignaturas:\\n{}\".format(len(loser),loser))"
   ]
  },
  {
   "cell_type": "markdown",
   "metadata": {},
   "source": [
    "### elimine la plabra duplicada "
   ]
  },
  {
   "cell_type": "code",
   "execution_count": 31,
   "metadata": {},
   "outputs": [
    {
     "name": "stdout",
     "output_type": "stream",
     "text": [
      "write the word 0 :uy\n",
      "write the word 1 :hnjk\n",
      "write the word 2 :Vgbhj\n",
      "write the word 3 :gvbhnj\n",
      "write the word 4 :vbnm,\n",
      "['uy', 'hnjk', 'Vgbhj', 'gvbhnj', 'vbnm,']\n",
      "['uy', 'hnjk', 'Vgbhj', 'gvbhnj', 'vbnm,']\n"
     ]
    }
   ],
   "source": [
    "list1=[]\n",
    "result=[]\n",
    "for i in range (5):\n",
    "    words=input(\"write the word {} :\".format(i))\n",
    "    list1.append(words)\n",
    "print(list1)\n",
    "for elem in list1:\n",
    "     if (elem  not in result):\n",
    "            result.append(elem)\n",
    "\n",
    "print(result)"
   ]
  },
  {
   "cell_type": "markdown",
   "metadata": {},
   "source": [
    "### la palabra  en la lista"
   ]
  },
  {
   "cell_type": "code",
   "execution_count": null,
   "metadata": {},
   "outputs": [],
   "source": [
    "letterList=[]\n",
    "cont=0\n",
    "for i in range (1,6):\n",
    "    letter=input(\"wirte the letter {}: \".format(i))\n",
    "    letterList.append(letter)\n",
    "letter2=input(\"write other letter: \")\n",
    "if (letter2 in letterList):\n",
    "    for element in letterList:\n",
    "        if (element==letter2):\n",
    "            cont+=1            \n",
    "    print(\"the letter {} is {} times in the list \".format(letter2,cont))\n",
    "else:\n",
    "    print(\"the {} is no in the list \".format(letter2))\n",
    "        "
   ]
  },
  {
   "cell_type": "markdown",
   "metadata": {},
   "source": [
    "### remplase la primera palabra"
   ]
  },
  {
   "cell_type": "code",
   "execution_count": null,
   "metadata": {},
   "outputs": [],
   "source": [
    "ws=[]\n",
    "for i in range (1,6):\n",
    "    words=input(\"write the {} word: \".format(i))\n",
    "    ws.append(words)\n",
    "print()\n",
    "w1=input(\"write other word: \")\n",
    "print()\n",
    "if (w1 in ws):\n",
    "    w2=input(\"and write other word: \")\n",
    "    for i,e in enumerate (ws):\n",
    "        if (w1 == e):\n",
    "            ws.remove(w1)\n",
    "            ws.insert(i,w2)\n",
    "    print(ws)\n",
    "else:\n",
    "    print(\"this word does not exist\")"
   ]
  },
  {
   "cell_type": "markdown",
   "metadata": {},
   "source": [
    "### dos o mas materias perdidas"
   ]
  },
  {
   "cell_type": "code",
   "execution_count": 28,
   "metadata": {},
   "outputs": [
    {
     "name": "stdout",
     "output_type": "stream",
     "text": [
      "write the name of the students: erfgh\n",
      "write the note of the student: tghj\n"
     ]
    },
    {
     "ename": "ValueError",
     "evalue": "invalid literal for int() with base 10: 'tghj'",
     "output_type": "error",
     "traceback": [
      "\u001b[1;31m---------------------------------------------------------------------------\u001b[0m",
      "\u001b[1;31mValueError\u001b[0m                                Traceback (most recent call last)",
      "\u001b[1;32m<ipython-input-28-bb7e0fd405c5>\u001b[0m in \u001b[0;36m<module>\u001b[1;34m\u001b[0m\n\u001b[0;32m      6\u001b[0m     \u001b[0mnameStudent\u001b[0m\u001b[1;33m.\u001b[0m\u001b[0mappend\u001b[0m\u001b[1;33m(\u001b[0m\u001b[0mstudent\u001b[0m\u001b[1;33m)\u001b[0m\u001b[1;33m\u001b[0m\u001b[1;33m\u001b[0m\u001b[0m\n\u001b[0;32m      7\u001b[0m \u001b[1;33m\u001b[0m\u001b[0m\n\u001b[1;32m----> 8\u001b[1;33m     \u001b[0mnote\u001b[0m\u001b[1;33m=\u001b[0m\u001b[0mint\u001b[0m\u001b[1;33m(\u001b[0m\u001b[0minput\u001b[0m\u001b[1;33m(\u001b[0m\u001b[1;34m\"write the note of the student: \"\u001b[0m\u001b[1;33m)\u001b[0m\u001b[1;33m)\u001b[0m\u001b[1;33m\u001b[0m\u001b[1;33m\u001b[0m\u001b[0m\n\u001b[0m\u001b[0;32m      9\u001b[0m     \u001b[1;32mif\u001b[0m \u001b[1;33m(\u001b[0m\u001b[0mnote\u001b[0m \u001b[1;33m<\u001b[0m \u001b[1;36m3.5\u001b[0m \u001b[1;33m)\u001b[0m\u001b[1;33m:\u001b[0m\u001b[1;33m\u001b[0m\u001b[1;33m\u001b[0m\u001b[0m\n\u001b[0;32m     10\u001b[0m         \u001b[0mcont\u001b[0m\u001b[1;33m+=\u001b[0m\u001b[1;36m1\u001b[0m\u001b[1;33m\u001b[0m\u001b[1;33m\u001b[0m\u001b[0m\n",
      "\u001b[1;31mValueError\u001b[0m: invalid literal for int() with base 10: 'tghj'"
     ]
    }
   ],
   "source": [
    "classList=[\"Matemáticas\",\"Física\",\"Química\",\"Historia\",\"Lengua\"]\n",
    "nameStudent=[]\n",
    "cont=0\n",
    "for i in range (5):\n",
    "    student=input(\"write the name of the students: \")\n",
    "    nameStudent.append(student)\n",
    "    \n",
    "    note=int(input(\"write the note of the student: \"))\n",
    "    if (note < 3.5 ):\n",
    "        cont+=1\n",
    "print(cont)\n",
    "print(nameStudent)\n"
   ]
  },
  {
   "cell_type": "code",
   "execution_count": null,
   "metadata": {},
   "outputs": [],
   "source": []
  },
  {
   "cell_type": "code",
   "execution_count": 27,
   "metadata": {},
   "outputs": [
    {
     "ename": "IndentationError",
     "evalue": "unexpected indent (<ipython-input-27-376d5404181c>, line 5)",
     "output_type": "error",
     "traceback": [
      "\u001b[1;36m  File \u001b[1;32m\"<ipython-input-27-376d5404181c>\"\u001b[1;36m, line \u001b[1;32m5\u001b[0m\n\u001b[1;33m    for i,classs in classList:\u001b[0m\n\u001b[1;37m    ^\u001b[0m\n\u001b[1;31mIndentationError\u001b[0m\u001b[1;31m:\u001b[0m unexpected indent\n"
     ]
    }
   ],
   "source": [
    "classList=[\"Matemáticas\",\"Física\",\"Química\",\"Historia\",\"Lengua\"]\n",
    "noteClass=[]\n",
    "loser=[] \n",
    "    \n",
    "    for i,classs in classList:\n",
    "        name=\n",
    "        note=int(input(\"write the note: \")               \n",
    "        noteClass.append(note)\n",
    "        if ( note < 3.5 ):\n",
    "            loser.append(classs)"
   ]
  },
  {
   "cell_type": "markdown",
   "metadata": {},
   "source": [
    "## francia"
   ]
  },
  {
   "cell_type": "code",
   "execution_count": 1,
   "metadata": {},
   "outputs": [
    {
     "name": "stdout",
     "output_type": "stream",
     "text": [
      "[0.66, 0.78, 0.98, 0.2]\n"
     ]
    }
   ],
   "source": [
    "success_estimates = {\n",
    "        'Australia': [0.6, 0.33, 0.11, 0.14],\n",
    "        'France': [0.66, 0.78, 0.98, 0.2],\n",
    "        'Italy': [0.6],\n",
    "        'Brazil': [0.22, 0.22, 0.43],\n",
    "        'USA': [0.2, 0.5, 0.3],\n",
    "        'England': [0.45],\n",
    "        'Canada': [0.25, 0.3],\n",
    "        'Argentina': [0.22],\n",
    "        'Greece': [0.45, 0.66, 0.75, 0.99, 0.15, 0.66],\n",
    "        'Morocco': [0.29],\n",
    "        'Tunisia': [0.68, 0.56],\n",
    "        'Egypt': [0.99],\n",
    "        'Jamaica': [0.61, 0.65, 0.71],\n",
    "        'Switzerland': [0.73, 0.86, 0.84, 0.51, 0.99],\n",
    "        'Germany': [0.45, 0.49, 0.36]\n",
    "}\n",
    "France_list = success_estimates['France'] \n",
    "print(France_list)   \n",
    "    "
   ]
  },
  {
   "cell_type": "markdown",
   "metadata": {},
   "source": [
    "## grecia"
   ]
  },
  {
   "cell_type": "code",
   "execution_count": null,
   "metadata": {},
   "outputs": [],
   "source": [
    "grecia_list = success_estimates['Greece'] \n",
    "print(set(grecia_list)) "
   ]
  },
  {
   "cell_type": "markdown",
   "metadata": {},
   "source": [
    "## francia y grecia"
   ]
  },
  {
   "cell_type": "code",
   "execution_count": 7,
   "metadata": {},
   "outputs": [
    {
     "name": "stdout",
     "output_type": "stream",
     "text": [
      "{0.66}\n"
     ]
    }
   ],
   "source": [
    "Greece_list =set( success_estimates['Greece']) \n",
    "France_list = set(success_estimates['France'] )\n",
    "print(Greece_list.intersection(France_list))"
   ]
  },
  {
   "cell_type": "markdown",
   "metadata": {},
   "source": [
    "## 4 paises"
   ]
  },
  {
   "cell_type": "code",
   "execution_count": 18,
   "metadata": {},
   "outputs": [
    {
     "name": "stdout",
     "output_type": "stream",
     "text": [
      "('Jamaica', 'Australia', 'France', 'Argentina')\n",
      "the country Jamaica have [0.61, 0.65, 0.71] :\n",
      "the country Australia have [0.6, 0.33, 0.11, 0.14] :\n",
      "the country France have [0.66, 0.78, 0.98, 0.2] :\n",
      "the country Argentina have [0.22] :\n"
     ]
    }
   ],
   "source": [
    "tuple1=(\"Jamaica\",'Australia','France','Argentina')\n",
    "\n",
    "for paises in tuple1:\n",
    "    print(\"the country {} have {} :\".format(paises,success_estimates[paises]))"
   ]
  },
  {
   "cell_type": "markdown",
   "metadata": {},
   "source": [
    "## todos los paises"
   ]
  },
  {
   "cell_type": "code",
   "execution_count": 2,
   "metadata": {
    "scrolled": true
   },
   "outputs": [
    {
     "name": "stdout",
     "output_type": "stream",
     "text": [
      "Australia\n",
      "France\n",
      "Italy\n",
      "Brazil\n",
      "USA\n",
      "England\n",
      "Canada\n",
      "Greece\n",
      "Morocco\n",
      "Tunisia\n",
      "Egypt\n",
      "Switzerland\n",
      "Germany\n"
     ]
    }
   ],
   "source": [
    "for key, value in success_estimates.items():\n",
    "    if (key==\"Argentina\" or key==\"Jamaica\"):\n",
    "            continue\n",
    "    else:\n",
    "        print(key)"
   ]
  },
  {
   "cell_type": "markdown",
   "metadata": {},
   "source": [
    "## valores de los paises"
   ]
  },
  {
   "cell_type": "code",
   "execution_count": 64,
   "metadata": {},
   "outputs": [
    {
     "name": "stdout",
     "output_type": "stream",
     "text": [
      "the value in Australia is: 4 \n",
      "the value in France is: 4 \n",
      "the value in Italy is: 1 \n",
      "the value in Brazil is: 3 \n",
      "the value in USA is: 3 \n",
      "the value in England is: 1 \n",
      "the value in Canada is: 2 \n",
      "the value in Argentina is: 1 \n",
      "the value in Greece is: 6 \n",
      "the value in Morocco is: 1 \n",
      "the value in Tunisia is: 2 \n",
      "the value in Egypt is: 1 \n",
      "the value in Jamaica is: 3 \n",
      "the value in Switzerland is: 5 \n",
      "the value in Germany is: 3 \n",
      "the total values of all countries is: 40\n"
     ]
    }
   ],
   "source": [
    "success_estimates = {\n",
    "        'Australia': [0.6, 0.33, 0.11, 0.14],\n",
    "        'France': [0.66, 0.78, 0.98, 0.2],\n",
    "        'Italy': [0.6],\n",
    "        'Brazil': [0.22, 0.22, 0.43],\n",
    "        'USA': [0.2, 0.5, 0.3],\n",
    "        'England': [0.45],\n",
    "        'Canada': [0.25, 0.3],\n",
    "        'Argentina': [0.22],\n",
    "        'Greece': [0.45, 0.66, 0.75, 0.99, 0.15, 0.66],\n",
    "        'Morocco': [0.29],\n",
    "        'Tunisia': [0.68, 0.56],\n",
    "        'Egypt': [0.99],\n",
    "        'Jamaica': [0.61, 0.65, 0.71],\n",
    "        'Switzerland': [0.73, 0.86, 0.84, 0.51, 0.99],\n",
    "        'Germany': [0.45, 0.49, 0.36]\n",
    "}\n",
    "acum=0\n",
    "for key,value in success_estimates.items():\n",
    "    print(\"the value in {} is: {} \".format(key,len(value)))\n",
    "    acum+=len(value)\n",
    "print(\"the total values of all countries is: {}\".format())       "
   ]
  },
  {
   "cell_type": "markdown",
   "metadata": {},
   "source": [
    "##  Cédula, Nombre, Apellido, Edad"
   ]
  },
  {
   "cell_type": "code",
   "execution_count": 81,
   "metadata": {
    "scrolled": true
   },
   "outputs": [
    {
     "name": "stdout",
     "output_type": "stream",
     "text": [
      "write your identification: 12345\n",
      "write your name: david\n",
      "write your last name: ossa\n",
      "write your age: 14\n",
      "{'identification': '12345', 'name': 'david', 'lastName': 'ossa', 'age': 14}\n"
     ]
    }
   ],
   "source": [
    "dicc={}\n",
    "identification=input(\"write your identification: \")\n",
    "dicc[\"identification\"]=identification\n",
    "name=input((\"write your name: \"))\n",
    "dicc[\"name\"]=name\n",
    "lastname=input((\"write your last name: \"))\n",
    "dicc[\"lastName\"]=lastname\n",
    "age=int(input(\"write your age: \"))\n",
    "dicc[\"age\"]=age\n",
    "print(dicc)"
   ]
  },
  {
   "cell_type": "markdown",
   "metadata": {},
   "source": [
    "## si escribe nombre"
   ]
  },
  {
   "cell_type": "code",
   "execution_count": 30,
   "metadata": {
    "scrolled": true
   },
   "outputs": [
    {
     "name": "stdout",
     "output_type": "stream",
     "text": [
      "\n",
      "write the field : y\n",
      "write thing : o\n",
      "\n",
      "write the field : p\n",
      "write thing : ko\n",
      "\n",
      "write the field : io\n",
      "write thing : o\n",
      "\n",
      "{'y': 'o', 'p': 'ko', 'io': 'o'}\n"
     ]
    }
   ],
   "source": [
    "dicc={}\n",
    "for i in range (3):\n",
    "    print()\n",
    "    field1=input(\"write the field : \")\n",
    "    thing1=input(\"write thing : \")\n",
    "    dicc[field1]=thing1\n",
    "print()       \n",
    "print(dicc)\n",
    "if (\"name\"in dicc.keys()):\n",
    "    print(\"hello {} \".format(dicc[\"name\"]))\n"
   ]
  },
  {
   "cell_type": "markdown",
   "metadata": {},
   "source": [
    "### names and lastnames"
   ]
  },
  {
   "cell_type": "code",
   "execution_count": 23,
   "metadata": {},
   "outputs": [
    {
     "name": "stdout",
     "output_type": "stream",
     "text": [
      "write the name 1: 1\n",
      "write the latsname 1: 2\n",
      "write the name 2: 1\n",
      "write the latsname 2: 2\n",
      "write the name 3: 1\n",
      "write the latsname 3: 2\n",
      "write the name 4: 1\n",
      "write the latsname 4: 2\n",
      "write the name 5: 1\n",
      "write the latsname 5: 2\n",
      "{'name': ['1', '1', '1', '1', '1'], 'lastname': ['2', '2', '2', '2', '2']}\n"
     ]
    }
   ],
   "source": [
    "dicc={\n",
    "    \"name\" : [],\n",
    "    \"lastname\" : [],\n",
    "}\n",
    "for i in range (1,6):\n",
    "    names=input(\"write the name {}: \".format(i))\n",
    "    dicc[\"name\"].append(names)\n",
    "    lastnames=input(\"write the latsname {}: \".format(i))\n",
    "    dicc[\"lastname\"].append(lastnames)\n",
    "print(dicc)"
   ]
  },
  {
   "cell_type": "markdown",
   "metadata": {},
   "source": [
    "### datos personales"
   ]
  },
  {
   "cell_type": "code",
   "execution_count": 53,
   "metadata": {},
   "outputs": [
    {
     "name": "stdout",
     "output_type": "stream",
     "text": [
      "write the identification name 0: 1018230810\n",
      "write name 0: david alejandro\n",
      "write the lastname 0: ossa ospina\n",
      "type F or M for your gender : m\n",
      "are you single or married : single\n",
      "write the identification name 1: 14673235682727\n",
      "write name 1: pedro\n",
      "write the lastname 1: ospina\n",
      "type F or M for your gender : m\n",
      "are you single or married : single\n",
      "MR. david alejandro ossa ospina identified with the number 1018230810 is single.\n",
      "MR. pedro ospina identified with the number 14673235682727 is single.\n"
     ]
    }
   ],
   "source": [
    "dicc={}\n",
    "cont=0\n",
    "names1=[]\n",
    "for i in range (2):\n",
    "    identification=input(\"write the identification name {}: \".format(i))\n",
    "    names1.append(identification) \n",
    "    name=input(\"write name {}: \".format(i))\n",
    "    names1.append(name)\n",
    "    lastname=input(\"write the lastname {}: \".format(i))\n",
    "    names1.append(lastname)\n",
    "    gender=input(\"type F or M for your gender : \")\n",
    "    names1.append(gender)\n",
    "    SingleOrMarried=input(\"are you single or married : \")\n",
    "    names1.append(SingleOrMarried)\n",
    "    cont+=1\n",
    "    dicc[cont]=names1\n",
    "    names1=[]\n",
    "    print()\n",
    "for key,value in dicc.items():\n",
    "    if (value[3]==\"m\"):\n",
    "        abbr=\"MR\"\n",
    "    else:\n",
    "        abbr=\"MIS\"\n",
    "    print(\"{}. {} {} identified with the number {} is {}.\".format(abbr,value[1],value[2],value[0],value[4]))\n"
   ]
  },
  {
   "cell_type": "markdown",
   "metadata": {},
   "source": [
    "## estratos"
   ]
  },
  {
   "cell_type": "markdown",
   "metadata": {},
   "source": [
    "## cual informacion quiere ver "
   ]
  },
  {
   "cell_type": "code",
   "execution_count": 15,
   "metadata": {},
   "outputs": [
    {
     "name": "stdout",
     "output_type": "stream",
     "text": [
      "escriba la cedula 1: 1018230810\n",
      "escriba el nombre 1:david\n",
      "escriba el apelido 1: ossa\n",
      "escriba la edad 1: 15\n",
      "escriba el genero 1: hombre\n",
      "escriba la cedula 2: 21717127272\n",
      "escriba el nombre 2:pedro\n",
      "escriba el apelido 2: ospina\n",
      "escriba la edad 2: 24\n",
      "escriba el genero 2: hombre\n",
      "escriba la identidad de la persona que quiere ver: 1018230810\n",
      "[1018230810, 'david', 'ossa', 15, 'hombre']\n"
     ]
    }
   ],
   "source": [
    "info=[]\n",
    "dicc={}\n",
    "for i in range (1,3):\n",
    "    identidad=int(input(\"escriba la cedula {}: \".format(i)))\n",
    "    info.append(identidad)\n",
    "    nombre=input(\"escriba el nombre {}:\".format(i) )\n",
    "    info.append(nombre)\n",
    "    apellido=input(\"escriba el apelido {}: \".format(i))\n",
    "    info.append(apellido)\n",
    "    edad=int(input(\"escriba la edad {}: \".format(i)))\n",
    "    info.append(edad)\n",
    "    genero=input(\"escriba el genero {}: \".format(i))\n",
    "    info.append(genero)\n",
    "    dicc[identidad]=info\n",
    "    info=[]\n",
    "persona=int(input(\"escriba la identidad de la persona que quiere ver: \"))\n",
    "if (persona in dicc):\n",
    "    print(dicc[persona])\n",
    "else:\n",
    "    print(\"esta persona no existe\")\n"
   ]
  },
  {
   "cell_type": "code",
   "execution_count": 13,
   "metadata": {},
   "outputs": [
    {
     "name": "stdout",
     "output_type": "stream",
     "text": [
      "write the stratum: 1\n",
      "write your age: 2\n",
      "write your salary: 3\n",
      "do you want to continue: yes\n",
      "write the stratum: 1\n",
      "write your age: 4\n",
      "write your salary: 5\n",
      "do you want to continue: yes\n",
      "write the stratum: 2\n",
      "write your age: 3\n",
      "write your salary: 4\n",
      "do you want to continue: no\n"
     ]
    },
    {
     "ename": "TypeError",
     "evalue": "cannot unpack non-iterable int object",
     "output_type": "error",
     "traceback": [
      "\u001b[1;31m---------------------------------------------------------------------------\u001b[0m",
      "\u001b[1;31mTypeError\u001b[0m                                 Traceback (most recent call last)",
      "\u001b[1;32m<ipython-input-13-0ed469f5d27b>\u001b[0m in \u001b[0;36m<module>\u001b[1;34m\u001b[0m\n\u001b[0;32m     12\u001b[0m         \u001b[0mdicc\u001b[0m\u001b[1;33m[\u001b[0m\u001b[0mstratum\u001b[0m\u001b[1;33m]\u001b[0m\u001b[1;33m=\u001b[0m\u001b[1;33m{\u001b[0m\u001b[1;34m\"age\"\u001b[0m\u001b[1;33m:\u001b[0m\u001b[1;33m[\u001b[0m\u001b[0mage\u001b[0m\u001b[1;33m]\u001b[0m\u001b[1;33m,\u001b[0m\u001b[1;34m\"salary\"\u001b[0m\u001b[1;33m:\u001b[0m\u001b[1;33m[\u001b[0m\u001b[0msalary\u001b[0m\u001b[1;33m]\u001b[0m\u001b[1;33m}\u001b[0m\u001b[1;33m\u001b[0m\u001b[1;33m\u001b[0m\u001b[0m\n\u001b[0;32m     13\u001b[0m     \u001b[0mcontinuee\u001b[0m\u001b[1;33m=\u001b[0m\u001b[0minput\u001b[0m\u001b[1;33m(\u001b[0m\u001b[1;34m\"do you want to continue: \"\u001b[0m\u001b[1;33m)\u001b[0m\u001b[1;33m\u001b[0m\u001b[1;33m\u001b[0m\u001b[0m\n\u001b[1;32m---> 14\u001b[1;33m \u001b[1;32mfor\u001b[0m \u001b[0mage\u001b[0m\u001b[1;33m,\u001b[0m\u001b[0msalary\u001b[0m\u001b[1;33m,\u001b[0m\u001b[0mstratum\u001b[0m \u001b[1;32min\u001b[0m \u001b[0mdicc\u001b[0m\u001b[1;33m:\u001b[0m\u001b[1;33m\u001b[0m\u001b[1;33m\u001b[0m\u001b[0m\n\u001b[0m\u001b[0;32m     15\u001b[0m     \u001b[0mprint\u001b[0m\u001b[1;33m(\u001b[0m\u001b[0mstratum\u001b[0m\u001b[1;33m)\u001b[0m\u001b[1;33m\u001b[0m\u001b[1;33m\u001b[0m\u001b[0m\n\u001b[0;32m     16\u001b[0m     \u001b[0mprint\u001b[0m\u001b[1;33m(\u001b[0m\u001b[0mage\u001b[0m\u001b[1;33m)\u001b[0m\u001b[1;33m\u001b[0m\u001b[1;33m\u001b[0m\u001b[0m\n",
      "\u001b[1;31mTypeError\u001b[0m: cannot unpack non-iterable int object"
     ]
    }
   ],
   "source": [
    "info=[]\n",
    "dicc={}\n",
    "continuee=\"yes\"\n",
    "while (continuee==\"yes\"):\n",
    "    stratum=int(input(\"write the stratum: \"))\n",
    "    age=input(\"write your age: \")\n",
    "    salary=input(\"write your salary: \")\n",
    "    if (stratum in dicc):\n",
    "        dicc[stratum][\"age\"].append(age)\n",
    "        dicc[stratum][\"salary\"].append(salary)\n",
    "    else:\n",
    "        dicc[stratum]={\"age\":[age],\"salary\":[salary]}\n",
    "    continuee=input(\"do you want to continue: \")\n",
    "print(\"all the socal class typed and organized ascendingly are \",sorted(dicc))\n",
    "for key,value in sorted (dicc.items()):\n",
    "    \n",
    "   \n",
    "    \n",
    "\n",
    "\n",
    "\n"
   ]
  },
  {
   "cell_type": "code",
   "execution_count": 14,
   "metadata": {},
   "outputs": [
    {
     "name": "stdout",
     "output_type": "stream",
     "text": [
      "{1: {'age': ['2', '4'], 'salary': ['3', '5']}, 2: {'age': ['3'], 'salary': ['4']}}\n"
     ]
    }
   ],
   "source": [
    "print(dicc)"
   ]
  },
  {
   "cell_type": "code",
   "execution_count": null,
   "metadata": {},
   "outputs": [],
   "source": [
    "info = [('Pedro',24,\"M\"), ('David',14,\"M\"), (\"Ale\",35,\"F\"),('Omar',30,\"M\"),(\"Eli\",30,\"F\"),(\"Andrea\",35,\"F\")]\n",
    "dictInfo = {}\n",
    "\n",
    "for name,age,gender in info:\n",
    "    if(gender in dictInfo):\n",
    "        dictInfo[gender][\"names\"].append(name)\n",
    "        dictInfo[gender][\"ages\"].append(age)\n",
    "    else:\n",
    "        dictInfo[gender] = {\"names\": [name], \"ages\": [age]}\n",
    "dictInfo\n",
    "\n",
    "\n",
    "print(\"\\nIterating a dict\\n\")\n",
    "\n",
    "for label,values in dictInfo.items():\n",
    "    print(label)\n",
    "    print(values)\n",
    "    print(max(values[\"ages\"]))\n",
    "    print()"
   ]
  }
 ],
 "metadata": {
  "kernelspec": {
   "display_name": "Python 3",
   "language": "python",
   "name": "python3"
  },
  "language_info": {
   "codemirror_mode": {
    "name": "ipython",
    "version": 3
   },
   "file_extension": ".py",
   "mimetype": "text/x-python",
   "name": "python",
   "nbconvert_exporter": "python",
   "pygments_lexer": "ipython3",
   "version": "3.7.6"
  }
 },
 "nbformat": 4,
 "nbformat_minor": 4
}
