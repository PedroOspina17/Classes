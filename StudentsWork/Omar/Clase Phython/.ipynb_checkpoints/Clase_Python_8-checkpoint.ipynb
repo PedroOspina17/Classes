{
 "cells": [
  {
   "cell_type": "markdown",
   "metadata": {},
   "source": [
    "# Ejm_0"
   ]
  },
  {
   "cell_type": "code",
   "execution_count": 15,
   "metadata": {},
   "outputs": [
    {
     "name": "stdout",
     "output_type": "stream",
     "text": [
      "Las 2 primeras letras de la palabra 'separar' son: 's' y 'e'\n"
     ]
    }
   ],
   "source": [
    "p=\"separar\"\n",
    "l=p[0] \n",
    "l1=p[1]\n",
    "print(\"Las 2 primeras letras de la palabra 'separar' son: '{}' y '{}'\".format(l,l1))"
   ]
  },
  {
   "cell_type": "markdown",
   "metadata": {},
   "source": [
    "# Ejm_1"
   ]
  },
  {
   "cell_type": "code",
   "execution_count": 16,
   "metadata": {},
   "outputs": [
    {
     "name": "stdout",
     "output_type": "stream",
     "text": [
      "Las ultimas 3 letras de la plabra 'separar'son: 'r','a' y 'r'\n"
     ]
    }
   ],
   "source": [
    "p=\"separar\"\n",
    "l4=p[4]\n",
    "l5=p[5]\n",
    "l6=p[6]\n",
    "print(\"Las ultimas 3 letras de la plabra 'separar'son: '{}','{}' y '{}'\".format(l4,l5,l6))"
   ]
  },
  {
   "cell_type": "markdown",
   "metadata": {},
   "source": [
    "# Ejm_2"
   ]
  },
  {
   "cell_type": "code",
   "execution_count": 12,
   "metadata": {},
   "outputs": [
    {
     "name": "stdout",
     "output_type": "stream",
     "text": [
      "Digite una palabra:omar\n",
      "Escriba el caracter que desea ingresar entre letras:#\n",
      "La palabra 'omar' estará dividida por '#' \n",
      "Palabra separada: o#m#a#r\n"
     ]
    }
   ],
   "source": [
    "p=input(\"Digite una palabra:\")\n",
    "c=input(\"Escriba el caracter que desea ingresar entre letras:\")\n",
    "print(\"La palabra '{}' estará dividida por '{}' \".format(p,c))\n",
    "print(\"Palabra separada:\",p.replace(\"\",c)[1:-1])"
   ]
  },
  {
   "cell_type": "markdown",
   "metadata": {},
   "source": [
    "# Ejm_3"
   ]
  },
  {
   "cell_type": "code",
   "execution_count": 26,
   "metadata": {},
   "outputs": [
    {
     "name": "stdout",
     "output_type": "stream",
     "text": [
      "Ingrese cadena:hola mundo desde casa\n",
      "Escriba palabras:desde casa\n",
      "desde casa hace parte de hola mundo desde casa\n"
     ]
    }
   ],
   "source": [
    "cad=input(\"Ingrese cadena:\")\n",
    "sub_c=input(\"Escriba palabra:\")\n",
    "if (sub_c in cad):\n",
    "    print(\"{} hace parte de {}\".format(sub_c, cad))"
   ]
  },
  {
   "cell_type": "markdown",
   "metadata": {},
   "source": [
    "# Ejm_4"
   ]
  },
  {
   "cell_type": "code",
   "execution_count": 2,
   "metadata": {},
   "outputs": [
    {
     "name": "stdout",
     "output_type": "stream",
     "text": [
      "Digite la cadena:Apenas empece a hacer el taller\n",
      "Apenas_empece_a_hacer_el_taller\n"
     ]
    }
   ],
   "source": [
    "cad=input(\"Digite la cadena:\")\n",
    "print(cad.replace(\" \",\"_\"))\n"
   ]
  },
  {
   "cell_type": "markdown",
   "metadata": {},
   "source": [
    "# Ejm_5"
   ]
  },
  {
   "cell_type": "code",
   "execution_count": 42,
   "metadata": {
    "scrolled": true
   },
   "outputs": [
    {
     "name": "stdout",
     "output_type": "stream",
     "text": [
      "Digite la cadena:450 veces\n",
      "450 veces\n"
     ]
    },
    {
     "ename": "TypeError",
     "evalue": "'>' not supported between instances of 'str' and 'int'",
     "output_type": "error",
     "traceback": [
      "\u001b[1;31m---------------------------------------------------------------------------\u001b[0m",
      "\u001b[1;31mTypeError\u001b[0m                                 Traceback (most recent call last)",
      "\u001b[1;32m<ipython-input-42-0461e4eb0726>\u001b[0m in \u001b[0;36m<module>\u001b[1;34m\u001b[0m\n\u001b[0;32m      3\u001b[0m \u001b[0mprint\u001b[0m\u001b[1;33m(\u001b[0m\u001b[0mnum\u001b[0m\u001b[1;33m)\u001b[0m\u001b[1;33m\u001b[0m\u001b[1;33m\u001b[0m\u001b[0m\n\u001b[0;32m      4\u001b[0m \u001b[1;32mfor\u001b[0m \u001b[0mnum\u001b[0m \u001b[1;32min\u001b[0m \u001b[0mcad\u001b[0m\u001b[1;33m:\u001b[0m\u001b[1;33m\u001b[0m\u001b[1;33m\u001b[0m\u001b[0m\n\u001b[1;32m----> 5\u001b[1;33m     \u001b[1;32mif\u001b[0m\u001b[1;33m(\u001b[0m\u001b[0mcad\u001b[0m\u001b[1;33m>\u001b[0m\u001b[1;36m0\u001b[0m \u001b[1;32mor\u001b[0m \u001b[0mcad\u001b[0m\u001b[1;33m<\u001b[0m\u001b[1;36m0\u001b[0m\u001b[1;33m)\u001b[0m\u001b[1;33m:\u001b[0m\u001b[1;33m\u001b[0m\u001b[1;33m\u001b[0m\u001b[0m\n\u001b[0m\u001b[0;32m      6\u001b[0m         \u001b[0mprint\u001b[0m\u001b[1;33m(\u001b[0m\u001b[0mcad\u001b[0m\u001b[1;33m.\u001b[0m\u001b[0mreplace\u001b[0m\u001b[1;33m(\u001b[0m\u001b[0mnum\u001b[0m\u001b[1;33m,\u001b[0m\u001b[1;34m\"#\"\u001b[0m\u001b[1;33m)\u001b[0m\u001b[1;33m)\u001b[0m\u001b[1;33m\u001b[0m\u001b[1;33m\u001b[0m\u001b[0m\n",
      "\u001b[1;31mTypeError\u001b[0m: '>' not supported between instances of 'str' and 'int'"
     ]
    }
   ],
   "source": [
    "cad=input(\"Digite la cadena:\")\n",
    "num=str(cad)\n",
    "print(num)\n",
    "for num in cad:\n",
    "    if(cad>0 or cad<0):\n",
    "        print(cad.replace(num,\"#\"))"
   ]
  }
 ],
 "metadata": {
  "kernelspec": {
   "display_name": "Python 3",
   "language": "python",
   "name": "python3"
  },
  "language_info": {
   "codemirror_mode": {
    "name": "ipython",
    "version": 3
   },
   "file_extension": ".py",
   "mimetype": "text/x-python",
   "name": "python",
   "nbconvert_exporter": "python",
   "pygments_lexer": "ipython3",
   "version": "3.7.6"
  }
 },
 "nbformat": 4,
 "nbformat_minor": 4
}
